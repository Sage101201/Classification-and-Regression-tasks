{
  "cells": [
    {
      "cell_type": "markdown",
      "metadata": {
        "id": "X9V5ptJAIEbw"
      },
      "source": [
        "# FIT5197 2024 S1 Final Assessment\n",
        "\n"
      ]
    },
    {
      "cell_type": "markdown",
      "metadata": {
        "id": "FkfAwCwbg7is"
      },
      "source": [
        "**YOUR NAME**: Anish S\n",
        "\n",
        "**STUDENT ID**: 34113339\n",
        "\n",
        "**KAGGLE NAME/ID** : Anish_101201\n",
        "\n",
        "Please also enter your details in this [google form](https://forms.gle/isxqfrVnV7ddAj8y8)."
      ]
    },
    {
      "cell_type": "markdown",
      "source": [
        "**NOTE:**\n",
        "- I've originally built my regression and classification models using kaggle notebook. The performance measures computed for each of the XGBoost models built are slightly different from what I obtained on kaggle despite the use of seed measures to keep the output fixed (reproducability). But this must not affect my final predictions too much."
      ],
      "metadata": {
        "id": "2O3TwMedHkJH"
      }
    },
    {
      "cell_type": "markdown",
      "metadata": {
        "id": "f_u6Dyj1xehk"
      },
      "source": [
        "# Part 1 Regression (50 Marks)"
      ]
    },
    {
      "cell_type": "markdown",
      "metadata": {
        "id": "marked-instrument"
      },
      "source": [
        "A few thousand people were questioned in a [life and wellbeing survey](https://www.get-happier.com/) to build a model to predict happiness of an individual. You need to build regression models to optimally predict the variable in the survey dataset called 'happiness' based on any, or all, of the other survey question responses.\n",
        "\n",
        "You have been provided with two datasets, ```regression_train.csv``` and ```regression_test.csv```. Using these datasets, you hope to build a model that can predict happiness level using the other variables. ```regression_train.csv``` comes with the ground-truth target label (i.e. happiness level) whereas `regression_test.csv` comes with independent variables (input information) only.\n",
        "\n",
        "On the order of around 70 survey questions have been converted into predictor variables that can be used to predict happiness. We do not list all the predictor names here, but their names given in the data header can clearly be linked to the survey questions. e.g., the predictor variable 'iDontFeelParticularlyPleasedWithTheWayIAm' corresponds to the survey question 'I don’t feel particularly pleased with the way I am.'"
      ]
    },
    {
      "cell_type": "code",
      "source": [
        "# Reading the datasets\n",
        "train_data <- read.csv('regression_train.csv')\n",
        "test_data <- read.csv('regression_test.csv')"
      ],
      "metadata": {
        "id": "A7l1B_ynj9X6"
      },
      "execution_count": 170,
      "outputs": []
    },
    {
      "cell_type": "code",
      "source": [
        "summary(train_data)"
      ],
      "metadata": {
        "colab": {
          "base_uri": "https://localhost:8080/",
          "height": 2932
        },
        "id": "AhZJYCOHkYLA",
        "outputId": "8af194f5-7615-4ff9-ee52-0fb9ead91f50"
      },
      "execution_count": 171,
      "outputs": [
        {
          "output_type": "display_data",
          "data": {
            "text/plain": [
              "    gender             income         \n",
              " Length:500         Length:500        \n",
              " Class :character   Class :character  \n",
              " Mode  :character   Mode  :character  \n",
              "                                      \n",
              "                                      \n",
              "                                      \n",
              " whatIsYourHeightExpressItAsANumberInMetresM\n",
              " Length:500                                 \n",
              " Class :character                           \n",
              " Mode  :character                           \n",
              "                                            \n",
              "                                            \n",
              "                                            \n",
              " doYouFeelASenseOfPurposeAndMeaningInYourLife104\n",
              " Length:500                                     \n",
              " Class :character                               \n",
              " Mode  :character                               \n",
              "                                                \n",
              "                                                \n",
              "                                                \n",
              " howDoYouReconcileSpiritualBeliefsWithScientificOrRationalThinki\n",
              " Length:500                                                     \n",
              " Class :character                                               \n",
              " Mode  :character                                               \n",
              "                                                                \n",
              "                                                                \n",
              "                                                                \n",
              " howOftenDoYouFeelSociallyConnectedWithYourPeersAndFriends\n",
              " Length:500                                               \n",
              " Class :character                                         \n",
              " Mode  :character                                         \n",
              "                                                          \n",
              "                                                          \n",
              "                                                          \n",
              " doYouHaveASupportSystemOfFriendsAndFamilyToTurnToWhenNeeded\n",
              " Length:500                                                 \n",
              " Class :character                                           \n",
              " Mode  :character                                           \n",
              "                                                            \n",
              "                                                            \n",
              "                                                            \n",
              " howOftenDoYouParticipateInSocialActivitiesIncludingClubsSportsV\n",
              " Length:500                                                     \n",
              " Class :character                                               \n",
              " Mode  :character                                               \n",
              "                                                                \n",
              "                                                                \n",
              "                                                                \n",
              " doYouFeelComfortableEngagingInConversationsWithPeopleFromDiffer\n",
              " Length:500                                                     \n",
              " Class :character                                               \n",
              " Mode  :character                                               \n",
              "                                                                \n",
              "                                                                \n",
              "                                                                \n",
              " doYouFeelASenseOfPurposeAndMeaningInYourLife105 alwaysAnxious   \n",
              " Length:500                                      Min.   :-2.000  \n",
              " Class :character                                1st Qu.:-2.000  \n",
              " Mode  :character                                Median :-1.000  \n",
              "                                                 Mean   :-0.548  \n",
              "                                                 3rd Qu.: 0.000  \n",
              "                                                 Max.   : 2.000  \n",
              " alwaysStressed   alwaysAccountableAndResponsibleForYourActions   alwaysCalm\n",
              " Min.   :-2.000   Min.   :-2.000                                Min.   :-2  \n",
              " 1st Qu.:-2.000   1st Qu.: 0.000                                1st Qu.:-1  \n",
              " Median : 0.000   Median : 1.000                                Median : 0  \n",
              " Mean   :-0.416   Mean   : 0.794                                Mean   : 0  \n",
              " 3rd Qu.: 1.000   3rd Qu.: 1.000                                3rd Qu.: 1  \n",
              " Max.   : 2.000   Max.   : 2.000                                Max.   : 2  \n",
              " myBodyIsHypermobileAndLovesToMove alwaysHaveFun    alwaysSerious   \n",
              " Min.   :-2.000                    Min.   :-2.000   Min.   :-2.000  \n",
              " 1st Qu.:-1.000                    1st Qu.:-1.000   1st Qu.:-1.000  \n",
              " Median : 0.000                    Median : 0.000   Median : 0.000  \n",
              " Mean   :-0.154                    Mean   :-0.036   Mean   :-0.304  \n",
              " 3rd Qu.: 1.000                    3rd Qu.: 1.000   3rd Qu.: 0.000  \n",
              " Max.   : 2.000                    Max.   : 2.000   Max.   : 2.000  \n",
              " alwaysDepressed alwaysLoveAndCareForYourself extremelyGoodAbilityToSense\n",
              " Min.   :-2.00   Min.   :-2.000               Min.   :-2.0               \n",
              " 1st Qu.:-2.00   1st Qu.: 0.000               1st Qu.: 0.0               \n",
              " Median :-1.00   Median : 0.000               Median : 1.0               \n",
              " Mean   :-0.83   Mean   : 0.204               Mean   : 0.5               \n",
              " 3rd Qu.: 0.00   3rd Qu.: 1.000               3rd Qu.: 1.0               \n",
              " Max.   : 2.00   Max.   : 2.000               Max.   : 2.0               \n",
              " alwaysHaveDigestiveProblems iAmIntenselyInterestedInOtherPeople\n",
              " Min.   :-2.000              Min.   :-2.00                      \n",
              " 1st Qu.:-2.000              1st Qu.:-1.00                      \n",
              " Median :-1.000              Median : 0.00                      \n",
              " Mean   :-0.664              Mean   :-0.17                      \n",
              " 3rd Qu.: 0.000              3rd Qu.: 1.00                      \n",
              " Max.   : 2.000              Max.   : 2.00                      \n",
              " iRarelyWakeUpFeelingRested iFindMostThingsAmusing\n",
              " Min.   :-2.000             Min.   :-2.000        \n",
              " 1st Qu.:-1.000             1st Qu.: 0.000        \n",
              " Median : 0.000             Median : 0.000        \n",
              " Mean   :-0.128             Mean   : 0.048        \n",
              " 3rd Qu.: 1.000             3rd Qu.: 1.000        \n",
              " Max.   : 2.000             Max.   : 2.000        \n",
              " iAmAlwaysCommittedAndInvolved iDoNotThinkThatTheWorldIsAGoodPlace\n",
              " Min.   :-2.000                Min.   :-2.000                     \n",
              " 1st Qu.: 0.000                1st Qu.:-1.000                     \n",
              " Median : 0.000                Median :-1.000                     \n",
              " Mean   : 0.228                Mean   :-0.482                     \n",
              " 3rd Qu.: 1.000                3rd Qu.: 0.000                     \n",
              " Max.   : 2.000                Max.   : 2.000                     \n",
              " iAmWellSatisfiedAboutEverythingInMyLife iFindBeautyInSomeThings\n",
              " Min.   :-2.000                          Min.   :-1.000         \n",
              " 1st Qu.:-1.000                          1st Qu.: 0.000         \n",
              " Median : 0.000                          Median : 1.000         \n",
              " Mean   :-0.216                          Mean   : 0.904         \n",
              " 3rd Qu.: 1.000                          3rd Qu.: 1.000         \n",
              " Max.   : 2.000                          Max.   : 2.000         \n",
              " iAlwaysHaveACheerfulEffectOnOthers iFeelThatIAmNotEspeciallyInControlOfMyLife\n",
              " Min.   :-2.000                     Min.   :-2.000                            \n",
              " 1st Qu.: 0.000                     1st Qu.:-1.000                            \n",
              " Median : 0.000                     Median : 0.000                            \n",
              " Mean   : 0.182                     Mean   :-0.342                            \n",
              " 3rd Qu.: 1.000                     3rd Qu.: 1.000                            \n",
              " Max.   : 2.000                     Max.   : 2.000                            \n",
              " iUsuallyHaveAGoodInfluenceOnEvents iDontHaveFunWithOtherPeople\n",
              " Min.   :-2.000                     Min.   :-2.000             \n",
              " 1st Qu.: 0.000                     1st Qu.:-2.000             \n",
              " Median : 0.000                     Median :-1.000             \n",
              " Mean   : 0.072                     Mean   :-0.756             \n",
              " 3rd Qu.: 1.000                     3rd Qu.: 0.000             \n",
              " Max.   : 2.000                     Max.   : 2.000             \n",
              " alwaysEngageInPreparingAndUsingYourSkillsAndTalentsInOrderToGai\n",
              " Min.   :-2.000                                                 \n",
              " 1st Qu.: 0.000                                                 \n",
              " Median : 0.500                                                 \n",
              " Mean   : 0.312                                                 \n",
              " 3rd Qu.: 1.000                                                 \n",
              " Max.   : 2.000                                                 \n",
              " alwaysMakingProgress extremelyGoodCommunicator\n",
              " Min.   :-2.000       Min.   :-2.000           \n",
              " 1st Qu.: 0.000       1st Qu.: 0.000           \n",
              " Median : 1.000       Median : 0.000           \n",
              " Mean   : 0.434       Mean   : 0.104           \n",
              " 3rd Qu.: 1.000       3rd Qu.: 1.000           \n",
              " Max.   : 2.000       Max.   : 2.000           \n",
              " iDontFeelParticularlyPleasedWithTheWayIAm iFeelThatLifeIsVeryRewarding\n",
              " Min.   :-2.00                             Min.   :-2.000              \n",
              " 1st Qu.:-1.00                             1st Qu.: 0.000              \n",
              " Median : 0.00                             Median : 0.000              \n",
              " Mean   :-0.17                             Mean   : 0.262              \n",
              " 3rd Qu.: 1.00                             3rd Qu.: 1.000              \n",
              " Max.   : 2.00                             Max.   : 2.000              \n",
              " iHaveVeryWarmFeelingsTowardsAlmostEveryone\n",
              " Min.   :-2.000                            \n",
              " 1st Qu.:-1.000                            \n",
              " Median : 0.000                            \n",
              " Mean   : 0.122                            \n",
              " 3rd Qu.: 1.000                            \n",
              " Max.   : 2.000                            \n",
              " iAmNotParticularlyOptimisticAboutTheFuture   lifeIsGood       iLaughALot   \n",
              " Min.   :-2.000                             Min.   :-2.000   Min.   :-2.00  \n",
              " 1st Qu.:-1.000                             1st Qu.: 0.000   1st Qu.: 0.00  \n",
              " Median : 0.000                             Median : 1.000   Median : 0.00  \n",
              " Mean   :-0.418                             Mean   : 0.474   Mean   : 0.19  \n",
              " 3rd Qu.: 1.000                             3rd Qu.: 1.000   3rd Qu.: 1.00  \n",
              " Max.   : 2.000                             Max.   : 2.000   Max.   : 2.00  \n",
              " iDontThinkILookAttractive   happiness       \n",
              " Min.   :-2.000            Min.   :-43.9638  \n",
              " 1st Qu.:-1.000            1st Qu.: -9.1106  \n",
              " Median : 0.000            Median : -1.4087  \n",
              " Mean   :-0.394            Mean   : -0.7136  \n",
              " 3rd Qu.: 0.000            3rd Qu.:  7.5050  \n",
              " Max.   : 2.000            Max.   : 40.5404  "
            ]
          },
          "metadata": {}
        }
      ]
    },
    {
      "cell_type": "code",
      "source": [
        "str(test_data)"
      ],
      "metadata": {
        "colab": {
          "base_uri": "https://localhost:8080/",
          "height": 0
        },
        "id": "p5sbAz-rk61E",
        "outputId": "383fe0d3-0580-4f1f-d644-fec344144af8"
      },
      "execution_count": 172,
      "outputs": [
        {
          "output_type": "stream",
          "name": "stdout",
          "text": [
            "'data.frame':\t90 obs. of  42 variables:\n",
            " $ gender                                                         : chr  \"Female\" \"Female\" \"Female\" \"Female\" ...\n",
            " $ income                                                         : chr  \"0 - 10k\" \"0 - 10k\" \"20k - 50k\" \"50k - 80k\" ...\n",
            " $ whatIsYourHeightExpressItAsANumberInMetresM                    : chr  \"170 - 175\" \"160 - 165\" \"170 - 175\" \"160 - 165\" ...\n",
            " $ doYouFeelASenseOfPurposeAndMeaningInYourLife104                : chr  \"Yes\" \"Yes\" \"Yes\" \"Yes\" ...\n",
            " $ howDoYouReconcileSpiritualBeliefsWithScientificOrRationalThinki: chr  \"They complement each other\" \"They complement each other\" \"They complement each other\" \"They complement each other\" ...\n",
            " $ howOftenDoYouFeelSociallyConnectedWithYourPeersAndFriends      : chr  \"Sometimes\" \"Rarely\" \"Sometimes\" \"Rarely\" ...\n",
            " $ doYouHaveASupportSystemOfFriendsAndFamilyToTurnToWhenNeeded    : chr  \"Yes, I have both\" \"No\" \"Yes, I have both\" \"Yes, I have both\" ...\n",
            " $ howOftenDoYouParticipateInSocialActivitiesIncludingClubsSportsV: chr  \"At least once a week\" \"Rarely\" \"Rarely\" \"At least once a month\" ...\n",
            " $ doYouFeelComfortableEngagingInConversationsWithPeopleFromDiffer: chr  \"Always\" \"Sometimes\" \"Always\" \"Sometimes\" ...\n",
            " $ doYouFeelASenseOfPurposeAndMeaningInYourLife105                : chr  \"Yes\" \"No\" \"Yes\" \"Yes\" ...\n",
            " $ alwaysAnxious                                                  : int  -1 2 1 -1 -1 -1 0 1 -1 -1 ...\n",
            " $ alwaysStressed                                                 : int  0 2 -1 -1 -1 0 -1 1 0 -1 ...\n",
            " $ alwaysAccountableAndResponsibleForYourActions                  : int  2 1 1 2 1 2 2 0 1 1 ...\n",
            " $ alwaysCalm                                                     : int  0 -1 1 0 -1 2 1 -2 1 0 ...\n",
            " $ myBodyIsHypermobileAndLovesToMove                              : int  1 0 -1 1 -1 0 -2 1 2 0 ...\n",
            " $ alwaysHaveFun                                                  : int  1 -1 1 -1 -1 2 1 -1 -1 0 ...\n",
            " $ alwaysSerious                                                  : int  -1 1 1 1 0 0 1 0 -1 1 ...\n",
            " $ alwaysDepressed                                                : int  -1 1 -2 0 -1 -1 0 1 -1 -1 ...\n",
            " $ alwaysLoveAndCareForYourself                                   : int  1 -1 2 1 -1 1 0 -1 -1 0 ...\n",
            " $ extremelyGoodAbilityToSense                                    : int  1 1 1 2 0 2 2 1 2 1 ...\n",
            " $ alwaysHaveDigestiveProblems                                    : int  -1 -1 1 -2 -1 -1 -1 1 0 0 ...\n",
            " $ iAmIntenselyInterestedInOtherPeople                            : int  1 1 -1 1 0 1 1 0 -2 1 ...\n",
            " $ iRarelyWakeUpFeelingRested                                     : int  -1 2 -1 1 -1 1 -2 1 1 -1 ...\n",
            " $ iFindMostThingsAmusing                                         : int  0 -1 1 1 0 1 1 0 1 1 ...\n",
            " $ iAmAlwaysCommittedAndInvolved                                  : int  1 1 -1 2 0 1 1 1 -1 1 ...\n",
            " $ iDoNotThinkThatTheWorldIsAGoodPlace                            : int  -2 2 -2 -1 -2 -1 2 1 1 -1 ...\n",
            " $ iAmWellSatisfiedAboutEverythingInMyLife                        : int  0 -2 1 1 0 1 0 -1 -2 1 ...\n",
            " $ iFindBeautyInSomeThings                                        : int  -1 0 1 2 1 1 1 0 2 1 ...\n",
            " $ iAlwaysHaveACheerfulEffectOnOthers                             : int  0 -2 0 1 0 1 2 0 1 0 ...\n",
            " $ iFeelThatIAmNotEspeciallyInControlOfMyLife                     : int  -1 2 -1 -1 0 -1 1 1 1 -1 ...\n",
            " $ iUsuallyHaveAGoodInfluenceOnEvents                             : int  1 -1 0 0 1 1 -2 0 1 0 ...\n",
            " $ iDontHaveFunWithOtherPeople                                    : int  -1 1 -1 0 -1 -1 0 0 1 -1 ...\n",
            " $ alwaysEngageInPreparingAndUsingYourSkillsAndTalentsInOrderToGai: int  1 0 1 0 1 1 0 1 1 1 ...\n",
            " $ alwaysMakingProgress                                           : int  1 0 2 -1 1 1 1 0 1 1 ...\n",
            " $ extremelyGoodCommunicator                                      : int  1 1 -1 1 0 2 0 -1 0 -1 ...\n",
            " $ iDontFeelParticularlyPleasedWithTheWayIAm                      : int  -1 2 -2 -1 -1 1 1 1 1 -1 ...\n",
            " $ iFeelThatLifeIsVeryRewarding                                   : int  1 -1 2 1 1 1 0 -1 -1 1 ...\n",
            " $ iHaveVeryWarmFeelingsTowardsAlmostEveryone                     : int  1 0 -1 1 0 0 2 0 0 1 ...\n",
            " $ iAmNotParticularlyOptimisticAboutTheFuture                     : int  -1 0 -1 1 -2 -1 0 1 0 -1 ...\n",
            " $ lifeIsGood                                                     : int  1 -1 1 1 1 1 0 -1 -1 1 ...\n",
            " $ iLaughALot                                                     : int  1 -1 1 1 1 1 1 0 0 0 ...\n",
            " $ iDontThinkILookAttractive                                      : int  0 2 -1 -1 -1 -1 2 1 -2 0 ...\n"
          ]
        }
      ]
    },
    {
      "cell_type": "markdown",
      "metadata": {
        "id": "3-Gbtyt1g7iv"
      },
      "source": [
        "**PLEASE NOTE THAT THE USE OF LIBRARIES ARE PROHIBITED IN THESE QUESTIONS UNLESS STATED OTHERWISE, ANSWERS USING LIBRARIES WILL RECEIVE 0 MARKS**"
      ]
    },
    {
      "cell_type": "markdown",
      "metadata": {
        "id": "wound-marriage"
      },
      "source": [
        "## Question 1 (NO LIBRARIES ALLOWED) (4 Mark)\n",
        "Please load the ```regression_train.csv``` and fit a [$\\textbf{multiple linear regression model}$](https://en.wikipedia.org/wiki/Linear_regression) with 'happiness' being the target variable. According to the summary table, which predictors do you think are possibly associated with the target variable (use the significance level of 0.01), and which are the **Top 5** strongest predictors? Please write an R script to automatically fetch and print this information.\n",
        "\n",
        "**NOTE**: Manually doing the above tasks will result in 0 marks."
      ]
    },
    {
      "cell_type": "code",
      "execution_count": 174,
      "metadata": {
        "vscode": {
          "languageId": "r"
        },
        "colab": {
          "base_uri": "https://localhost:8080/",
          "height": 6350
        },
        "id": "wlAoKSBoi3M8",
        "outputId": "ecdcbeed-4fa6-44cf-a632-c01eb9fc78e9"
      },
      "outputs": [
        {
          "output_type": "display_data",
          "data": {
            "text/plain": [
              "\n",
              "Call:\n",
              "lm(formula = happiness ~ ., data = train_data)\n",
              "\n",
              "Residuals:\n",
              "     Min       1Q   Median       3Q      Max \n",
              "-28.1452  -3.9453   0.3826   4.4246  21.9552 \n",
              "\n",
              "Coefficients:\n",
              "                                                                                             Estimate\n",
              "(Intercept)                                                                                 -22.13827\n",
              "genderMale                                                                                   -0.37455\n",
              "genderOther                                                                                  -1.26593\n",
              "income10k - 15k                                                                               6.26812\n",
              "income120k - 150k                                                                            11.37302\n",
              "income150k - 200k                                                                            11.71840\n",
              "income15k - 20k                                                                              15.44791\n",
              "income200k above                                                                             20.10990\n",
              "income20k - 50k                                                                              20.83961\n",
              "income50k - 80k                                                                              28.54698\n",
              "income80k - 120k                                                                             37.31599\n",
              "whatIsYourHeightExpressItAsANumberInMetresM150 - 155                                          1.77780\n",
              "whatIsYourHeightExpressItAsANumberInMetresM155 - 160                                          2.52568\n",
              "whatIsYourHeightExpressItAsANumberInMetresM160 - 165                                          3.07133\n",
              "whatIsYourHeightExpressItAsANumberInMetresM165 - 170                                          3.25441\n",
              "whatIsYourHeightExpressItAsANumberInMetresM170 - 175                                          4.66196\n",
              "whatIsYourHeightExpressItAsANumberInMetresM175 - 180                                          6.10432\n",
              "whatIsYourHeightExpressItAsANumberInMetresM180 - 185                                          7.28611\n",
              "whatIsYourHeightExpressItAsANumberInMetresM185 - 190                                          6.73230\n",
              "whatIsYourHeightExpressItAsANumberInMetresM190 above                                          3.91134\n",
              "doYouFeelASenseOfPurposeAndMeaningInYourLife104Yes                                            3.60137\n",
              "howDoYouReconcileSpiritualBeliefsWithScientificOrRationalThinkiThey complement each other     0.02106\n",
              "howDoYouReconcileSpiritualBeliefsWithScientificOrRationalThinkiThey conflict                  1.62993\n",
              "howOftenDoYouFeelSociallyConnectedWithYourPeersAndFriendsNever                               -1.42196\n",
              "howOftenDoYouFeelSociallyConnectedWithYourPeersAndFriendsRarely                              -1.03534\n",
              "howOftenDoYouFeelSociallyConnectedWithYourPeersAndFriendsSometimes                            0.24311\n",
              "doYouHaveASupportSystemOfFriendsAndFamilyToTurnToWhenNeededYes, I have both                   1.37015\n",
              "doYouHaveASupportSystemOfFriendsAndFamilyToTurnToWhenNeededYes, I have family                 1.43010\n",
              "doYouHaveASupportSystemOfFriendsAndFamilyToTurnToWhenNeededYes, I have friends                1.95758\n",
              "howOftenDoYouParticipateInSocialActivitiesIncludingClubsSportsVAt least once a week           0.13541\n",
              "howOftenDoYouParticipateInSocialActivitiesIncludingClubsSportsVMore than three times a week  -0.09439\n",
              "howOftenDoYouParticipateInSocialActivitiesIncludingClubsSportsVNo                             1.31031\n",
              "howOftenDoYouParticipateInSocialActivitiesIncludingClubsSportsVRarely                         1.06458\n",
              "doYouFeelComfortableEngagingInConversationsWithPeopleFromDifferNever                         -0.37949\n",
              "doYouFeelComfortableEngagingInConversationsWithPeopleFromDifferRarely                        -1.79104\n",
              "doYouFeelComfortableEngagingInConversationsWithPeopleFromDifferSometimes                     -2.07671\n",
              "doYouFeelASenseOfPurposeAndMeaningInYourLife105Yes                                            0.61265\n",
              "alwaysAnxious                                                                                -0.70956\n",
              "alwaysStressed                                                                               -1.06439\n",
              "alwaysAccountableAndResponsibleForYourActions                                                 0.63133\n",
              "alwaysCalm                                                                                    0.32241\n",
              "myBodyIsHypermobileAndLovesToMove                                                             0.20434\n",
              "alwaysHaveFun                                                                                 0.52050\n",
              "alwaysSerious                                                                                -0.45424\n",
              "alwaysDepressed                                                                              -0.49073\n",
              "alwaysLoveAndCareForYourself                                                                 -0.19722\n",
              "extremelyGoodAbilityToSense                                                                  -0.18352\n",
              "alwaysHaveDigestiveProblems                                                                   0.24390\n",
              "iAmIntenselyInterestedInOtherPeople                                                           0.15196\n",
              "iRarelyWakeUpFeelingRested                                                                   -0.38546\n",
              "iFindMostThingsAmusing                                                                        0.56152\n",
              "iAmAlwaysCommittedAndInvolved                                                                -0.92811\n",
              "iDoNotThinkThatTheWorldIsAGoodPlace                                                          -0.62862\n",
              "iAmWellSatisfiedAboutEverythingInMyLife                                                       0.31713\n",
              "iFindBeautyInSomeThings                                                                       0.24885\n",
              "iAlwaysHaveACheerfulEffectOnOthers                                                            0.87485\n",
              "iFeelThatIAmNotEspeciallyInControlOfMyLife                                                   -0.33512\n",
              "iUsuallyHaveAGoodInfluenceOnEvents                                                            0.54071\n",
              "iDontHaveFunWithOtherPeople                                                                  -0.21717\n",
              "alwaysEngageInPreparingAndUsingYourSkillsAndTalentsInOrderToGai                              -0.12485\n",
              "alwaysMakingProgress                                                                         -0.38730\n",
              "extremelyGoodCommunicator                                                                    -0.38523\n",
              "iDontFeelParticularlyPleasedWithTheWayIAm                                                    -0.30112\n",
              "iFeelThatLifeIsVeryRewarding                                                                 -0.26344\n",
              "iHaveVeryWarmFeelingsTowardsAlmostEveryone                                                    0.06874\n",
              "iAmNotParticularlyOptimisticAboutTheFuture                                                   -0.11009\n",
              "lifeIsGood                                                                                    0.51227\n",
              "iLaughALot                                                                                    0.91968\n",
              "iDontThinkILookAttractive                                                                     0.49081\n",
              "                                                                                            Std. Error\n",
              "(Intercept)                                                                                    3.51973\n",
              "genderMale                                                                                     0.87926\n",
              "genderOther                                                                                    2.36888\n",
              "income10k - 15k                                                                                1.23870\n",
              "income120k - 150k                                                                              1.23404\n",
              "income150k - 200k                                                                              1.24343\n",
              "income15k - 20k                                                                                1.28093\n",
              "income200k above                                                                               1.37883\n",
              "income20k - 50k                                                                                1.58251\n",
              "income50k - 80k                                                                                1.73829\n",
              "income80k - 120k                                                                               1.65485\n",
              "whatIsYourHeightExpressItAsANumberInMetresM150 - 155                                           2.32852\n",
              "whatIsYourHeightExpressItAsANumberInMetresM155 - 160                                           2.13459\n",
              "whatIsYourHeightExpressItAsANumberInMetresM160 - 165                                           2.11952\n",
              "whatIsYourHeightExpressItAsANumberInMetresM165 - 170                                           2.11997\n",
              "whatIsYourHeightExpressItAsANumberInMetresM170 - 175                                           2.16226\n",
              "whatIsYourHeightExpressItAsANumberInMetresM175 - 180                                           2.20615\n",
              "whatIsYourHeightExpressItAsANumberInMetresM180 - 185                                           2.37916\n",
              "whatIsYourHeightExpressItAsANumberInMetresM185 - 190                                           2.98571\n",
              "whatIsYourHeightExpressItAsANumberInMetresM190 above                                           4.37462\n",
              "doYouFeelASenseOfPurposeAndMeaningInYourLife104Yes                                             1.95292\n",
              "howDoYouReconcileSpiritualBeliefsWithScientificOrRationalThinkiThey complement each other      0.80943\n",
              "howDoYouReconcileSpiritualBeliefsWithScientificOrRationalThinkiThey conflict                   1.15035\n",
              "howOftenDoYouFeelSociallyConnectedWithYourPeersAndFriendsNever                                 1.32839\n",
              "howOftenDoYouFeelSociallyConnectedWithYourPeersAndFriendsRarely                                1.20654\n",
              "howOftenDoYouFeelSociallyConnectedWithYourPeersAndFriendsSometimes                             1.19771\n",
              "doYouHaveASupportSystemOfFriendsAndFamilyToTurnToWhenNeededYes, I have both                    1.19326\n",
              "doYouHaveASupportSystemOfFriendsAndFamilyToTurnToWhenNeededYes, I have family                  1.33843\n",
              "doYouHaveASupportSystemOfFriendsAndFamilyToTurnToWhenNeededYes, I have friends                 2.11404\n",
              "howOftenDoYouParticipateInSocialActivitiesIncludingClubsSportsVAt least once a week            0.97690\n",
              "howOftenDoYouParticipateInSocialActivitiesIncludingClubsSportsVMore than three times a week    1.04940\n",
              "howOftenDoYouParticipateInSocialActivitiesIncludingClubsSportsVNo                              1.20884\n",
              "howOftenDoYouParticipateInSocialActivitiesIncludingClubsSportsVRarely                          1.36096\n",
              "doYouFeelComfortableEngagingInConversationsWithPeopleFromDifferNever                           0.99503\n",
              "doYouFeelComfortableEngagingInConversationsWithPeopleFromDifferRarely                          1.00313\n",
              "doYouFeelComfortableEngagingInConversationsWithPeopleFromDifferSometimes                       0.99081\n",
              "doYouFeelASenseOfPurposeAndMeaningInYourLife105Yes                                             0.96195\n",
              "alwaysAnxious                                                                                  0.36536\n",
              "alwaysStressed                                                                                 0.37264\n",
              "alwaysAccountableAndResponsibleForYourActions                                                  0.43754\n",
              "alwaysCalm                                                                                     0.32573\n",
              "myBodyIsHypermobileAndLovesToMove                                                              0.30582\n",
              "alwaysHaveFun                                                                                  0.35384\n",
              "alwaysSerious                                                                                  0.31774\n",
              "alwaysDepressed                                                                                0.39392\n",
              "alwaysLoveAndCareForYourself                                                                   0.37340\n",
              "extremelyGoodAbilityToSense                                                                    0.37600\n",
              "alwaysHaveDigestiveProblems                                                                    0.33796\n",
              "iAmIntenselyInterestedInOtherPeople                                                            0.32080\n",
              "iRarelyWakeUpFeelingRested                                                                     0.30313\n",
              "iFindMostThingsAmusing                                                                         0.33785\n",
              "iAmAlwaysCommittedAndInvolved                                                                  0.36857\n",
              "iDoNotThinkThatTheWorldIsAGoodPlace                                                            0.33747\n",
              "iAmWellSatisfiedAboutEverythingInMyLife                                                        0.36391\n",
              "iFindBeautyInSomeThings                                                                        0.52548\n",
              "iAlwaysHaveACheerfulEffectOnOthers                                                             0.36295\n",
              "iFeelThatIAmNotEspeciallyInControlOfMyLife                                                     0.33620\n",
              "iUsuallyHaveAGoodInfluenceOnEvents                                                             0.36773\n",
              "iDontHaveFunWithOtherPeople                                                                    0.36874\n",
              "alwaysEngageInPreparingAndUsingYourSkillsAndTalentsInOrderToGai                                0.35585\n",
              "alwaysMakingProgress                                                                           0.38882\n",
              "extremelyGoodCommunicator                                                                      0.33945\n",
              "iDontFeelParticularlyPleasedWithTheWayIAm                                                      0.32468\n",
              "iFeelThatLifeIsVeryRewarding                                                                   0.37907\n",
              "iHaveVeryWarmFeelingsTowardsAlmostEveryone                                                     0.33089\n",
              "iAmNotParticularlyOptimisticAboutTheFuture                                                     0.32363\n",
              "lifeIsGood                                                                                     0.45159\n",
              "iLaughALot                                                                                     0.37435\n",
              "iDontThinkILookAttractive                                                                      0.32189\n",
              "                                                                                            t value\n",
              "(Intercept)                                                                                  -6.290\n",
              "genderMale                                                                                   -0.426\n",
              "genderOther                                                                                  -0.534\n",
              "income10k - 15k                                                                               5.060\n",
              "income120k - 150k                                                                             9.216\n",
              "income150k - 200k                                                                             9.424\n",
              "income15k - 20k                                                                              12.060\n",
              "income200k above                                                                             14.585\n",
              "income20k - 50k                                                                              13.169\n",
              "income50k - 80k                                                                              16.422\n",
              "income80k - 120k                                                                             22.549\n",
              "whatIsYourHeightExpressItAsANumberInMetresM150 - 155                                          0.763\n",
              "whatIsYourHeightExpressItAsANumberInMetresM155 - 160                                          1.183\n",
              "whatIsYourHeightExpressItAsANumberInMetresM160 - 165                                          1.449\n",
              "whatIsYourHeightExpressItAsANumberInMetresM165 - 170                                          1.535\n",
              "whatIsYourHeightExpressItAsANumberInMetresM170 - 175                                          2.156\n",
              "whatIsYourHeightExpressItAsANumberInMetresM175 - 180                                          2.767\n",
              "whatIsYourHeightExpressItAsANumberInMetresM180 - 185                                          3.062\n",
              "whatIsYourHeightExpressItAsANumberInMetresM185 - 190                                          2.255\n",
              "whatIsYourHeightExpressItAsANumberInMetresM190 above                                          0.894\n",
              "doYouFeelASenseOfPurposeAndMeaningInYourLife104Yes                                            1.844\n",
              "howDoYouReconcileSpiritualBeliefsWithScientificOrRationalThinkiThey complement each other     0.026\n",
              "howDoYouReconcileSpiritualBeliefsWithScientificOrRationalThinkiThey conflict                  1.417\n",
              "howOftenDoYouFeelSociallyConnectedWithYourPeersAndFriendsNever                               -1.070\n",
              "howOftenDoYouFeelSociallyConnectedWithYourPeersAndFriendsRarely                              -0.858\n",
              "howOftenDoYouFeelSociallyConnectedWithYourPeersAndFriendsSometimes                            0.203\n",
              "doYouHaveASupportSystemOfFriendsAndFamilyToTurnToWhenNeededYes, I have both                   1.148\n",
              "doYouHaveASupportSystemOfFriendsAndFamilyToTurnToWhenNeededYes, I have family                 1.068\n",
              "doYouHaveASupportSystemOfFriendsAndFamilyToTurnToWhenNeededYes, I have friends                0.926\n",
              "howOftenDoYouParticipateInSocialActivitiesIncludingClubsSportsVAt least once a week           0.139\n",
              "howOftenDoYouParticipateInSocialActivitiesIncludingClubsSportsVMore than three times a week  -0.090\n",
              "howOftenDoYouParticipateInSocialActivitiesIncludingClubsSportsVNo                             1.084\n",
              "howOftenDoYouParticipateInSocialActivitiesIncludingClubsSportsVRarely                         0.782\n",
              "doYouFeelComfortableEngagingInConversationsWithPeopleFromDifferNever                         -0.381\n",
              "doYouFeelComfortableEngagingInConversationsWithPeopleFromDifferRarely                        -1.785\n",
              "doYouFeelComfortableEngagingInConversationsWithPeopleFromDifferSometimes                     -2.096\n",
              "doYouFeelASenseOfPurposeAndMeaningInYourLife105Yes                                            0.637\n",
              "alwaysAnxious                                                                                -1.942\n",
              "alwaysStressed                                                                               -2.856\n",
              "alwaysAccountableAndResponsibleForYourActions                                                 1.443\n",
              "alwaysCalm                                                                                    0.990\n",
              "myBodyIsHypermobileAndLovesToMove                                                             0.668\n",
              "alwaysHaveFun                                                                                 1.471\n",
              "alwaysSerious                                                                                -1.430\n",
              "alwaysDepressed                                                                              -1.246\n",
              "alwaysLoveAndCareForYourself                                                                 -0.528\n",
              "extremelyGoodAbilityToSense                                                                  -0.488\n",
              "alwaysHaveDigestiveProblems                                                                   0.722\n",
              "iAmIntenselyInterestedInOtherPeople                                                           0.474\n",
              "iRarelyWakeUpFeelingRested                                                                   -1.272\n",
              "iFindMostThingsAmusing                                                                        1.662\n",
              "iAmAlwaysCommittedAndInvolved                                                                -2.518\n",
              "iDoNotThinkThatTheWorldIsAGoodPlace                                                          -1.863\n",
              "iAmWellSatisfiedAboutEverythingInMyLife                                                       0.871\n",
              "iFindBeautyInSomeThings                                                                       0.474\n",
              "iAlwaysHaveACheerfulEffectOnOthers                                                            2.410\n",
              "iFeelThatIAmNotEspeciallyInControlOfMyLife                                                   -0.997\n",
              "iUsuallyHaveAGoodInfluenceOnEvents                                                            1.470\n",
              "iDontHaveFunWithOtherPeople                                                                  -0.589\n",
              "alwaysEngageInPreparingAndUsingYourSkillsAndTalentsInOrderToGai                              -0.351\n",
              "alwaysMakingProgress                                                                         -0.996\n",
              "extremelyGoodCommunicator                                                                    -1.135\n",
              "iDontFeelParticularlyPleasedWithTheWayIAm                                                    -0.927\n",
              "iFeelThatLifeIsVeryRewarding                                                                 -0.695\n",
              "iHaveVeryWarmFeelingsTowardsAlmostEveryone                                                    0.208\n",
              "iAmNotParticularlyOptimisticAboutTheFuture                                                   -0.340\n",
              "lifeIsGood                                                                                    1.134\n",
              "iLaughALot                                                                                    2.457\n",
              "iDontThinkILookAttractive                                                                     1.525\n",
              "                                                                                            Pr(>|t|)\n",
              "(Intercept)                                                                                 7.81e-10\n",
              "genderMale                                                                                   0.67033\n",
              "genderOther                                                                                  0.59334\n",
              "income10k - 15k                                                                             6.21e-07\n",
              "income120k - 150k                                                                            < 2e-16\n",
              "income150k - 200k                                                                            < 2e-16\n",
              "income15k - 20k                                                                              < 2e-16\n",
              "income200k above                                                                             < 2e-16\n",
              "income20k - 50k                                                                              < 2e-16\n",
              "income50k - 80k                                                                              < 2e-16\n",
              "income80k - 120k                                                                             < 2e-16\n",
              "whatIsYourHeightExpressItAsANumberInMetresM150 - 155                                         0.44559\n",
              "whatIsYourHeightExpressItAsANumberInMetresM155 - 160                                         0.23738\n",
              "whatIsYourHeightExpressItAsANumberInMetresM160 - 165                                         0.14805\n",
              "whatIsYourHeightExpressItAsANumberInMetresM165 - 170                                         0.12549\n",
              "whatIsYourHeightExpressItAsANumberInMetresM170 - 175                                         0.03163\n",
              "whatIsYourHeightExpressItAsANumberInMetresM175 - 180                                         0.00590\n",
              "whatIsYourHeightExpressItAsANumberInMetresM180 - 185                                         0.00233\n",
              "whatIsYourHeightExpressItAsANumberInMetresM185 - 190                                         0.02464\n",
              "whatIsYourHeightExpressItAsANumberInMetresM190 above                                         0.37177\n",
              "doYouFeelASenseOfPurposeAndMeaningInYourLife104Yes                                           0.06586\n",
              "howDoYouReconcileSpiritualBeliefsWithScientificOrRationalThinkiThey complement each other    0.97925\n",
              "howDoYouReconcileSpiritualBeliefsWithScientificOrRationalThinkiThey conflict                 0.15724\n",
              "howOftenDoYouFeelSociallyConnectedWithYourPeersAndFriendsNever                               0.28502\n",
              "howOftenDoYouFeelSociallyConnectedWithYourPeersAndFriendsRarely                              0.39131\n",
              "howOftenDoYouFeelSociallyConnectedWithYourPeersAndFriendsSometimes                           0.83924\n",
              "doYouHaveASupportSystemOfFriendsAndFamilyToTurnToWhenNeededYes, I have both                  0.25151\n",
              "doYouHaveASupportSystemOfFriendsAndFamilyToTurnToWhenNeededYes, I have family                0.28590\n",
              "doYouHaveASupportSystemOfFriendsAndFamilyToTurnToWhenNeededYes, I have friends               0.35497\n",
              "howOftenDoYouParticipateInSocialActivitiesIncludingClubsSportsVAt least once a week          0.88982\n",
              "howOftenDoYouParticipateInSocialActivitiesIncludingClubsSportsVMore than three times a week  0.92837\n",
              "howOftenDoYouParticipateInSocialActivitiesIncludingClubsSportsVNo                            0.27900\n",
              "howOftenDoYouParticipateInSocialActivitiesIncludingClubsSportsVRarely                        0.43451\n",
              "doYouFeelComfortableEngagingInConversationsWithPeopleFromDifferNever                         0.70311\n",
              "doYouFeelComfortableEngagingInConversationsWithPeopleFromDifferRarely                        0.07489\n",
              "doYouFeelComfortableEngagingInConversationsWithPeopleFromDifferSometimes                     0.03667\n",
              "doYouFeelASenseOfPurposeAndMeaningInYourLife105Yes                                           0.52454\n",
              "alwaysAnxious                                                                                0.05278\n",
              "alwaysStressed                                                                               0.00449\n",
              "alwaysAccountableAndResponsibleForYourActions                                                0.14977\n",
              "alwaysCalm                                                                                   0.32283\n",
              "myBodyIsHypermobileAndLovesToMove                                                            0.50439\n",
              "alwaysHaveFun                                                                                0.14203\n",
              "alwaysSerious                                                                                0.15356\n",
              "alwaysDepressed                                                                              0.21353\n",
              "alwaysLoveAndCareForYourself                                                                 0.59764\n",
              "extremelyGoodAbilityToSense                                                                  0.62575\n",
              "alwaysHaveDigestiveProblems                                                                  0.47089\n",
              "iAmIntenselyInterestedInOtherPeople                                                          0.63596\n",
              "iRarelyWakeUpFeelingRested                                                                   0.20420\n",
              "iFindMostThingsAmusing                                                                       0.09723\n",
              "iAmAlwaysCommittedAndInvolved                                                                0.01216\n",
              "iDoNotThinkThatTheWorldIsAGoodPlace                                                          0.06318\n",
              "iAmWellSatisfiedAboutEverythingInMyLife                                                      0.38398\n",
              "iFindBeautyInSomeThings                                                                      0.63605\n",
              "iAlwaysHaveACheerfulEffectOnOthers                                                           0.01635\n",
              "iFeelThatIAmNotEspeciallyInControlOfMyLife                                                   0.31943\n",
              "iUsuallyHaveAGoodInfluenceOnEvents                                                           0.14218\n",
              "iDontHaveFunWithOtherPeople                                                                  0.55620\n",
              "alwaysEngageInPreparingAndUsingYourSkillsAndTalentsInOrderToGai                              0.72587\n",
              "alwaysMakingProgress                                                                         0.31977\n",
              "extremelyGoodCommunicator                                                                    0.25706\n",
              "iDontFeelParticularlyPleasedWithTheWayIAm                                                    0.35423\n",
              "iFeelThatLifeIsVeryRewarding                                                                 0.48746\n",
              "iHaveVeryWarmFeelingsTowardsAlmostEveryone                                                   0.83553\n",
              "iAmNotParticularlyOptimisticAboutTheFuture                                                   0.73389\n",
              "lifeIsGood                                                                                   0.25728\n",
              "iLaughALot                                                                                   0.01441\n",
              "iDontThinkILookAttractive                                                                    0.12805\n",
              "                                                                                               \n",
              "(Intercept)                                                                                 ***\n",
              "genderMale                                                                                     \n",
              "genderOther                                                                                    \n",
              "income10k - 15k                                                                             ***\n",
              "income120k - 150k                                                                           ***\n",
              "income150k - 200k                                                                           ***\n",
              "income15k - 20k                                                                             ***\n",
              "income200k above                                                                            ***\n",
              "income20k - 50k                                                                             ***\n",
              "income50k - 80k                                                                             ***\n",
              "income80k - 120k                                                                            ***\n",
              "whatIsYourHeightExpressItAsANumberInMetresM150 - 155                                           \n",
              "whatIsYourHeightExpressItAsANumberInMetresM155 - 160                                           \n",
              "whatIsYourHeightExpressItAsANumberInMetresM160 - 165                                           \n",
              "whatIsYourHeightExpressItAsANumberInMetresM165 - 170                                           \n",
              "whatIsYourHeightExpressItAsANumberInMetresM170 - 175                                        *  \n",
              "whatIsYourHeightExpressItAsANumberInMetresM175 - 180                                        ** \n",
              "whatIsYourHeightExpressItAsANumberInMetresM180 - 185                                        ** \n",
              "whatIsYourHeightExpressItAsANumberInMetresM185 - 190                                        *  \n",
              "whatIsYourHeightExpressItAsANumberInMetresM190 above                                           \n",
              "doYouFeelASenseOfPurposeAndMeaningInYourLife104Yes                                          .  \n",
              "howDoYouReconcileSpiritualBeliefsWithScientificOrRationalThinkiThey complement each other      \n",
              "howDoYouReconcileSpiritualBeliefsWithScientificOrRationalThinkiThey conflict                   \n",
              "howOftenDoYouFeelSociallyConnectedWithYourPeersAndFriendsNever                                 \n",
              "howOftenDoYouFeelSociallyConnectedWithYourPeersAndFriendsRarely                                \n",
              "howOftenDoYouFeelSociallyConnectedWithYourPeersAndFriendsSometimes                             \n",
              "doYouHaveASupportSystemOfFriendsAndFamilyToTurnToWhenNeededYes, I have both                    \n",
              "doYouHaveASupportSystemOfFriendsAndFamilyToTurnToWhenNeededYes, I have family                  \n",
              "doYouHaveASupportSystemOfFriendsAndFamilyToTurnToWhenNeededYes, I have friends                 \n",
              "howOftenDoYouParticipateInSocialActivitiesIncludingClubsSportsVAt least once a week            \n",
              "howOftenDoYouParticipateInSocialActivitiesIncludingClubsSportsVMore than three times a week    \n",
              "howOftenDoYouParticipateInSocialActivitiesIncludingClubsSportsVNo                              \n",
              "howOftenDoYouParticipateInSocialActivitiesIncludingClubsSportsVRarely                          \n",
              "doYouFeelComfortableEngagingInConversationsWithPeopleFromDifferNever                           \n",
              "doYouFeelComfortableEngagingInConversationsWithPeopleFromDifferRarely                       .  \n",
              "doYouFeelComfortableEngagingInConversationsWithPeopleFromDifferSometimes                    *  \n",
              "doYouFeelASenseOfPurposeAndMeaningInYourLife105Yes                                             \n",
              "alwaysAnxious                                                                               .  \n",
              "alwaysStressed                                                                              ** \n",
              "alwaysAccountableAndResponsibleForYourActions                                                  \n",
              "alwaysCalm                                                                                     \n",
              "myBodyIsHypermobileAndLovesToMove                                                              \n",
              "alwaysHaveFun                                                                                  \n",
              "alwaysSerious                                                                                  \n",
              "alwaysDepressed                                                                                \n",
              "alwaysLoveAndCareForYourself                                                                   \n",
              "extremelyGoodAbilityToSense                                                                    \n",
              "alwaysHaveDigestiveProblems                                                                    \n",
              "iAmIntenselyInterestedInOtherPeople                                                            \n",
              "iRarelyWakeUpFeelingRested                                                                     \n",
              "iFindMostThingsAmusing                                                                      .  \n",
              "iAmAlwaysCommittedAndInvolved                                                               *  \n",
              "iDoNotThinkThatTheWorldIsAGoodPlace                                                         .  \n",
              "iAmWellSatisfiedAboutEverythingInMyLife                                                        \n",
              "iFindBeautyInSomeThings                                                                        \n",
              "iAlwaysHaveACheerfulEffectOnOthers                                                          *  \n",
              "iFeelThatIAmNotEspeciallyInControlOfMyLife                                                     \n",
              "iUsuallyHaveAGoodInfluenceOnEvents                                                             \n",
              "iDontHaveFunWithOtherPeople                                                                    \n",
              "alwaysEngageInPreparingAndUsingYourSkillsAndTalentsInOrderToGai                                \n",
              "alwaysMakingProgress                                                                           \n",
              "extremelyGoodCommunicator                                                                      \n",
              "iDontFeelParticularlyPleasedWithTheWayIAm                                                      \n",
              "iFeelThatLifeIsVeryRewarding                                                                   \n",
              "iHaveVeryWarmFeelingsTowardsAlmostEveryone                                                     \n",
              "iAmNotParticularlyOptimisticAboutTheFuture                                                     \n",
              "lifeIsGood                                                                                     \n",
              "iLaughALot                                                                                  *  \n",
              "iDontThinkILookAttractive                                                                      \n",
              "---\n",
              "Signif. codes:  0 ‘***’ 0.001 ‘**’ 0.01 ‘*’ 0.05 ‘.’ 0.1 ‘ ’ 1\n",
              "\n",
              "Residual standard error: 7.187 on 431 degrees of freedom\n",
              "Multiple R-squared:  0.7685,\tAdjusted R-squared:  0.732 \n",
              "F-statistic: 21.04 on 68 and 431 DF,  p-value: < 2.2e-16\n"
            ]
          },
          "metadata": {}
        }
      ],
      "source": [
        "# Fit a multiple linear regression model with 'happiness' as the target variable\n",
        "qn1_model <- lm(happiness ~ ., data = train_data)\n",
        "\n",
        "# Get the summary of the model\n",
        "model_summary <- summary(qn1_model)\n",
        "\n",
        "model_summary"
      ]
    },
    {
      "cell_type": "code",
      "source": [
        "# Extract the coefficients table\n",
        "coefficients_table <- model_summary$coefficients\n",
        "\n",
        "# Extract the p-values for all predictors\n",
        "p_values <- coefficients_table[, 4]\n",
        "\n",
        "# Get the names of the predictors\n",
        "predictor_names <- rownames(coefficients_table)\n",
        "\n",
        "# Combine the predictor names and their p-values into a data frame\n",
        "predictor_p_values <- data.frame(predictor = predictor_names, p_value = p_values)\n",
        "\n",
        "# Sort the predictors by p-values in ascending order (smallest first)\n",
        "sorted_predictors <- predictor_p_values[order(predictor_p_values$p_value), ]\n",
        "\n",
        "# Select the top 5 strongest predictors based on p-values\n",
        "top_5_predictors <- head(sorted_predictors, 5)\n",
        "\n",
        "# Print the top 5 strongest predictors based on p-values\n",
        "cat(\"Top 5 strongest predictors based on p-values:\\n\")\n",
        "print(top_5_predictors)"
      ],
      "metadata": {
        "colab": {
          "base_uri": "https://localhost:8080/",
          "height": 0
        },
        "id": "HQPgYiHflQth",
        "outputId": "ba648721-0b47-48c0-8c50-5a3b44d890de"
      },
      "execution_count": 175,
      "outputs": [
        {
          "output_type": "stream",
          "name": "stdout",
          "text": [
            "Top 5 strongest predictors based on p-values:\n",
            "                        predictor      p_value\n",
            "income80k - 120k income80k - 120k 6.160552e-75\n",
            "income50k - 80k   income50k - 80k 2.033722e-47\n",
            "income200k above income200k above 1.902543e-39\n",
            "income20k - 50k   income20k - 50k 1.604206e-33\n",
            "income15k - 20k   income15k - 20k 4.650658e-29\n"
          ]
        }
      ]
    },
    {
      "cell_type": "markdown",
      "metadata": {
        "id": "royal-finland"
      },
      "source": [
        "## Question 2 (2 Mark)\n",
        "[**R squared**](https://en.wikipedia.org/wiki/Coefficient_of_determination) from the summary table reflects that the full model doesn't fit the training dataset well; thus, you try to quantify the error between the values of the ground-truth and those of the model prediction. You want to write a function to predict 'happiness' with the given dataset and calculate the [root mean squared error (rMSE)](https://en.wikipedia.org/wiki/Root-mean-square_deviation) between the model predictions and the ground truths. Please test this function on the full model and the training dataset."
      ]
    },
    {
      "cell_type": "code",
      "execution_count": 176,
      "metadata": {
        "vscode": {
          "languageId": "r"
        },
        "id": "vKHfMtWgi3M-"
      },
      "outputs": [],
      "source": [
        "# Define a function to calculate root mean squared error (rMSE)\n",
        "calculate_rmse_qn2 <- function(model, data) {\n",
        "  # Predict 'happiness' using the model\n",
        "  predictions <- predict(model, newdata = data)\n",
        "\n",
        "  # Calculate the residuals (errors)\n",
        "  residuals <- data$happiness - predictions\n",
        "\n",
        "  # Calculate the squared errors\n",
        "  squared_errors <- residuals^2\n",
        "\n",
        "  # Calculate the rmse\n",
        "  rmse <- sqrt(mean(squared_errors))\n",
        "\n",
        "  return(rmse)\n",
        "}"
      ]
    },
    {
      "cell_type": "code",
      "source": [
        "# Test the function on the full model and the training dataset\n",
        "rmse_full_model <- calculate_rmse_qn2(qn1_model, train_data)\n",
        "\n",
        "# Print the rMSE\n",
        "cat(\"Root Mean Squared Error (rMSE) for the full model on the training dataset:\", rmse_full_model, \"\\n\")"
      ],
      "metadata": {
        "colab": {
          "base_uri": "https://localhost:8080/",
          "height": 0
        },
        "id": "5QADvMjeldXC",
        "outputId": "3203dbe3-2be7-456e-9866-838026aebf6e"
      },
      "execution_count": 177,
      "outputs": [
        {
          "output_type": "stream",
          "name": "stdout",
          "text": [
            "Root Mean Squared Error (rMSE) for the full model on the training dataset: 6.672557 \n"
          ]
        }
      ]
    },
    {
      "cell_type": "markdown",
      "metadata": {
        "id": "eight-newman"
      },
      "source": [
        "## Question 3 (2 Marks)\n",
        "You find the full model complicated and try to reduce the complexity by performing [bidirectional stepwise regression](https://en.wikipedia.org/wiki/Stepwise_regression) with [BIC](https://en.wikipedia.org/wiki/Bayesian_information_criterion).\n",
        "\n",
        "Calculate the **rMSE** of this new model with the function that you implemented previously. Is there anything you find unusual? Explain your findings in 100 words."
      ]
    },
    {
      "cell_type": "code",
      "execution_count": 179,
      "metadata": {
        "vscode": {
          "languageId": "r"
        },
        "colab": {
          "base_uri": "https://localhost:8080/",
          "height": 590
        },
        "id": "ZTFvSG32i3M_",
        "outputId": "04126b6e-0644-41be-c14e-6cdbb4244ddf"
      },
      "outputs": [
        {
          "output_type": "display_data",
          "data": {
            "text/plain": [
              "\n",
              "Call:\n",
              "lm(formula = happiness ~ income + alwaysStressed + alwaysHaveFun + \n",
              "    alwaysSerious + alwaysDepressed + iFindMostThingsAmusing + \n",
              "    iUsuallyHaveAGoodInfluenceOnEvents, data = train_data)\n",
              "\n",
              "Residuals:\n",
              "    Min      1Q  Median      3Q     Max \n",
              "-33.365  -4.587  -0.030   5.203  18.888 \n",
              "\n",
              "Coefficients:\n",
              "                                   Estimate Std. Error t value Pr(>|t|)    \n",
              "(Intercept)                        -13.7027     0.6348 -21.587  < 2e-16 ***\n",
              "income10k - 15k                      6.9401     1.2123   5.725 1.82e-08 ***\n",
              "income120k - 150k                   12.4102     1.1859  10.465  < 2e-16 ***\n",
              "income150k - 200k                   12.1301     1.1885  10.206  < 2e-16 ***\n",
              "income15k - 20k                     14.0070     1.1820  11.851  < 2e-16 ***\n",
              "income200k above                    20.6292     1.3292  15.519  < 2e-16 ***\n",
              "income20k - 50k                     22.1535     1.4718  15.052  < 2e-16 ***\n",
              "income50k - 80k                     29.0212     1.6938  17.133  < 2e-16 ***\n",
              "income80k - 120k                    37.5672     1.5353  24.469  < 2e-16 ***\n",
              "alwaysStressed                      -1.7214     0.3071  -5.606 3.49e-08 ***\n",
              "alwaysHaveFun                        0.9188     0.2946   3.119 0.001923 ** \n",
              "alwaysSerious                       -0.7589     0.2981  -2.546 0.011203 *  \n",
              "alwaysDepressed                     -0.9029     0.3651  -2.473 0.013749 *  \n",
              "iFindMostThingsAmusing               0.9958     0.2996   3.324 0.000954 ***\n",
              "iUsuallyHaveAGoodInfluenceOnEvents   1.0721     0.3110   3.448 0.000614 ***\n",
              "---\n",
              "Signif. codes:  0 ‘***’ 0.001 ‘**’ 0.01 ‘*’ 0.05 ‘.’ 0.1 ‘ ’ 1\n",
              "\n",
              "Residual standard error: 7.443 on 485 degrees of freedom\n",
              "Multiple R-squared:  0.7206,\tAdjusted R-squared:  0.7126 \n",
              "F-statistic: 89.36 on 14 and 485 DF,  p-value: < 2.2e-16\n"
            ]
          },
          "metadata": {}
        }
      ],
      "source": [
        "# Perform bidirectional stepwise regression with BIC to reduce model complexity\n",
        "qn3_stepwise_model <- step(qn1_model, direction = \"both\", k = log(nrow(train_data)), trace = FALSE)\n",
        "\n",
        "# Print summary of the stepwise model to check selected predictors and model performance\n",
        "summary(qn3_stepwise_model)"
      ]
    },
    {
      "cell_type": "code",
      "source": [
        "# Calculate the rMSE of the new model\n",
        "rmse_stepwise_model <- calculate_rmse_qn2(qn3_stepwise_model, train_data)\n",
        "\n",
        "# Print the rMSE for the stepwise model\n",
        "cat(\"Root Mean Squared Error (rMSE) for the stepwise model on the training dataset:\", rmse_stepwise_model, \"\\n\")"
      ],
      "metadata": {
        "colab": {
          "base_uri": "https://localhost:8080/",
          "height": 0
        },
        "id": "6A_NEhGflrOm",
        "outputId": "b002dfed-b167-43ae-8373-f80b647ac84f"
      },
      "execution_count": 180,
      "outputs": [
        {
          "output_type": "stream",
          "name": "stdout",
          "text": [
            "Root Mean Squared Error (rMSE) for the stepwise model on the training dataset: 7.330305 \n"
          ]
        }
      ]
    },
    {
      "cell_type": "markdown",
      "source": [
        "- Here, the RMSE of the stepwise model **(7.330305)** is higher than that of the full model **(6.672557)**. This is odd since you'd expect the performance of the regression model to improve once all the non-important predictors (i.e. those that don't contribute much towards predicting 'happiness') are excluded from consideration. This points to the fact that maybe the predictors that seem less important actually influence the outcome 'happiness' in a non-linear manner and that is why there's an increase in RMSE upon their exclusion.\n",
        "\n"
      ],
      "metadata": {
        "id": "5JB7QmbQmhgu"
      }
    },
    {
      "cell_type": "markdown",
      "metadata": {
        "id": "latter-translation"
      },
      "source": [
        "## Question 4 (2 Mark)\n",
        "Although stepwise regression has reduced the model complexity significantly, the model still contains a lot of variables that we want to remove. Therefore, you are interested in lightweight linear regression models with ONLY TWO predictors. Write a script to automatically find the best lightweight model which corresponds to the model with the least **rMSE** on the training dataset. Compare the **rMSE** of the best lightweight model with the **rMSE** of the full model - ```lm.fit``` - that you built previously. Give an explanation for these results based on consideration of the predictors involved."
      ]
    },
    {
      "cell_type": "code",
      "execution_count": 182,
      "metadata": {
        "vscode": {
          "languageId": "r"
        },
        "colab": {
          "base_uri": "https://localhost:8080/",
          "height": 895
        },
        "id": "3y3G2DoJi3M_",
        "outputId": "1b89da37-87e5-4eb5-9a7e-c599f998d7ba"
      },
      "outputs": [
        {
          "output_type": "display_data",
          "data": {
            "text/html": [
              "<ol>\n",
              "\t<li>'income'</li>\n",
              "\t<li>'alwaysStressed'</li>\n",
              "\t<li>'alwaysHaveFun'</li>\n",
              "\t<li>'alwaysSerious'</li>\n",
              "\t<li>'alwaysDepressed'</li>\n",
              "\t<li>'iFindMostThingsAmusing'</li>\n",
              "\t<li>'iUsuallyHaveAGoodInfluenceOnEvents'</li>\n",
              "</ol>\n"
            ],
            "text/markdown": "1. 'income'\n2. 'alwaysStressed'\n3. 'alwaysHaveFun'\n4. 'alwaysSerious'\n5. 'alwaysDepressed'\n6. 'iFindMostThingsAmusing'\n7. 'iUsuallyHaveAGoodInfluenceOnEvents'\n\n\n",
            "text/latex": "\\begin{enumerate}\n\\item 'income'\n\\item 'alwaysStressed'\n\\item 'alwaysHaveFun'\n\\item 'alwaysSerious'\n\\item 'alwaysDepressed'\n\\item 'iFindMostThingsAmusing'\n\\item 'iUsuallyHaveAGoodInfluenceOnEvents'\n\\end{enumerate}\n",
            "text/plain": [
              "[[1]]\n",
              "[1] \"income\"\n",
              "\n",
              "[[2]]\n",
              "[1] \"alwaysStressed\"\n",
              "\n",
              "[[3]]\n",
              "[1] \"alwaysHaveFun\"\n",
              "\n",
              "[[4]]\n",
              "[1] \"alwaysSerious\"\n",
              "\n",
              "[[5]]\n",
              "[1] \"alwaysDepressed\"\n",
              "\n",
              "[[6]]\n",
              "[1] \"iFindMostThingsAmusing\"\n",
              "\n",
              "[[7]]\n",
              "[1] \"iUsuallyHaveAGoodInfluenceOnEvents\"\n"
            ]
          },
          "metadata": {}
        },
        {
          "output_type": "stream",
          "name": "stdout",
          "text": [
            "Model Predictors: income & alwaysStressed \n",
            "rMSE: 7.885411 \n",
            "Model Predictors: income & alwaysHaveFun \n",
            "rMSE: 8.116909 \n",
            "Model Predictors: income & alwaysSerious \n",
            "rMSE: 8.2915 \n",
            "Model Predictors: income & alwaysDepressed \n",
            "rMSE: 8.137129 \n",
            "Model Predictors: income & iFindMostThingsAmusing \n",
            "rMSE: 8.235282 \n",
            "Model Predictors: income & iUsuallyHaveAGoodInfluenceOnEvents \n",
            "rMSE: 8.099345 \n",
            "Model Predictors: alwaysStressed & alwaysHaveFun \n",
            "rMSE: 12.99908 \n",
            "Model Predictors: alwaysStressed & alwaysSerious \n",
            "rMSE: 13.04716 \n",
            "Model Predictors: alwaysStressed & alwaysDepressed \n",
            "rMSE: 12.98925 \n",
            "Model Predictors: alwaysStressed & iFindMostThingsAmusing \n",
            "rMSE: 12.87036 \n",
            "Model Predictors: alwaysStressed & iUsuallyHaveAGoodInfluenceOnEvents \n",
            "rMSE: 12.90073 \n",
            "Model Predictors: alwaysHaveFun & alwaysSerious \n",
            "rMSE: 13.72443 \n",
            "Model Predictors: alwaysHaveFun & alwaysDepressed \n",
            "rMSE: 13.45643 \n",
            "Model Predictors: alwaysHaveFun & iFindMostThingsAmusing \n",
            "rMSE: 13.61194 \n",
            "Model Predictors: alwaysHaveFun & iUsuallyHaveAGoodInfluenceOnEvents \n",
            "rMSE: 13.53716 \n",
            "Model Predictors: alwaysSerious & alwaysDepressed \n",
            "rMSE: 13.53444 \n",
            "Model Predictors: alwaysSerious & iFindMostThingsAmusing \n",
            "rMSE: 13.65362 \n",
            "Model Predictors: alwaysSerious & iUsuallyHaveAGoodInfluenceOnEvents \n",
            "rMSE: 13.56466 \n",
            "Model Predictors: alwaysDepressed & iFindMostThingsAmusing \n",
            "rMSE: 13.40294 \n",
            "Model Predictors: alwaysDepressed & iUsuallyHaveAGoodInfluenceOnEvents \n",
            "rMSE: 13.34174 \n",
            "Model Predictors: iFindMostThingsAmusing & iUsuallyHaveAGoodInfluenceOnEvents \n",
            "rMSE: 13.46824 \n"
          ]
        }
      ],
      "source": [
        "# Get the names of the predictors and the response variable from your MLR model\n",
        "predictor_names <- as.list(attr(terms(qn3_stepwise_model), \"term.labels\"))\n",
        "predictor_names\n",
        "\n",
        "# Initialize variables to store the best model and its rMSE\n",
        "best_model <- NULL\n",
        "best_rmse <- Inf\n",
        "\n",
        "# Iterate over all pairs of predictors\n",
        "for (i in 1:(length(predictor_names) - 1)) {\n",
        "  for (j in (i + 1):length(predictor_names)) {\n",
        "      # predictors selection\n",
        "      predictor1 <- predictor_names[[i]]\n",
        "      predictor2 <- predictor_names[[j]]\n",
        "\n",
        "      formula_string <- paste(\"happiness ~\", predictor1, \"+\", predictor2)\n",
        "\n",
        "      # Fit a linear model with the current pair of predictors\n",
        "      current_model <- lm(formula_string, data = train_data)\n",
        "\n",
        "      # Calculate rMSE\n",
        "      current_rmse <- calculate_rmse_qn2(current_model, train_data)\n",
        "\n",
        "      # Print the Model rMSEs\n",
        "      cat(\"Model Predictors:\", predictor1, \"&\", predictor2, \"\\n\")\n",
        "      cat(\"rMSE:\", current_rmse, \"\\n\")\n",
        "\n",
        "      # Update the best model if this model has a lower rMSE\n",
        "      if (current_rmse < best_rmse) {\n",
        "          best_rmse <- current_rmse\n",
        "          best_model <- current_model\n",
        "      }\n",
        "  }\n",
        "}"
      ]
    },
    {
      "cell_type": "code",
      "source": [
        "predictor_names_qn4_model <- attr(terms(best_model), \"term.labels\")\n",
        "predictor_names_qn4_model"
      ],
      "metadata": {
        "colab": {
          "base_uri": "https://localhost:8080/",
          "height": 34
        },
        "id": "3vWBxQDml9mv",
        "outputId": "ad69aa9f-3e1a-42aa-bda1-ef5d06b6b69f"
      },
      "execution_count": 183,
      "outputs": [
        {
          "output_type": "display_data",
          "data": {
            "text/html": [
              "<style>\n",
              ".list-inline {list-style: none; margin:0; padding: 0}\n",
              ".list-inline>li {display: inline-block}\n",
              ".list-inline>li:not(:last-child)::after {content: \"\\00b7\"; padding: 0 .5ex}\n",
              "</style>\n",
              "<ol class=list-inline><li>'income'</li><li>'alwaysStressed'</li></ol>\n"
            ],
            "text/markdown": "1. 'income'\n2. 'alwaysStressed'\n\n\n",
            "text/latex": "\\begin{enumerate*}\n\\item 'income'\n\\item 'alwaysStressed'\n\\end{enumerate*}\n",
            "text/plain": [
              "[1] \"income\"         \"alwaysStressed\""
            ]
          },
          "metadata": {}
        }
      ]
    },
    {
      "cell_type": "code",
      "source": [
        "# Print the best lightweight model and its rMSE\n",
        "cat(\"Best Lightweight Model Predictors:\", predictor_names_qn4_model, \"\\n\")\n",
        "cat(\"rMSE for Best Lightweight Model:\", best_rmse, \"\\n\")\n",
        "\n",
        "# Print the rMSE of Full Model\n",
        "cat(\"rMSE for the Full Model on the training dataset:\", rmse_full_model, \"\\n\")"
      ],
      "metadata": {
        "colab": {
          "base_uri": "https://localhost:8080/",
          "height": 0
        },
        "id": "tpy0h8oomGg6",
        "outputId": "cbe52795-e289-4239-c563-b1425995aecb"
      },
      "execution_count": 184,
      "outputs": [
        {
          "output_type": "stream",
          "name": "stdout",
          "text": [
            "Best Lightweight Model Predictors: income alwaysStressed \n",
            "rMSE for Best Lightweight Model: 7.885411 \n",
            "rMSE for the Full Model on the training dataset: 6.672557 \n"
          ]
        }
      ]
    },
    {
      "cell_type": "markdown",
      "metadata": {
        "id": "J4P9QL6tg7ix"
      },
      "source": [
        "- Here too, the RMSE of the lightweight model **(7.885411)** is higher than that of the full model **(6.672557)**. Here, removing all predictors except the top 2 linear contributors has caused the regression model to underfit and not fully capture all relationships between the predictors and the outcome 'happiness'. So I believe its important to include all predictor variables in all regression models going forward to accurately provide predictions on the test data."
      ]
    },
    {
      "cell_type": "markdown",
      "metadata": {
        "id": "preceding-chicago"
      },
      "source": [
        "## Question 5 (Libraries are allowed) (40 Marks)\n",
        "As a Data Scientist, one of the key tasks is to build models $\\textbf{most appropriate/closest}$ to the truth; thus, modelling will not be limited to the aforementioned steps in this assignment. To simulate for a realistic modelling process, this question will be in the form of a [Kaggle competition](https://www.kaggle.com/t/ad8c96e412254c138cbec1d9d1c09734) among students to find out who has the best model.\n",
        "\n"
      ]
    },
    {
      "cell_type": "markdown",
      "source": [
        "- the cell below takes roughly 9-10 mins to run!"
      ],
      "metadata": {
        "id": "V_ind8TNtcev"
      }
    },
    {
      "cell_type": "code",
      "source": [
        "#install.packages(\"caret\", repos='http://cran.us.r-project.org')\n",
        "#install.packages(\"xgboost\", repos = 'http://cran.us.r-project.org')"
      ],
      "metadata": {
        "id": "8iLjSDEyo03n"
      },
      "execution_count": 185,
      "outputs": []
    },
    {
      "cell_type": "code",
      "source": [
        "library(dplyr)\n",
        "library(tidyverse)\n",
        "library(caret)\n",
        "library(data.table)\n",
        "library(xgboost)"
      ],
      "metadata": {
        "id": "v-zmctG-omAX"
      },
      "execution_count": 186,
      "outputs": []
    },
    {
      "cell_type": "code",
      "source": [
        "reg_train_data <- fread(\"regression_train.csv\")\n",
        "\n",
        "reg_test_data <- fread(\"regression_test.csv\")"
      ],
      "metadata": {
        "id": "PCUG_UCZtaaQ"
      },
      "execution_count": 187,
      "outputs": []
    },
    {
      "cell_type": "markdown",
      "source": [
        "#### Inspecting and preparing the data"
      ],
      "metadata": {
        "id": "mZJlA9X2wFR2"
      }
    },
    {
      "cell_type": "code",
      "source": [
        "# Plot histogram\n",
        "hist(train_data$happiness, main = \"Histogram of Response Variable\", xlab = \"Response Variable\")"
      ],
      "metadata": {
        "colab": {
          "base_uri": "https://localhost:8080/",
          "height": 437
        },
        "id": "D--NYkY7tzMg",
        "outputId": "89d7ecc5-0983-4065-8676-68a4499a5a3a"
      },
      "execution_count": 188,
      "outputs": [
        {
          "output_type": "display_data",
          "data": {
            "text/plain": [
              "Plot with title “Histogram of Response Variable”"
            ],
            "image/png": "[encoded data removed]"
          },
          "metadata": {
            "image/png": {
              "width": 420,
              "height": 420
            }
          }
        }
      ]
    },
    {
      "cell_type": "code",
      "source": [
        "# Select the first 10 columns\n",
        "train_subset <- reg_train_data %>% select(1:10)\n",
        "\n",
        "# Find the number of unique values in each of the selected columns\n",
        "unique_values <- sapply(train_subset, function(x) length(unique(x)))\n",
        "\n",
        "# Print the unique values for each column\n",
        "print(unique_values)"
      ],
      "metadata": {
        "colab": {
          "base_uri": "https://localhost:8080/",
          "height": 0
        },
        "id": "Px4vwwWEt46K",
        "outputId": "cc2f70c5-23c4-4a12-eb6f-9ab6421cb458"
      },
      "execution_count": 189,
      "outputs": [
        {
          "output_type": "stream",
          "name": "stdout",
          "text": [
            "                                                         gender \n",
            "                                                              3 \n",
            "                                                         income \n",
            "                                                              9 \n",
            "                    whatIsYourHeightExpressItAsANumberInMetresM \n",
            "                                                             10 \n",
            "                doYouFeelASenseOfPurposeAndMeaningInYourLife104 \n",
            "                                                              2 \n",
            "howDoYouReconcileSpiritualBeliefsWithScientificOrRationalThinki \n",
            "                                                              3 \n",
            "      howOftenDoYouFeelSociallyConnectedWithYourPeersAndFriends \n",
            "                                                              4 \n",
            "    doYouHaveASupportSystemOfFriendsAndFamilyToTurnToWhenNeeded \n",
            "                                                              4 \n",
            "howOftenDoYouParticipateInSocialActivitiesIncludingClubsSportsV \n",
            "                                                              5 \n",
            "doYouFeelComfortableEngagingInConversationsWithPeopleFromDiffer \n",
            "                                                              4 \n",
            "                doYouFeelASenseOfPurposeAndMeaningInYourLife105 \n",
            "                                                              2 \n"
          ]
        }
      ]
    },
    {
      "cell_type": "markdown",
      "source": [
        "#### MODELS (non-final) built\n",
        "\n",
        "1. Linear Regression Models: <br>\n",
        "  - base MLR (Multiple Linear Regression) model from Qn1. **SCOREBOARD RMSE : 5.24864**\n",
        "  - only-important predictors based MLR model (just predictor columns - 2, 3, 6, 9, 11, 12, 25, 29, 41). These columns were selected based on how they affect the MLR's RMSE performance if excluded.\n",
        "  - All encoded MLR Model - this included pre-processing the train and test data to have one-hot encoded columns (*columns*: 'gender', 'doYouFeelASenseOfPurposeAndMeaningInYourLife104',   'howDoYouReconcileSpiritualBeliefsWithScientificOrRationalThinki',           'doYouFeelASenseOfPurposeAndMeaningInYourLife105') and label-encoded columns (*columns*: 'income', 'whatIsYourHeightExpressItAsANumberInMetresM', 'howOftenDoYouFeelSociallyConnectedWithYourPeersAndFriends', 'doYouHaveASupportSystemOfFriendsAndFamilyToTurnToWhenNeeded', 'howOftenDoYouParticipateInSocialActivitiesIncludingClubsSportsV', 'doYouFeelComfortableEngagingInConversationsWithPeopleFromDiffer'); next build a MLR model based on all predictors (encoded or not). **SCOREBOARD BEST RMSE : 11.12880**\n",
        "  - Stepwise regression models (all kinds - forward/backward/both & AIC/BIC) one the above encoded data. **SCOREBOARD BEST RMSE : 5.99192**\n",
        "  - MLRs built upon data that has encoding done on just a subset of the above listed ones. **SCOREBOARD BEST RMSE : 5.30991**\n",
        "\n",
        "2. Random Forest Models: Models with different hyper-parameter tunings.BEST MODEL: no. of trees - 500; mtry - 41; nodesize - 25. **SCOREBOARD BEST RMSE : 5.64202**.\n",
        "\n",
        "3. ANOVA (same as bas MLR). **SCOREBOARD BEST RMSE : 5.24684**.\n",
        "\n",
        "4. GAM - Generalised Additive Mode. **SCOREBOARD BEST RMSE : 10.08203**.\n",
        "\n",
        "5. SVM Models and tuned hyperparamters - BEST Model:hyperparameters linear kernel function; cost or tolerance for misclassification - 0.95; epsilon or margin of tolerance - 0.25. **SCOREBOARD BEST RMSE : 4.92364**.\n",
        "\n",
        "6. Ridge|Lasso|Elastoc-Net Regression. **SCOREBOARD BEST RMSE - 5.10752**"
      ],
      "metadata": {
        "id": "11KyON-c1Q4Y"
      }
    },
    {
      "cell_type": "markdown",
      "source": [
        "#### FINAL MODEL - XG Boost"
      ],
      "metadata": {
        "id": "kVZnoVb_v_UA"
      }
    },
    {
      "cell_type": "markdown",
      "source": [
        "##### Fitting Data to model\n",
        "\n",
        "- Here, I have one-hot encoded the first 10 columns ('chr' datatype) in both the train and test datasets."
      ],
      "metadata": {
        "id": "UOPhGEmvw_Xv"
      }
    },
    {
      "cell_type": "code",
      "source": [
        "# Specify the columns to one-hot encode\n",
        "columns_to_encode <- c('gender', 'income', 'whatIsYourHeightExpressItAsANumberInMetresM',\n",
        "                       'doYouFeelASenseOfPurposeAndMeaningInYourLife104',\n",
        "                       'howDoYouReconcileSpiritualBeliefsWithScientificOrRationalThinki',\n",
        "                       'howOftenDoYouFeelSociallyConnectedWithYourPeersAndFriends',\n",
        "                       'doYouHaveASupportSystemOfFriendsAndFamilyToTurnToWhenNeeded',\n",
        "                       'howOftenDoYouParticipateInSocialActivitiesIncludingClubsSportsV',\n",
        "                       'doYouFeelComfortableEngagingInConversationsWithPeopleFromDiffer',\n",
        "                       'doYouFeelASenseOfPurposeAndMeaningInYourLife105')\n",
        "\n",
        "# Create dummy variables\n",
        "dummy_model <- dummyVars(~ gender + income + whatIsYourHeightExpressItAsANumberInMetresM +\n",
        "                         doYouFeelASenseOfPurposeAndMeaningInYourLife104 +\n",
        "                         howDoYouReconcileSpiritualBeliefsWithScientificOrRationalThinki +\n",
        "                         howOftenDoYouFeelSociallyConnectedWithYourPeersAndFriends +\n",
        "                         doYouHaveASupportSystemOfFriendsAndFamilyToTurnToWhenNeeded +\n",
        "                         howOftenDoYouParticipateInSocialActivitiesIncludingClubsSportsV +\n",
        "                         doYouFeelComfortableEngagingInConversationsWithPeopleFromDiffer +\n",
        "                         doYouFeelASenseOfPurposeAndMeaningInYourLife105, data = reg_train_data)\n",
        "\n",
        "# Transform the data\n",
        "data_transformed <- predict(dummy_model, newdata = reg_train_data) %>%\n",
        "  as.data.frame()\n",
        "\n",
        "# Bind the transformed data with the rest of the dataset\n",
        "ohe_reg_train_data <- reg_train_data %>%\n",
        "  select(-one_of(columns_to_encode)) %>%\n",
        "  bind_cols(data_transformed)\n",
        "\n",
        "# Verify the transformation\n",
        "head(ohe_reg_train_data)"
      ],
      "metadata": {
        "colab": {
          "base_uri": "https://localhost:8080/",
          "height": 323
        },
        "id": "BkMW97hkuH-p",
        "outputId": "a0d2d2b2-8010-4a0e-b756-5043db8afdeb"
      },
      "execution_count": 190,
      "outputs": [
        {
          "output_type": "display_data",
          "data": {
            "text/html": [
              "<table class=\"dataframe\">\n",
              "<caption>A data.table: 6 × 79</caption>\n",
              "<thead>\n",
              "\t<tr><th scope=col>alwaysAnxious</th><th scope=col>alwaysStressed</th><th scope=col>alwaysAccountableAndResponsibleForYourActions</th><th scope=col>alwaysCalm</th><th scope=col>myBodyIsHypermobileAndLovesToMove</th><th scope=col>alwaysHaveFun</th><th scope=col>alwaysSerious</th><th scope=col>alwaysDepressed</th><th scope=col>alwaysLoveAndCareForYourself</th><th scope=col>extremelyGoodAbilityToSense</th><th scope=col>⋯</th><th scope=col>howOftenDoYouParticipateInSocialActivitiesIncludingClubsSportsVAt least once a week</th><th scope=col>howOftenDoYouParticipateInSocialActivitiesIncludingClubsSportsVMore than three times a week</th><th scope=col>howOftenDoYouParticipateInSocialActivitiesIncludingClubsSportsVNo</th><th scope=col>howOftenDoYouParticipateInSocialActivitiesIncludingClubsSportsVRarely</th><th scope=col>doYouFeelComfortableEngagingInConversationsWithPeopleFromDifferAlways</th><th scope=col>doYouFeelComfortableEngagingInConversationsWithPeopleFromDifferNever</th><th scope=col>doYouFeelComfortableEngagingInConversationsWithPeopleFromDifferRarely</th><th scope=col>doYouFeelComfortableEngagingInConversationsWithPeopleFromDifferSometimes</th><th scope=col>doYouFeelASenseOfPurposeAndMeaningInYourLife105No</th><th scope=col>doYouFeelASenseOfPurposeAndMeaningInYourLife105Yes</th></tr>\n",
              "\t<tr><th scope=col>&lt;int&gt;</th><th scope=col>&lt;int&gt;</th><th scope=col>&lt;int&gt;</th><th scope=col>&lt;int&gt;</th><th scope=col>&lt;int&gt;</th><th scope=col>&lt;int&gt;</th><th scope=col>&lt;int&gt;</th><th scope=col>&lt;int&gt;</th><th scope=col>&lt;int&gt;</th><th scope=col>&lt;int&gt;</th><th scope=col>⋯</th><th scope=col>&lt;dbl&gt;</th><th scope=col>&lt;dbl&gt;</th><th scope=col>&lt;dbl&gt;</th><th scope=col>&lt;dbl&gt;</th><th scope=col>&lt;dbl&gt;</th><th scope=col>&lt;dbl&gt;</th><th scope=col>&lt;dbl&gt;</th><th scope=col>&lt;dbl&gt;</th><th scope=col>&lt;dbl&gt;</th><th scope=col>&lt;dbl&gt;</th></tr>\n",
              "</thead>\n",
              "<tbody>\n",
              "\t<tr><td>-2</td><td>-1</td><td>2</td><td> 1</td><td>-2</td><td>-2</td><td> 0</td><td> 0</td><td> 2</td><td>2</td><td>⋯</td><td>0</td><td>0</td><td>1</td><td>0</td><td>0</td><td>1</td><td>0</td><td>0</td><td>0</td><td>1</td></tr>\n",
              "\t<tr><td>-2</td><td>-2</td><td>1</td><td> 1</td><td> 2</td><td> 1</td><td> 0</td><td>-1</td><td> 0</td><td>1</td><td>⋯</td><td>0</td><td>1</td><td>0</td><td>0</td><td>1</td><td>0</td><td>0</td><td>0</td><td>0</td><td>1</td></tr>\n",
              "\t<tr><td>-1</td><td>-1</td><td>1</td><td> 1</td><td> 1</td><td>-1</td><td>-1</td><td>-1</td><td> 1</td><td>1</td><td>⋯</td><td>0</td><td>0</td><td>0</td><td>0</td><td>0</td><td>0</td><td>0</td><td>1</td><td>0</td><td>1</td></tr>\n",
              "\t<tr><td> 0</td><td> 1</td><td>2</td><td>-1</td><td>-2</td><td>-2</td><td> 2</td><td> 0</td><td>-1</td><td>0</td><td>⋯</td><td>0</td><td>0</td><td>1</td><td>0</td><td>1</td><td>0</td><td>0</td><td>0</td><td>1</td><td>0</td></tr>\n",
              "\t<tr><td> 1</td><td> 1</td><td>1</td><td>-1</td><td> 0</td><td>-1</td><td> 1</td><td> 0</td><td>-1</td><td>1</td><td>⋯</td><td>0</td><td>0</td><td>0</td><td>1</td><td>0</td><td>1</td><td>0</td><td>0</td><td>0</td><td>1</td></tr>\n",
              "\t<tr><td>-1</td><td>-1</td><td>2</td><td> 2</td><td> 1</td><td> 2</td><td>-1</td><td>-1</td><td> 2</td><td>1</td><td>⋯</td><td>0</td><td>0</td><td>1</td><td>0</td><td>1</td><td>0</td><td>0</td><td>0</td><td>0</td><td>1</td></tr>\n",
              "</tbody>\n",
              "</table>\n"
            ],
            "text/markdown": "\nA data.table: 6 × 79\n\n| alwaysAnxious &lt;int&gt; | alwaysStressed &lt;int&gt; | alwaysAccountableAndResponsibleForYourActions &lt;int&gt; | alwaysCalm &lt;int&gt; | myBodyIsHypermobileAndLovesToMove &lt;int&gt; | alwaysHaveFun &lt;int&gt; | alwaysSerious &lt;int&gt; | alwaysDepressed &lt;int&gt; | alwaysLoveAndCareForYourself &lt;int&gt; | extremelyGoodAbilityToSense &lt;int&gt; | ⋯ ⋯ | howOftenDoYouParticipateInSocialActivitiesIncludingClubsSportsVAt least once a week &lt;dbl&gt; | howOftenDoYouParticipateInSocialActivitiesIncludingClubsSportsVMore than three times a week &lt;dbl&gt; | howOftenDoYouParticipateInSocialActivitiesIncludingClubsSportsVNo &lt;dbl&gt; | howOftenDoYouParticipateInSocialActivitiesIncludingClubsSportsVRarely &lt;dbl&gt; | doYouFeelComfortableEngagingInConversationsWithPeopleFromDifferAlways &lt;dbl&gt; | doYouFeelComfortableEngagingInConversationsWithPeopleFromDifferNever &lt;dbl&gt; | doYouFeelComfortableEngagingInConversationsWithPeopleFromDifferRarely &lt;dbl&gt; | doYouFeelComfortableEngagingInConversationsWithPeopleFromDifferSometimes &lt;dbl&gt; | doYouFeelASenseOfPurposeAndMeaningInYourLife105No &lt;dbl&gt; | doYouFeelASenseOfPurposeAndMeaningInYourLife105Yes &lt;dbl&gt; |\n|---|---|---|---|---|---|---|---|---|---|---|---|---|---|---|---|---|---|---|---|---|\n| -2 | -1 | 2 |  1 | -2 | -2 |  0 |  0 |  2 | 2 | ⋯ | 0 | 0 | 1 | 0 | 0 | 1 | 0 | 0 | 0 | 1 |\n| -2 | -2 | 1 |  1 |  2 |  1 |  0 | -1 |  0 | 1 | ⋯ | 0 | 1 | 0 | 0 | 1 | 0 | 0 | 0 | 0 | 1 |\n| -1 | -1 | 1 |  1 |  1 | -1 | -1 | -1 |  1 | 1 | ⋯ | 0 | 0 | 0 | 0 | 0 | 0 | 0 | 1 | 0 | 1 |\n|  0 |  1 | 2 | -1 | -2 | -2 |  2 |  0 | -1 | 0 | ⋯ | 0 | 0 | 1 | 0 | 1 | 0 | 0 | 0 | 1 | 0 |\n|  1 |  1 | 1 | -1 |  0 | -1 |  1 |  0 | -1 | 1 | ⋯ | 0 | 0 | 0 | 1 | 0 | 1 | 0 | 0 | 0 | 1 |\n| -1 | -1 | 2 |  2 |  1 |  2 | -1 | -1 |  2 | 1 | ⋯ | 0 | 0 | 1 | 0 | 1 | 0 | 0 | 0 | 0 | 1 |\n\n",
            "text/latex": "A data.table: 6 × 79\n\\begin{tabular}{lllllllllllllllllllll}\n alwaysAnxious & alwaysStressed & alwaysAccountableAndResponsibleForYourActions & alwaysCalm & myBodyIsHypermobileAndLovesToMove & alwaysHaveFun & alwaysSerious & alwaysDepressed & alwaysLoveAndCareForYourself & extremelyGoodAbilityToSense & ⋯ & howOftenDoYouParticipateInSocialActivitiesIncludingClubsSportsVAt least once a week & howOftenDoYouParticipateInSocialActivitiesIncludingClubsSportsVMore than three times a week & howOftenDoYouParticipateInSocialActivitiesIncludingClubsSportsVNo & howOftenDoYouParticipateInSocialActivitiesIncludingClubsSportsVRarely & doYouFeelComfortableEngagingInConversationsWithPeopleFromDifferAlways & doYouFeelComfortableEngagingInConversationsWithPeopleFromDifferNever & doYouFeelComfortableEngagingInConversationsWithPeopleFromDifferRarely & doYouFeelComfortableEngagingInConversationsWithPeopleFromDifferSometimes & doYouFeelASenseOfPurposeAndMeaningInYourLife105No & doYouFeelASenseOfPurposeAndMeaningInYourLife105Yes\\\\\n <int> & <int> & <int> & <int> & <int> & <int> & <int> & <int> & <int> & <int> & ⋯ & <dbl> & <dbl> & <dbl> & <dbl> & <dbl> & <dbl> & <dbl> & <dbl> & <dbl> & <dbl>\\\\\n\\hline\n\t -2 & -1 & 2 &  1 & -2 & -2 &  0 &  0 &  2 & 2 & ⋯ & 0 & 0 & 1 & 0 & 0 & 1 & 0 & 0 & 0 & 1\\\\\n\t -2 & -2 & 1 &  1 &  2 &  1 &  0 & -1 &  0 & 1 & ⋯ & 0 & 1 & 0 & 0 & 1 & 0 & 0 & 0 & 0 & 1\\\\\n\t -1 & -1 & 1 &  1 &  1 & -1 & -1 & -1 &  1 & 1 & ⋯ & 0 & 0 & 0 & 0 & 0 & 0 & 0 & 1 & 0 & 1\\\\\n\t  0 &  1 & 2 & -1 & -2 & -2 &  2 &  0 & -1 & 0 & ⋯ & 0 & 0 & 1 & 0 & 1 & 0 & 0 & 0 & 1 & 0\\\\\n\t  1 &  1 & 1 & -1 &  0 & -1 &  1 &  0 & -1 & 1 & ⋯ & 0 & 0 & 0 & 1 & 0 & 1 & 0 & 0 & 0 & 1\\\\\n\t -1 & -1 & 2 &  2 &  1 &  2 & -1 & -1 &  2 & 1 & ⋯ & 0 & 0 & 1 & 0 & 1 & 0 & 0 & 0 & 0 & 1\\\\\n\\end{tabular}\n",
            "text/plain": [
              "  alwaysAnxious alwaysStressed alwaysAccountableAndResponsibleForYourActions\n",
              "1 -2            -1             2                                            \n",
              "2 -2            -2             1                                            \n",
              "3 -1            -1             1                                            \n",
              "4  0             1             2                                            \n",
              "5  1             1             1                                            \n",
              "6 -1            -1             2                                            \n",
              "  alwaysCalm myBodyIsHypermobileAndLovesToMove alwaysHaveFun alwaysSerious\n",
              "1  1         -2                                -2             0           \n",
              "2  1          2                                 1             0           \n",
              "3  1          1                                -1            -1           \n",
              "4 -1         -2                                -2             2           \n",
              "5 -1          0                                -1             1           \n",
              "6  2          1                                 2            -1           \n",
              "  alwaysDepressed alwaysLoveAndCareForYourself extremelyGoodAbilityToSense ⋯\n",
              "1  0               2                           2                           ⋯\n",
              "2 -1               0                           1                           ⋯\n",
              "3 -1               1                           1                           ⋯\n",
              "4  0              -1                           0                           ⋯\n",
              "5  0              -1                           1                           ⋯\n",
              "6 -1               2                           1                           ⋯\n",
              "  howOftenDoYouParticipateInSocialActivitiesIncludingClubsSportsVAt least once a week\n",
              "1 0                                                                                  \n",
              "2 0                                                                                  \n",
              "3 0                                                                                  \n",
              "4 0                                                                                  \n",
              "5 0                                                                                  \n",
              "6 0                                                                                  \n",
              "  howOftenDoYouParticipateInSocialActivitiesIncludingClubsSportsVMore than three times a week\n",
              "1 0                                                                                          \n",
              "2 1                                                                                          \n",
              "3 0                                                                                          \n",
              "4 0                                                                                          \n",
              "5 0                                                                                          \n",
              "6 0                                                                                          \n",
              "  howOftenDoYouParticipateInSocialActivitiesIncludingClubsSportsVNo\n",
              "1 1                                                                \n",
              "2 0                                                                \n",
              "3 0                                                                \n",
              "4 1                                                                \n",
              "5 0                                                                \n",
              "6 1                                                                \n",
              "  howOftenDoYouParticipateInSocialActivitiesIncludingClubsSportsVRarely\n",
              "1 0                                                                    \n",
              "2 0                                                                    \n",
              "3 0                                                                    \n",
              "4 0                                                                    \n",
              "5 1                                                                    \n",
              "6 0                                                                    \n",
              "  doYouFeelComfortableEngagingInConversationsWithPeopleFromDifferAlways\n",
              "1 0                                                                    \n",
              "2 1                                                                    \n",
              "3 0                                                                    \n",
              "4 1                                                                    \n",
              "5 0                                                                    \n",
              "6 1                                                                    \n",
              "  doYouFeelComfortableEngagingInConversationsWithPeopleFromDifferNever\n",
              "1 1                                                                   \n",
              "2 0                                                                   \n",
              "3 0                                                                   \n",
              "4 0                                                                   \n",
              "5 1                                                                   \n",
              "6 0                                                                   \n",
              "  doYouFeelComfortableEngagingInConversationsWithPeopleFromDifferRarely\n",
              "1 0                                                                    \n",
              "2 0                                                                    \n",
              "3 0                                                                    \n",
              "4 0                                                                    \n",
              "5 0                                                                    \n",
              "6 0                                                                    \n",
              "  doYouFeelComfortableEngagingInConversationsWithPeopleFromDifferSometimes\n",
              "1 0                                                                       \n",
              "2 0                                                                       \n",
              "3 1                                                                       \n",
              "4 0                                                                       \n",
              "5 0                                                                       \n",
              "6 0                                                                       \n",
              "  doYouFeelASenseOfPurposeAndMeaningInYourLife105No\n",
              "1 0                                                \n",
              "2 0                                                \n",
              "3 0                                                \n",
              "4 1                                                \n",
              "5 0                                                \n",
              "6 0                                                \n",
              "  doYouFeelASenseOfPurposeAndMeaningInYourLife105Yes\n",
              "1 1                                                 \n",
              "2 1                                                 \n",
              "3 1                                                 \n",
              "4 0                                                 \n",
              "5 1                                                 \n",
              "6 1                                                 "
            ]
          },
          "metadata": {}
        }
      ]
    },
    {
      "cell_type": "code",
      "source": [
        "# Exclude column 'happiness' from data_matrix\n",
        "encoded_data <- ohe_reg_train_data[, -\"happiness\"]\n",
        "#head(encoded_data)\n",
        "\n",
        "# outcome variable\n",
        "outcome <- ohe_reg_train_data[[\"happiness\"]]\n",
        "#head(outcome)\n",
        "typeof(outcome)"
      ],
      "metadata": {
        "colab": {
          "base_uri": "https://localhost:8080/",
          "height": 34
        },
        "id": "HcpfoFFOuLfk",
        "outputId": "4d81cd74-39ad-454e-b3b9-ba9f600134a9"
      },
      "execution_count": 191,
      "outputs": [
        {
          "output_type": "display_data",
          "data": {
            "text/html": [
              "'double'"
            ],
            "text/markdown": "'double'",
            "text/latex": "'double'",
            "text/plain": [
              "[1] \"double\""
            ]
          },
          "metadata": {}
        }
      ]
    },
    {
      "cell_type": "code",
      "source": [
        "# Create dummy variables\n",
        "dummy_model_test <- dummyVars(~ gender + income + whatIsYourHeightExpressItAsANumberInMetresM +\n",
        "                         doYouFeelASenseOfPurposeAndMeaningInYourLife104 +\n",
        "                         howDoYouReconcileSpiritualBeliefsWithScientificOrRationalThinki +\n",
        "                         howOftenDoYouFeelSociallyConnectedWithYourPeersAndFriends +\n",
        "                         doYouHaveASupportSystemOfFriendsAndFamilyToTurnToWhenNeeded +\n",
        "                         howOftenDoYouParticipateInSocialActivitiesIncludingClubsSportsV +\n",
        "                         doYouFeelComfortableEngagingInConversationsWithPeopleFromDiffer +\n",
        "                         doYouFeelASenseOfPurposeAndMeaningInYourLife105, data = reg_test_data)\n",
        "\n",
        "# Transform the test data\n",
        "data_transformed <- predict(dummy_model_test, newdata = reg_test_data) %>%\n",
        "  as.data.frame()\n",
        "\n",
        "# Bind the transformed data with the rest of the dataset\n",
        "ohe_reg_test_data <- reg_test_data %>%\n",
        "  select(-one_of(columns_to_encode)) %>%\n",
        "  bind_cols(data_transformed)\n",
        "\n",
        "# Verify the transformation\n",
        "head(ohe_reg_test_data)"
      ],
      "metadata": {
        "colab": {
          "base_uri": "https://localhost:8080/",
          "height": 323
        },
        "id": "vmhRGF6fuRT3",
        "outputId": "6c7dbdd0-9957-4383-ca35-90e2af8bd860"
      },
      "execution_count": 192,
      "outputs": [
        {
          "output_type": "display_data",
          "data": {
            "text/html": [
              "<table class=\"dataframe\">\n",
              "<caption>A data.table: 6 × 78</caption>\n",
              "<thead>\n",
              "\t<tr><th scope=col>alwaysAnxious</th><th scope=col>alwaysStressed</th><th scope=col>alwaysAccountableAndResponsibleForYourActions</th><th scope=col>alwaysCalm</th><th scope=col>myBodyIsHypermobileAndLovesToMove</th><th scope=col>alwaysHaveFun</th><th scope=col>alwaysSerious</th><th scope=col>alwaysDepressed</th><th scope=col>alwaysLoveAndCareForYourself</th><th scope=col>extremelyGoodAbilityToSense</th><th scope=col>⋯</th><th scope=col>howOftenDoYouParticipateInSocialActivitiesIncludingClubsSportsVAt least once a week</th><th scope=col>howOftenDoYouParticipateInSocialActivitiesIncludingClubsSportsVMore than three times a week</th><th scope=col>howOftenDoYouParticipateInSocialActivitiesIncludingClubsSportsVNo</th><th scope=col>howOftenDoYouParticipateInSocialActivitiesIncludingClubsSportsVRarely</th><th scope=col>doYouFeelComfortableEngagingInConversationsWithPeopleFromDifferAlways</th><th scope=col>doYouFeelComfortableEngagingInConversationsWithPeopleFromDifferNever</th><th scope=col>doYouFeelComfortableEngagingInConversationsWithPeopleFromDifferRarely</th><th scope=col>doYouFeelComfortableEngagingInConversationsWithPeopleFromDifferSometimes</th><th scope=col>doYouFeelASenseOfPurposeAndMeaningInYourLife105No</th><th scope=col>doYouFeelASenseOfPurposeAndMeaningInYourLife105Yes</th></tr>\n",
              "\t<tr><th scope=col>&lt;int&gt;</th><th scope=col>&lt;int&gt;</th><th scope=col>&lt;int&gt;</th><th scope=col>&lt;int&gt;</th><th scope=col>&lt;int&gt;</th><th scope=col>&lt;int&gt;</th><th scope=col>&lt;int&gt;</th><th scope=col>&lt;int&gt;</th><th scope=col>&lt;int&gt;</th><th scope=col>&lt;int&gt;</th><th scope=col>⋯</th><th scope=col>&lt;dbl&gt;</th><th scope=col>&lt;dbl&gt;</th><th scope=col>&lt;dbl&gt;</th><th scope=col>&lt;dbl&gt;</th><th scope=col>&lt;dbl&gt;</th><th scope=col>&lt;dbl&gt;</th><th scope=col>&lt;dbl&gt;</th><th scope=col>&lt;dbl&gt;</th><th scope=col>&lt;dbl&gt;</th><th scope=col>&lt;dbl&gt;</th></tr>\n",
              "</thead>\n",
              "<tbody>\n",
              "\t<tr><td>-1</td><td> 0</td><td>2</td><td> 0</td><td> 1</td><td> 1</td><td>-1</td><td>-1</td><td> 1</td><td>1</td><td>⋯</td><td>1</td><td>0</td><td>0</td><td>0</td><td>1</td><td>0</td><td>0</td><td>0</td><td>0</td><td>1</td></tr>\n",
              "\t<tr><td> 2</td><td> 2</td><td>1</td><td>-1</td><td> 0</td><td>-1</td><td> 1</td><td> 1</td><td>-1</td><td>1</td><td>⋯</td><td>0</td><td>0</td><td>0</td><td>1</td><td>0</td><td>0</td><td>0</td><td>1</td><td>1</td><td>0</td></tr>\n",
              "\t<tr><td> 1</td><td>-1</td><td>1</td><td> 1</td><td>-1</td><td> 1</td><td> 1</td><td>-2</td><td> 2</td><td>1</td><td>⋯</td><td>0</td><td>0</td><td>0</td><td>1</td><td>1</td><td>0</td><td>0</td><td>0</td><td>0</td><td>1</td></tr>\n",
              "\t<tr><td>-1</td><td>-1</td><td>2</td><td> 0</td><td> 1</td><td>-1</td><td> 1</td><td> 0</td><td> 1</td><td>2</td><td>⋯</td><td>0</td><td>0</td><td>0</td><td>0</td><td>0</td><td>0</td><td>0</td><td>1</td><td>0</td><td>1</td></tr>\n",
              "\t<tr><td>-1</td><td>-1</td><td>1</td><td>-1</td><td>-1</td><td>-1</td><td> 0</td><td>-1</td><td>-1</td><td>0</td><td>⋯</td><td>1</td><td>0</td><td>0</td><td>0</td><td>1</td><td>0</td><td>0</td><td>0</td><td>0</td><td>1</td></tr>\n",
              "\t<tr><td>-1</td><td> 0</td><td>2</td><td> 2</td><td> 0</td><td> 2</td><td> 0</td><td>-1</td><td> 1</td><td>2</td><td>⋯</td><td>0</td><td>1</td><td>0</td><td>0</td><td>1</td><td>0</td><td>0</td><td>0</td><td>0</td><td>1</td></tr>\n",
              "</tbody>\n",
              "</table>\n"
            ],
            "text/markdown": "\nA data.table: 6 × 78\n\n| alwaysAnxious &lt;int&gt; | alwaysStressed &lt;int&gt; | alwaysAccountableAndResponsibleForYourActions &lt;int&gt; | alwaysCalm &lt;int&gt; | myBodyIsHypermobileAndLovesToMove &lt;int&gt; | alwaysHaveFun &lt;int&gt; | alwaysSerious &lt;int&gt; | alwaysDepressed &lt;int&gt; | alwaysLoveAndCareForYourself &lt;int&gt; | extremelyGoodAbilityToSense &lt;int&gt; | ⋯ ⋯ | howOftenDoYouParticipateInSocialActivitiesIncludingClubsSportsVAt least once a week &lt;dbl&gt; | howOftenDoYouParticipateInSocialActivitiesIncludingClubsSportsVMore than three times a week &lt;dbl&gt; | howOftenDoYouParticipateInSocialActivitiesIncludingClubsSportsVNo &lt;dbl&gt; | howOftenDoYouParticipateInSocialActivitiesIncludingClubsSportsVRarely &lt;dbl&gt; | doYouFeelComfortableEngagingInConversationsWithPeopleFromDifferAlways &lt;dbl&gt; | doYouFeelComfortableEngagingInConversationsWithPeopleFromDifferNever &lt;dbl&gt; | doYouFeelComfortableEngagingInConversationsWithPeopleFromDifferRarely &lt;dbl&gt; | doYouFeelComfortableEngagingInConversationsWithPeopleFromDifferSometimes &lt;dbl&gt; | doYouFeelASenseOfPurposeAndMeaningInYourLife105No &lt;dbl&gt; | doYouFeelASenseOfPurposeAndMeaningInYourLife105Yes &lt;dbl&gt; |\n|---|---|---|---|---|---|---|---|---|---|---|---|---|---|---|---|---|---|---|---|---|\n| -1 |  0 | 2 |  0 |  1 |  1 | -1 | -1 |  1 | 1 | ⋯ | 1 | 0 | 0 | 0 | 1 | 0 | 0 | 0 | 0 | 1 |\n|  2 |  2 | 1 | -1 |  0 | -1 |  1 |  1 | -1 | 1 | ⋯ | 0 | 0 | 0 | 1 | 0 | 0 | 0 | 1 | 1 | 0 |\n|  1 | -1 | 1 |  1 | -1 |  1 |  1 | -2 |  2 | 1 | ⋯ | 0 | 0 | 0 | 1 | 1 | 0 | 0 | 0 | 0 | 1 |\n| -1 | -1 | 2 |  0 |  1 | -1 |  1 |  0 |  1 | 2 | ⋯ | 0 | 0 | 0 | 0 | 0 | 0 | 0 | 1 | 0 | 1 |\n| -1 | -1 | 1 | -1 | -1 | -1 |  0 | -1 | -1 | 0 | ⋯ | 1 | 0 | 0 | 0 | 1 | 0 | 0 | 0 | 0 | 1 |\n| -1 |  0 | 2 |  2 |  0 |  2 |  0 | -1 |  1 | 2 | ⋯ | 0 | 1 | 0 | 0 | 1 | 0 | 0 | 0 | 0 | 1 |\n\n",
            "text/latex": "A data.table: 6 × 78\n\\begin{tabular}{lllllllllllllllllllll}\n alwaysAnxious & alwaysStressed & alwaysAccountableAndResponsibleForYourActions & alwaysCalm & myBodyIsHypermobileAndLovesToMove & alwaysHaveFun & alwaysSerious & alwaysDepressed & alwaysLoveAndCareForYourself & extremelyGoodAbilityToSense & ⋯ & howOftenDoYouParticipateInSocialActivitiesIncludingClubsSportsVAt least once a week & howOftenDoYouParticipateInSocialActivitiesIncludingClubsSportsVMore than three times a week & howOftenDoYouParticipateInSocialActivitiesIncludingClubsSportsVNo & howOftenDoYouParticipateInSocialActivitiesIncludingClubsSportsVRarely & doYouFeelComfortableEngagingInConversationsWithPeopleFromDifferAlways & doYouFeelComfortableEngagingInConversationsWithPeopleFromDifferNever & doYouFeelComfortableEngagingInConversationsWithPeopleFromDifferRarely & doYouFeelComfortableEngagingInConversationsWithPeopleFromDifferSometimes & doYouFeelASenseOfPurposeAndMeaningInYourLife105No & doYouFeelASenseOfPurposeAndMeaningInYourLife105Yes\\\\\n <int> & <int> & <int> & <int> & <int> & <int> & <int> & <int> & <int> & <int> & ⋯ & <dbl> & <dbl> & <dbl> & <dbl> & <dbl> & <dbl> & <dbl> & <dbl> & <dbl> & <dbl>\\\\\n\\hline\n\t -1 &  0 & 2 &  0 &  1 &  1 & -1 & -1 &  1 & 1 & ⋯ & 1 & 0 & 0 & 0 & 1 & 0 & 0 & 0 & 0 & 1\\\\\n\t  2 &  2 & 1 & -1 &  0 & -1 &  1 &  1 & -1 & 1 & ⋯ & 0 & 0 & 0 & 1 & 0 & 0 & 0 & 1 & 1 & 0\\\\\n\t  1 & -1 & 1 &  1 & -1 &  1 &  1 & -2 &  2 & 1 & ⋯ & 0 & 0 & 0 & 1 & 1 & 0 & 0 & 0 & 0 & 1\\\\\n\t -1 & -1 & 2 &  0 &  1 & -1 &  1 &  0 &  1 & 2 & ⋯ & 0 & 0 & 0 & 0 & 0 & 0 & 0 & 1 & 0 & 1\\\\\n\t -1 & -1 & 1 & -1 & -1 & -1 &  0 & -1 & -1 & 0 & ⋯ & 1 & 0 & 0 & 0 & 1 & 0 & 0 & 0 & 0 & 1\\\\\n\t -1 &  0 & 2 &  2 &  0 &  2 &  0 & -1 &  1 & 2 & ⋯ & 0 & 1 & 0 & 0 & 1 & 0 & 0 & 0 & 0 & 1\\\\\n\\end{tabular}\n",
            "text/plain": [
              "  alwaysAnxious alwaysStressed alwaysAccountableAndResponsibleForYourActions\n",
              "1 -1             0             2                                            \n",
              "2  2             2             1                                            \n",
              "3  1            -1             1                                            \n",
              "4 -1            -1             2                                            \n",
              "5 -1            -1             1                                            \n",
              "6 -1             0             2                                            \n",
              "  alwaysCalm myBodyIsHypermobileAndLovesToMove alwaysHaveFun alwaysSerious\n",
              "1  0          1                                 1            -1           \n",
              "2 -1          0                                -1             1           \n",
              "3  1         -1                                 1             1           \n",
              "4  0          1                                -1             1           \n",
              "5 -1         -1                                -1             0           \n",
              "6  2          0                                 2             0           \n",
              "  alwaysDepressed alwaysLoveAndCareForYourself extremelyGoodAbilityToSense ⋯\n",
              "1 -1               1                           1                           ⋯\n",
              "2  1              -1                           1                           ⋯\n",
              "3 -2               2                           1                           ⋯\n",
              "4  0               1                           2                           ⋯\n",
              "5 -1              -1                           0                           ⋯\n",
              "6 -1               1                           2                           ⋯\n",
              "  howOftenDoYouParticipateInSocialActivitiesIncludingClubsSportsVAt least once a week\n",
              "1 1                                                                                  \n",
              "2 0                                                                                  \n",
              "3 0                                                                                  \n",
              "4 0                                                                                  \n",
              "5 1                                                                                  \n",
              "6 0                                                                                  \n",
              "  howOftenDoYouParticipateInSocialActivitiesIncludingClubsSportsVMore than three times a week\n",
              "1 0                                                                                          \n",
              "2 0                                                                                          \n",
              "3 0                                                                                          \n",
              "4 0                                                                                          \n",
              "5 0                                                                                          \n",
              "6 1                                                                                          \n",
              "  howOftenDoYouParticipateInSocialActivitiesIncludingClubsSportsVNo\n",
              "1 0                                                                \n",
              "2 0                                                                \n",
              "3 0                                                                \n",
              "4 0                                                                \n",
              "5 0                                                                \n",
              "6 0                                                                \n",
              "  howOftenDoYouParticipateInSocialActivitiesIncludingClubsSportsVRarely\n",
              "1 0                                                                    \n",
              "2 1                                                                    \n",
              "3 1                                                                    \n",
              "4 0                                                                    \n",
              "5 0                                                                    \n",
              "6 0                                                                    \n",
              "  doYouFeelComfortableEngagingInConversationsWithPeopleFromDifferAlways\n",
              "1 1                                                                    \n",
              "2 0                                                                    \n",
              "3 1                                                                    \n",
              "4 0                                                                    \n",
              "5 1                                                                    \n",
              "6 1                                                                    \n",
              "  doYouFeelComfortableEngagingInConversationsWithPeopleFromDifferNever\n",
              "1 0                                                                   \n",
              "2 0                                                                   \n",
              "3 0                                                                   \n",
              "4 0                                                                   \n",
              "5 0                                                                   \n",
              "6 0                                                                   \n",
              "  doYouFeelComfortableEngagingInConversationsWithPeopleFromDifferRarely\n",
              "1 0                                                                    \n",
              "2 0                                                                    \n",
              "3 0                                                                    \n",
              "4 0                                                                    \n",
              "5 0                                                                    \n",
              "6 0                                                                    \n",
              "  doYouFeelComfortableEngagingInConversationsWithPeopleFromDifferSometimes\n",
              "1 0                                                                       \n",
              "2 1                                                                       \n",
              "3 0                                                                       \n",
              "4 1                                                                       \n",
              "5 0                                                                       \n",
              "6 0                                                                       \n",
              "  doYouFeelASenseOfPurposeAndMeaningInYourLife105No\n",
              "1 0                                                \n",
              "2 1                                                \n",
              "3 0                                                \n",
              "4 0                                                \n",
              "5 0                                                \n",
              "6 0                                                \n",
              "  doYouFeelASenseOfPurposeAndMeaningInYourLife105Yes\n",
              "1 1                                                 \n",
              "2 0                                                 \n",
              "3 1                                                 \n",
              "4 1                                                 \n",
              "5 1                                                 \n",
              "6 1                                                 "
            ]
          },
          "metadata": {}
        }
      ]
    },
    {
      "cell_type": "markdown",
      "source": [
        "##### Test-Train Split\n",
        "\n",
        "- Here, I have divided the training data into train and test subsets (80/20 split), so that I can fairly compare different types of XG Boost models.\n",
        "\n",
        "- This was primarly done so as to fairly compare 'gbtree' and 'gblinear' boosters applied onto the XG Boost regression model. It was found that 'gbtree' model gave better performance."
      ],
      "metadata": {
        "id": "ApeK8xoCxc25"
      }
    },
    {
      "cell_type": "code",
      "source": [
        "set.seed(333)\n",
        "# train-test split\n",
        "train_indices <- sample(1:nrow(ohe_reg_train_data), 0.8 * nrow(ohe_reg_train_data))\n",
        "xgb_train <- ohe_reg_train_data[train_indices, ]\n",
        "xgb_test <- ohe_reg_train_data[-train_indices, ]\n",
        "\n",
        "X_train <- as.matrix(xgb_train[, -\"happiness\"])\n",
        "y_train <- xgb_train[[\"happiness\"]]\n",
        "X_test <- as.matrix(xgb_test[, -\"happiness\"])\n",
        "y_test <- xgb_test[[\"happiness\"]]\n",
        "\n",
        "# Create xgboost matrix\n",
        "reg_dtrain <- xgb.DMatrix(data = X_train, label = y_train)\n",
        "reg_dtrain\n",
        "\n",
        "reg_dtest <- xgb.DMatrix(data = X_test, label = y_test)\n",
        "reg_dtest"
      ],
      "metadata": {
        "colab": {
          "base_uri": "https://localhost:8080/",
          "height": 52
        },
        "id": "hZBaFIE8uYsw",
        "outputId": "9e9169e7-0288-410d-e3c9-e9566cfdfe5b"
      },
      "execution_count": 193,
      "outputs": [
        {
          "output_type": "display_data",
          "data": {
            "text/plain": [
              "xgb.DMatrix  dim: 400 x 78  info: label  colnames: yes"
            ]
          },
          "metadata": {}
        },
        {
          "output_type": "display_data",
          "data": {
            "text/plain": [
              "xgb.DMatrix  dim: 100 x 78  info: label  colnames: yes"
            ]
          },
          "metadata": {}
        }
      ]
    },
    {
      "cell_type": "code",
      "source": [
        "new_dtrain <- xgb.DMatrix(data = as.matrix(encoded_data), label = outcome)\n",
        "new_dtrain\n",
        "\n",
        "new_dtest <- xgb.DMatrix(data = as.matrix(ohe_reg_test_data))\n",
        "new_dtest"
      ],
      "metadata": {
        "colab": {
          "base_uri": "https://localhost:8080/",
          "height": 52
        },
        "id": "KaTBftrbudld",
        "outputId": "3357c81a-f33b-45a5-ad14-c75822d3d51d"
      },
      "execution_count": 194,
      "outputs": [
        {
          "output_type": "display_data",
          "data": {
            "text/plain": [
              "xgb.DMatrix  dim: 500 x 78  info: label  colnames: yes"
            ]
          },
          "metadata": {}
        },
        {
          "output_type": "display_data",
          "data": {
            "text/plain": [
              "xgb.DMatrix  dim: 90 x 78  info: NA  colnames: yes"
            ]
          },
          "metadata": {}
        }
      ]
    },
    {
      "cell_type": "markdown",
      "source": [
        "##### Developing the model\n",
        "\n",
        "- The final model developed is a XG Boost Regression Model with the following specs: <br>\n",
        " **booster** : 'gbtree' - boosting model used here builds decision trees to build the model <br>\n",
        " **objective function** : 'reg:squarederror' or objective of the model - to reduce the error^2 of each tree built. <br>\n",
        " **learning rate** : 0.0994 <br>\n",
        " **maximum depth of each tree built** : 6 (max height of tree from start) <br>\n",
        " **Subsample ratio of the training instance** : 0.75 or 75% training data sued to build each tree. <br>\n",
        " **Subsample of columns when building each tree** : 0.75 or 75% of total no. of predictor columsn used in building each tree. <br>\n",
        " **No. of boosting iterations** : 500"
      ],
      "metadata": {
        "id": "y60d2eKayGNj"
      }
    },
    {
      "cell_type": "code",
      "source": [
        "# help reproduce the result\n",
        "set.seed(333)\n",
        "\n",
        "# Set parameters for XGBoost\n",
        "params <- list(\n",
        "  booster = \"gbtree\",\n",
        "  objective = \"reg:squarederror\",\n",
        "  eta = 0.0994,             # Learning rate\n",
        "  max_depth = 6,          # Maximum depth of a tree\n",
        "  subsample = 0.75,        # Subsample ratio of the training instance\n",
        "  colsample_bytree = 0.75 # Subsample ratio of columns when constructing each tree\n",
        "  #lambda = 0,            # For linear booster, L2 regularisation\n",
        "  #alpha = 0              # For linear booster, L1 regularisation\n",
        ")\n",
        "\n",
        "\n",
        "# Train the XGBoost model\n",
        "xgb_model <- xgboost(params = params, data = reg_dtrain, nrounds = 500, verbose = FALSE) #100\n",
        "\n",
        "# Check rMSE\n",
        "xgb_predictions <- predict(xgb_model, reg_dtest)\n",
        "xgb_residuals <- y_test - xgb_predictions\n",
        "xgb_se <- xgb_residuals^2\n",
        "xgb_rmse <- sqrt(mean(xgb_se))\n",
        "\n",
        "cat(\"XGB Model rMSE:\", xgb_rmse)"
      ],
      "metadata": {
        "colab": {
          "base_uri": "https://localhost:8080/",
          "height": 0
        },
        "id": "0rlV4t5Nuhf1",
        "outputId": "6d068716-8525-40e0-bd9d-e086e9ddf949"
      },
      "execution_count": 195,
      "outputs": [
        {
          "output_type": "stream",
          "name": "stdout",
          "text": [
            "XGB Model rMSE: 6.476166"
          ]
        }
      ]
    },
    {
      "cell_type": "markdown",
      "source": [
        "**NOTE**:\n",
        "- The RMSE value shown above is slightly lower than what I got when I originally built this model on Kaggle. This might affect the final predictions but the leaderboard score for this must just be lower than what I finally got.\n",
        "\n",
        "- My best score on the public leaderboard is **4.41144**. I obtained this score for the predictions of the model built above."
      ],
      "metadata": {
        "id": "DaR8W0Xp0qSO"
      }
    },
    {
      "cell_type": "markdown",
      "source": [
        "##### Predicting the test 'happiness' value"
      ],
      "metadata": {
        "id": "lAGX3Bm31ETD"
      }
    },
    {
      "cell_type": "code",
      "source": [
        "final_xgb_model <- xgboost(params = params, data = new_dtrain, nrounds = 500, verbose = FALSE)\n",
        "\n",
        "xgb_test_predictions <- predict(final_xgb_model, new_dtest)\n",
        "head(xgb_test_predictions)"
      ],
      "metadata": {
        "colab": {
          "base_uri": "https://localhost:8080/",
          "height": 34
        },
        "id": "4a5ponwouu3H",
        "outputId": "617fb9e5-803e-4e7b-aafa-73f3c2b73653"
      },
      "execution_count": 196,
      "outputs": [
        {
          "output_type": "display_data",
          "data": {
            "text/html": [
              "<style>\n",
              ".list-inline {list-style: none; margin:0; padding: 0}\n",
              ".list-inline>li {display: inline-block}\n",
              ".list-inline>li:not(:last-child)::after {content: \"\\00b7\"; padding: 0 .5ex}\n",
              "</style>\n",
              "<ol class=list-inline><li>-9.35284614562988</li><li>-25.6016616821289</li><li>10.8193559646606</li><li>16.4974327087402</li><li>0.212909877300262</li><li>28.2623920440674</li></ol>\n"
            ],
            "text/markdown": "1. -9.35284614562988\n2. -25.6016616821289\n3. 10.8193559646606\n4. 16.4974327087402\n5. 0.212909877300262\n6. 28.2623920440674\n\n\n",
            "text/latex": "\\begin{enumerate*}\n\\item -9.35284614562988\n\\item -25.6016616821289\n\\item 10.8193559646606\n\\item 16.4974327087402\n\\item 0.212909877300262\n\\item 28.2623920440674\n\\end{enumerate*}\n",
            "text/plain": [
              "[1]  -9.3528461 -25.6016617  10.8193560  16.4974327   0.2129099  28.2623920"
            ]
          },
          "metadata": {}
        }
      ]
    },
    {
      "cell_type": "code",
      "execution_count": 197,
      "metadata": {
        "id": "8x-H3d66g7ix",
        "vscode": {
          "languageId": "r"
        }
      },
      "outputs": [],
      "source": [
        "# Build your final model here, use additional coding blocks if you need to\n",
        "fin.mod <- final_xgb_model"
      ]
    },
    {
      "cell_type": "code",
      "execution_count": 198,
      "metadata": {
        "id": "j0SYx-zYg7ix",
        "vscode": {
          "languageId": "r"
        }
      },
      "outputs": [],
      "source": [
        "# Load in the test data.\n",
        "test <- new_dtest\n",
        "# If you are using any packages that perform the prediction differently, please change this line of code accordingly.\n",
        "pred.label <- predict(fin.mod, test)\n",
        "# put these predicted labels in a csv file that you can use to commit to the Kaggle Leaderboard\n",
        "write.csv(\n",
        "    data.frame(\"RowIndex\" = seq(1, length(pred.label)), \"Prediction\" = pred.label),\n",
        "    \"RegressionPredictLabel_xgb2.csv\",\n",
        "    row.names = F\n",
        ")"
      ]
    },
    {
      "cell_type": "code",
      "execution_count": null,
      "metadata": {
        "id": "gross-disaster",
        "vscode": {
          "languageId": "r"
        }
      },
      "outputs": [],
      "source": [
        "## PLEASE DO NOT ALTER THIS CODE BLOCK, YOU ARE REQUIRED TO HAVE THIS CODE BLOCK IN YOUR JUPYTER NOTEBOOK SUBMISSION\n",
        "## Please skip (don't run) this if you are a student\n",
        "## For teaching team use only\n",
        "\n",
        "tryCatch(\n",
        "    {\n",
        "        source(\"../supplimentary.R\")\n",
        "    },\n",
        "    error = function(e){\n",
        "        source(\"supplimentary.R\")\n",
        "    }\n",
        ")\n",
        "\n",
        "truths <- tryCatch(\n",
        "    {\n",
        "        read.csv(\"../regression_test_label.csv\")\n",
        "    },\n",
        "    error = function(e){\n",
        "        read.csv(\"regression_test_label.csv\")\n",
        "    }\n",
        ")\n",
        "\n",
        "\n",
        "RMSE.fin <- rmse(pred.label, truths$x)\n",
        "cat(paste(\"RMSE is\", RMSE.fin))"
      ]
    },
    {
      "cell_type": "markdown",
      "source": [
        "************************"
      ],
      "metadata": {
        "id": "1lNOeqHE8Jzu"
      }
    },
    {
      "cell_type": "markdown",
      "metadata": {
        "id": "832LCNA3i3NB"
      },
      "source": [
        "# Part 2 Classification (50 Marks)"
      ]
    },
    {
      "cell_type": "markdown",
      "metadata": {
        "id": "E2lKZj24i3NB"
      },
      "source": [
        "A few thousand people were questioned in a [life and wellbeing survey](https://www.get-happier.com/) to build a model to predict happiness of an individual, but this time we want to predict a categorical score for perfect mental health, rather than a continuous score. You need to build 5-class classification models to optimally predict the variable in the survey dataset called 'perfectMentalHealth' based on any, or all, of the other survey question responses.\n",
        "\n",
        "You have been provided with two datasets, ```classification_train.csv``` and ```classification_test.csv```. Using these datasets, you hope to build a model that can predict 'perfectMentalHealth' using the other variables. ```classification_train.csv``` comes with the ground-truth target label (i.e. 'perfectMentalHealth' happiness classes) whereas `classification_test.csv` comes with independent variables (input information) only.\n",
        "\n",
        "On the order of around 70 survey questions have been converted into predictor variables that can be used to predict 'perfectMentalHealth'. We do not list all the predictor names here, but their names given in the data header can clearly be linked to the survey questions. E.g. the predictor variable 'iDontFeelParticularlyPleasedWithTheWayIAm' corresponds to the survey question 'I don’t feel particularly pleased with the way I am.'\n",
        "\n",
        "This question will also be in the form of a [Kaggle competition](https://www.kaggle.com/t/968d3b346acb47779771f47785c39e62) among students to find out who has the best model."
      ]
    },
    {
      "cell_type": "markdown",
      "source": [
        "**NOTE:**\n",
        "- The only model I've explored is XG Boost here, owing to submission dealine timing. I've tried to improve upon the model and find the best possible set of hyperparameters for just this one model."
      ],
      "metadata": {
        "id": "s6Ks4WKKF01X"
      }
    },
    {
      "cell_type": "markdown",
      "source": [
        "#### BEST Model - XG Boost"
      ],
      "metadata": {
        "id": "r2CWjczMFSsi"
      }
    },
    {
      "cell_type": "code",
      "source": [
        "library(data.table)\n",
        "library(xgboost)\n",
        "library(caret)\n",
        "library(data.table)\n",
        "library(ggplot2)\n",
        "library(lattice)\n",
        "library(dplyr)"
      ],
      "metadata": {
        "id": "m9rBIAj4-p_k"
      },
      "execution_count": 200,
      "outputs": []
    },
    {
      "cell_type": "markdown",
      "source": [
        "##### Inspecting Data"
      ],
      "metadata": {
        "id": "LWiyD63AEmJ5"
      }
    },
    {
      "cell_type": "code",
      "source": [
        "clas_train_data <- fread(\"classification_train.csv\")\n",
        "\n",
        "clas_test_data <- fread(\"classification_test.csv\")"
      ],
      "metadata": {
        "id": "WrW8hNl9-aSh"
      },
      "execution_count": 201,
      "outputs": []
    },
    {
      "cell_type": "code",
      "source": [
        "summary(clas_train_data)"
      ],
      "metadata": {
        "colab": {
          "base_uri": "https://localhost:8080/",
          "height": 3053
        },
        "id": "-06w3pIC-0tH",
        "outputId": "43693442-2739-49a1-f2b7-bc8d12687902"
      },
      "execution_count": 202,
      "outputs": [
        {
          "output_type": "display_data",
          "data": {
            "text/plain": [
              "    gender             income         \n",
              " Length:500         Length:500        \n",
              " Class :character   Class :character  \n",
              " Mode  :character   Mode  :character  \n",
              "                                      \n",
              "                                      \n",
              "                                      \n",
              " whatIsYourHeightExpressItAsANumberInMetresM\n",
              " Length:500                                 \n",
              " Class :character                           \n",
              " Mode  :character                           \n",
              "                                            \n",
              "                                            \n",
              "                                            \n",
              " doYouFeelASenseOfPurposeAndMeaningInYourLife104\n",
              " Length:500                                     \n",
              " Class :character                               \n",
              " Mode  :character                               \n",
              "                                                \n",
              "                                                \n",
              "                                                \n",
              " howDoYouReconcileSpiritualBeliefsWithScientificOrRationalThinki\n",
              " Length:500                                                     \n",
              " Class :character                                               \n",
              " Mode  :character                                               \n",
              "                                                                \n",
              "                                                                \n",
              "                                                                \n",
              " howOftenDoYouFeelSociallyConnectedWithYourPeersAndFriends\n",
              " Length:500                                               \n",
              " Class :character                                         \n",
              " Mode  :character                                         \n",
              "                                                          \n",
              "                                                          \n",
              "                                                          \n",
              " doYouHaveASupportSystemOfFriendsAndFamilyToTurnToWhenNeeded\n",
              " Length:500                                                 \n",
              " Class :character                                           \n",
              " Mode  :character                                           \n",
              "                                                            \n",
              "                                                            \n",
              "                                                            \n",
              " howOftenDoYouParticipateInSocialActivitiesIncludingClubsSportsV\n",
              " Length:500                                                     \n",
              " Class :character                                               \n",
              " Mode  :character                                               \n",
              "                                                                \n",
              "                                                                \n",
              "                                                                \n",
              " doYouFeelComfortableEngagingInConversationsWithPeopleFromDiffer\n",
              " Length:500                                                     \n",
              " Class :character                                               \n",
              " Mode  :character                                               \n",
              "                                                                \n",
              "                                                                \n",
              "                                                                \n",
              " doYouFeelASenseOfPurposeAndMeaningInYourLife105 perfectMentalHealth\n",
              " Length:500                                      Min.   :-2.00      \n",
              " Class :character                                1st Qu.:-1.00      \n",
              " Mode  :character                                Median : 0.00      \n",
              "                                                 Mean   :-0.09      \n",
              "                                                 3rd Qu.: 1.00      \n",
              "                                                 Max.   : 2.00      \n",
              " alwaysAnxious    alwaysStressed  \n",
              " Min.   :-2.000   Min.   :-2.000  \n",
              " 1st Qu.:-2.000   1st Qu.:-1.000  \n",
              " Median :-1.000   Median : 0.000  \n",
              " Mean   :-0.542   Mean   :-0.392  \n",
              " 3rd Qu.: 0.000   3rd Qu.: 1.000  \n",
              " Max.   : 2.000   Max.   : 2.000  \n",
              " alwaysAccountableAndResponsibleForYourActions   alwaysCalm    \n",
              " Min.   :-2.00                                 Min.   :-2.000  \n",
              " 1st Qu.: 0.00                                 1st Qu.:-1.000  \n",
              " Median : 1.00                                 Median : 0.000  \n",
              " Mean   : 0.81                                 Mean   : 0.016  \n",
              " 3rd Qu.: 1.00                                 3rd Qu.: 1.000  \n",
              " Max.   : 2.00                                 Max.   : 2.000  \n",
              " myBodyIsHypermobileAndLovesToMove alwaysHaveFun    alwaysSerious   \n",
              " Min.   :-2.00                     Min.   :-2.000   Min.   :-2.000  \n",
              " 1st Qu.:-1.00                     1st Qu.:-1.000   1st Qu.:-1.000  \n",
              " Median : 0.00                     Median : 0.000   Median : 0.000  \n",
              " Mean   :-0.19                     Mean   :-0.064   Mean   :-0.368  \n",
              " 3rd Qu.: 1.00                     3rd Qu.: 1.000   3rd Qu.: 0.000  \n",
              " Max.   : 2.00                     Max.   : 2.000   Max.   : 2.000  \n",
              " alwaysDepressed alwaysLoveAndCareForYourself extremelyGoodAbilityToSense\n",
              " Min.   :-2.00   Min.   :-2.000               Min.   :-2.000             \n",
              " 1st Qu.:-2.00   1st Qu.: 0.000               1st Qu.: 0.000             \n",
              " Median :-1.00   Median : 0.000               Median : 1.000             \n",
              " Mean   :-0.85   Mean   : 0.188               Mean   : 0.504             \n",
              " 3rd Qu.: 0.00   3rd Qu.: 1.000               3rd Qu.: 1.000             \n",
              " Max.   : 2.00   Max.   : 2.000               Max.   : 2.000             \n",
              " alwaysHaveDigestiveProblems iAmIntenselyInterestedInOtherPeople\n",
              " Min.   :-2.00               Min.   :-2.000                     \n",
              " 1st Qu.:-2.00               1st Qu.:-1.000                     \n",
              " Median :-1.00               Median : 0.000                     \n",
              " Mean   :-0.66               Mean   :-0.182                     \n",
              " 3rd Qu.: 0.00               3rd Qu.: 1.000                     \n",
              " Max.   : 2.00               Max.   : 2.000                     \n",
              " iRarelyWakeUpFeelingRested iFindMostThingsAmusing\n",
              " Min.   :-2.000             Min.   :-2.000        \n",
              " 1st Qu.:-1.000             1st Qu.: 0.000        \n",
              " Median : 0.000             Median : 0.000        \n",
              " Mean   :-0.098             Mean   : 0.098        \n",
              " 3rd Qu.: 1.000             3rd Qu.: 1.000        \n",
              " Max.   : 2.000             Max.   : 2.000        \n",
              " iAmAlwaysCommittedAndInvolved iDoNotThinkThatTheWorldIsAGoodPlace\n",
              " Min.   :-2.000                Min.   :-2.00                      \n",
              " 1st Qu.: 0.000                1st Qu.:-2.00                      \n",
              " Median : 0.000                Median :-1.00                      \n",
              " Mean   : 0.234                Mean   :-0.48                      \n",
              " 3rd Qu.: 1.000                3rd Qu.: 0.00                      \n",
              " Max.   : 2.000                Max.   : 2.00                      \n",
              " iAmWellSatisfiedAboutEverythingInMyLife iFindBeautyInSomeThings\n",
              " Min.   :-2.000                          Min.   :-1.000         \n",
              " 1st Qu.:-1.000                          1st Qu.: 0.000         \n",
              " Median : 0.000                          Median : 1.000         \n",
              " Mean   :-0.184                          Mean   : 0.896         \n",
              " 3rd Qu.: 1.000                          3rd Qu.: 1.000         \n",
              " Max.   : 2.000                          Max.   : 2.000         \n",
              " iAlwaysHaveACheerfulEffectOnOthers iFeelThatIAmNotEspeciallyInControlOfMyLife\n",
              " Min.   :-2.00                      Min.   :-2.00                             \n",
              " 1st Qu.: 0.00                      1st Qu.:-1.00                             \n",
              " Median : 0.00                      Median : 0.00                             \n",
              " Mean   : 0.16                      Mean   :-0.34                             \n",
              " 3rd Qu.: 1.00                      3rd Qu.: 1.00                             \n",
              " Max.   : 2.00                      Max.   : 2.00                             \n",
              " iUsuallyHaveAGoodInfluenceOnEvents iDontHaveFunWithOtherPeople\n",
              " Min.   :-2.000                     Min.   :-2.000             \n",
              " 1st Qu.: 0.000                     1st Qu.:-2.000             \n",
              " Median : 0.000                     Median :-1.000             \n",
              " Mean   : 0.046                     Mean   :-0.748             \n",
              " 3rd Qu.: 1.000                     3rd Qu.: 0.000             \n",
              " Max.   : 2.000                     Max.   : 2.000             \n",
              " alwaysEngageInPreparingAndUsingYourSkillsAndTalentsInOrderToGai\n",
              " Min.   :-2.000                                                 \n",
              " 1st Qu.: 0.000                                                 \n",
              " Median : 0.000                                                 \n",
              " Mean   : 0.284                                                 \n",
              " 3rd Qu.: 1.000                                                 \n",
              " Max.   : 2.000                                                 \n",
              " alwaysMakingProgress extremelyGoodCommunicator\n",
              " Min.   :-2.000       Min.   :-2.000           \n",
              " 1st Qu.: 0.000       1st Qu.: 0.000           \n",
              " Median : 1.000       Median : 0.000           \n",
              " Mean   : 0.476       Mean   : 0.104           \n",
              " 3rd Qu.: 1.000       3rd Qu.: 1.000           \n",
              " Max.   : 2.000       Max.   : 2.000           \n",
              " iDontFeelParticularlyPleasedWithTheWayIAm iFeelThatLifeIsVeryRewarding\n",
              " Min.   :-2.000                            Min.   :-2.000              \n",
              " 1st Qu.:-1.000                            1st Qu.: 0.000              \n",
              " Median : 0.000                            Median : 0.000              \n",
              " Mean   :-0.166                            Mean   : 0.234              \n",
              " 3rd Qu.: 1.000                            3rd Qu.: 1.000              \n",
              " Max.   : 2.000                            Max.   : 2.000              \n",
              " iHaveVeryWarmFeelingsTowardsAlmostEveryone\n",
              " Min.   :-2.000                            \n",
              " 1st Qu.:-1.000                            \n",
              " Median : 0.000                            \n",
              " Mean   : 0.132                            \n",
              " 3rd Qu.: 1.000                            \n",
              " Max.   : 2.000                            \n",
              " iAmNotParticularlyOptimisticAboutTheFuture   lifeIsGood       iLaughALot    \n",
              " Min.   :-2.000                             Min.   :-2.000   Min.   :-2.000  \n",
              " 1st Qu.:-1.000                             1st Qu.: 0.000   1st Qu.: 0.000  \n",
              " Median : 0.000                             Median : 1.000   Median : 0.000  \n",
              " Mean   :-0.408                             Mean   : 0.468   Mean   : 0.204  \n",
              " 3rd Qu.: 1.000                             3rd Qu.: 1.000   3rd Qu.: 1.000  \n",
              " Max.   : 2.000                             Max.   : 2.000   Max.   : 2.000  \n",
              " iDontThinkILookAttractive\n",
              " Min.   :-2.000           \n",
              " 1st Qu.:-1.000           \n",
              " Median : 0.000           \n",
              " Mean   :-0.388           \n",
              " 3rd Qu.: 0.000           \n",
              " Max.   : 2.000           "
            ]
          },
          "metadata": {}
        }
      ]
    },
    {
      "cell_type": "code",
      "source": [
        "str(clas_train_data)"
      ],
      "metadata": {
        "colab": {
          "base_uri": "https://localhost:8080/",
          "height": 0
        },
        "id": "GdPF0Xk5-40f",
        "outputId": "93e6d5c1-1dd6-4088-fe81-19a3b7d7ba6d"
      },
      "execution_count": 203,
      "outputs": [
        {
          "output_type": "stream",
          "name": "stdout",
          "text": [
            "Classes ‘data.table’ and 'data.frame':\t500 obs. of  43 variables:\n",
            " $ gender                                                         : chr  \"Female\" \"Female\" \"Male\" \"Male\" ...\n",
            " $ income                                                         : chr  \"10k - 15k\" \"120k - 150k\" \"0 - 10k\" \"80k - 120k\" ...\n",
            " $ whatIsYourHeightExpressItAsANumberInMetresM                    : chr  \"155 - 160\" \"165 - 170\" \"160 - 165\" \"160 - 165\" ...\n",
            " $ doYouFeelASenseOfPurposeAndMeaningInYourLife104                : chr  \"Yes\" \"Yes\" \"Yes\" \"Yes\" ...\n",
            " $ howDoYouReconcileSpiritualBeliefsWithScientificOrRationalThinki: chr  \"They complement each other\" \"They conflict\" \"They complement each other\" \"They complement each other\" ...\n",
            " $ howOftenDoYouFeelSociallyConnectedWithYourPeersAndFriends      : chr  \"Rarely\" \"Sometimes\" \"Rarely\" \"Never\" ...\n",
            " $ doYouHaveASupportSystemOfFriendsAndFamilyToTurnToWhenNeeded    : chr  \"Yes, I have both\" \"Yes, I have both\" \"Yes, I have both\" \"No\" ...\n",
            " $ howOftenDoYouParticipateInSocialActivitiesIncludingClubsSportsV: chr  \"More than three times a week\" \"More than three times a week\" \"More than three times a week\" \"At least once a month\" ...\n",
            " $ doYouFeelComfortableEngagingInConversationsWithPeopleFromDiffer: chr  \"Sometimes\" \"Sometimes\" \"Never\" \"Never\" ...\n",
            " $ doYouFeelASenseOfPurposeAndMeaningInYourLife105                : chr  \"Yes\" \"Yes\" \"Yes\" \"No\" ...\n",
            " $ perfectMentalHealth                                            : int  2 1 0 -2 1 -2 0 0 -1 0 ...\n",
            " $ alwaysAnxious                                                  : int  -1 0 2 0 -2 -1 -1 -2 0 -2 ...\n",
            " $ alwaysStressed                                                 : int  -2 1 1 0 1 -1 0 0 0 -2 ...\n",
            " $ alwaysAccountableAndResponsibleForYourActions                  : int  1 1 0 2 2 1 0 0 -2 1 ...\n",
            " $ alwaysCalm                                                     : int  0 -2 -2 2 -2 -2 0 0 -2 -2 ...\n",
            " $ myBodyIsHypermobileAndLovesToMove                              : int  -2 0 -2 -2 1 -2 0 -2 1 -2 ...\n",
            " $ alwaysHaveFun                                                  : int  2 1 -2 0 1 0 0 -2 -2 -1 ...\n",
            " $ alwaysSerious                                                  : int  -2 0 0 1 -2 -2 0 -2 -2 -1 ...\n",
            " $ alwaysDepressed                                                : int  -1 -2 0 0 -2 -1 -1 -2 0 -1 ...\n",
            " $ alwaysLoveAndCareForYourself                                   : int  2 2 -1 2 1 2 0 0 0 1 ...\n",
            " $ extremelyGoodAbilityToSense                                    : int  1 1 0 1 2 1 0 1 -2 0 ...\n",
            " $ alwaysHaveDigestiveProblems                                    : int  -2 -1 1 -1 0 -2 0 -2 1 -1 ...\n",
            " $ iAmIntenselyInterestedInOtherPeople                            : int  1 -2 -2 -2 -2 0 0 1 -1 0 ...\n",
            " $ iRarelyWakeUpFeelingRested                                     : int  -2 -1 1 1 2 1 0 0 -2 -1 ...\n",
            " $ iFindMostThingsAmusing                                         : int  0 0 -2 1 1 1 0 0 0 0 ...\n",
            " $ iAmAlwaysCommittedAndInvolved                                  : int  1 0 -2 2 1 0 0 -2 -2 1 ...\n",
            " $ iDoNotThinkThatTheWorldIsAGoodPlace                            : int  0 0 -1 1 -1 -2 0 0 1 1 ...\n",
            " $ iAmWellSatisfiedAboutEverythingInMyLife                        : int  -2 0 0 1 0 0 0 0 0 -1 ...\n",
            " $ iFindBeautyInSomeThings                                        : int  1 2 1 1 -1 1 0 1 1 1 ...\n",
            " $ iAlwaysHaveACheerfulEffectOnOthers                             : int  0 0 0 0 0 0 0 0 -1 -2 ...\n",
            " $ iFeelThatIAmNotEspeciallyInControlOfMyLife                     : int  -1 0 0 -1 -1 0 0 -2 0 -1 ...\n",
            " $ iUsuallyHaveAGoodInfluenceOnEvents                             : int  1 -2 -2 -2 0 1 0 -1 0 1 ...\n",
            " $ iDontHaveFunWithOtherPeople                                    : int  -1 -2 -2 -1 -1 -1 0 -1 -2 -1 ...\n",
            " $ alwaysEngageInPreparingAndUsingYourSkillsAndTalentsInOrderToGai: int  2 1 -2 1 2 1 0 0 0 1 ...\n",
            " $ alwaysMakingProgress                                           : int  2 1 0 2 0 1 0 1 0 0 ...\n",
            " $ extremelyGoodCommunicator                                      : int  1 0 1 2 0 0 0 0 0 2 ...\n",
            " $ iDontFeelParticularlyPleasedWithTheWayIAm                      : int  2 -2 2 2 0 -2 0 1 0 1 ...\n",
            " $ iFeelThatLifeIsVeryRewarding                                   : int  2 1 -2 0 1 0 0 1 -2 1 ...\n",
            " $ iHaveVeryWarmFeelingsTowardsAlmostEveryone                     : int  2 0 0 0 0 -2 0 0 -2 0 ...\n",
            " $ iAmNotParticularlyOptimisticAboutTheFuture                     : int  -2 -2 -2 -2 0 0 0 0 1 -2 ...\n",
            " $ lifeIsGood                                                     : int  1 2 -2 0 0 0 0 0 0 0 ...\n",
            " $ iLaughALot                                                     : int  0 0 1 0 1 0 0 1 2 1 ...\n",
            " $ iDontThinkILookAttractive                                      : int  -2 -1 0 -2 -2 1 0 -2 0 0 ...\n",
            " - attr(*, \".internal.selfref\")=<externalptr> \n"
          ]
        }
      ]
    },
    {
      "cell_type": "code",
      "source": [
        "xgb_train_data <- clas_train_data\n",
        "\n",
        "print(class(xgb_train_data))\n",
        "head(xgb_train_data)\n"
      ],
      "metadata": {
        "colab": {
          "base_uri": "https://localhost:8080/",
          "height": 393
        },
        "id": "0uJUJze-_lG6",
        "outputId": "6a81b19b-abdb-49da-f5d3-15b38b7c11b7"
      },
      "execution_count": 204,
      "outputs": [
        {
          "output_type": "stream",
          "name": "stdout",
          "text": [
            "[1] \"data.table\" \"data.frame\"\n"
          ]
        },
        {
          "output_type": "display_data",
          "data": {
            "text/html": [
              "<table class=\"dataframe\">\n",
              "<caption>A data.table: 6 × 43</caption>\n",
              "<thead>\n",
              "\t<tr><th scope=col>gender</th><th scope=col>income</th><th scope=col>whatIsYourHeightExpressItAsANumberInMetresM</th><th scope=col>doYouFeelASenseOfPurposeAndMeaningInYourLife104</th><th scope=col>howDoYouReconcileSpiritualBeliefsWithScientificOrRationalThinki</th><th scope=col>howOftenDoYouFeelSociallyConnectedWithYourPeersAndFriends</th><th scope=col>doYouHaveASupportSystemOfFriendsAndFamilyToTurnToWhenNeeded</th><th scope=col>howOftenDoYouParticipateInSocialActivitiesIncludingClubsSportsV</th><th scope=col>doYouFeelComfortableEngagingInConversationsWithPeopleFromDiffer</th><th scope=col>doYouFeelASenseOfPurposeAndMeaningInYourLife105</th><th scope=col>⋯</th><th scope=col>alwaysEngageInPreparingAndUsingYourSkillsAndTalentsInOrderToGai</th><th scope=col>alwaysMakingProgress</th><th scope=col>extremelyGoodCommunicator</th><th scope=col>iDontFeelParticularlyPleasedWithTheWayIAm</th><th scope=col>iFeelThatLifeIsVeryRewarding</th><th scope=col>iHaveVeryWarmFeelingsTowardsAlmostEveryone</th><th scope=col>iAmNotParticularlyOptimisticAboutTheFuture</th><th scope=col>lifeIsGood</th><th scope=col>iLaughALot</th><th scope=col>iDontThinkILookAttractive</th></tr>\n",
              "\t<tr><th scope=col>&lt;chr&gt;</th><th scope=col>&lt;chr&gt;</th><th scope=col>&lt;chr&gt;</th><th scope=col>&lt;chr&gt;</th><th scope=col>&lt;chr&gt;</th><th scope=col>&lt;chr&gt;</th><th scope=col>&lt;chr&gt;</th><th scope=col>&lt;chr&gt;</th><th scope=col>&lt;chr&gt;</th><th scope=col>&lt;chr&gt;</th><th scope=col>⋯</th><th scope=col>&lt;int&gt;</th><th scope=col>&lt;int&gt;</th><th scope=col>&lt;int&gt;</th><th scope=col>&lt;int&gt;</th><th scope=col>&lt;int&gt;</th><th scope=col>&lt;int&gt;</th><th scope=col>&lt;int&gt;</th><th scope=col>&lt;int&gt;</th><th scope=col>&lt;int&gt;</th><th scope=col>&lt;int&gt;</th></tr>\n",
              "</thead>\n",
              "<tbody>\n",
              "\t<tr><td>Female</td><td>10k - 15k  </td><td>155 - 160</td><td>Yes</td><td>They complement each other</td><td>Rarely   </td><td>Yes, I have both</td><td>More than three times a week</td><td>Sometimes</td><td>Yes</td><td>⋯</td><td> 2</td><td>2</td><td>1</td><td> 2</td><td> 2</td><td> 2</td><td>-2</td><td> 1</td><td>0</td><td>-2</td></tr>\n",
              "\t<tr><td>Female</td><td>120k - 150k</td><td>165 - 170</td><td>Yes</td><td>They conflict             </td><td>Sometimes</td><td>Yes, I have both</td><td>More than three times a week</td><td>Sometimes</td><td>Yes</td><td>⋯</td><td> 1</td><td>1</td><td>0</td><td>-2</td><td> 1</td><td> 0</td><td>-2</td><td> 2</td><td>0</td><td>-1</td></tr>\n",
              "\t<tr><td>Male  </td><td>0 - 10k    </td><td>160 - 165</td><td>Yes</td><td>They complement each other</td><td>Rarely   </td><td>Yes, I have both</td><td>More than three times a week</td><td>Never    </td><td>Yes</td><td>⋯</td><td>-2</td><td>0</td><td>1</td><td> 2</td><td>-2</td><td> 0</td><td>-2</td><td>-2</td><td>1</td><td> 0</td></tr>\n",
              "\t<tr><td>Male  </td><td>80k - 120k </td><td>160 - 165</td><td>Yes</td><td>They complement each other</td><td>Never    </td><td>No              </td><td>At least once a month       </td><td>Never    </td><td>No </td><td>⋯</td><td> 1</td><td>2</td><td>2</td><td> 2</td><td> 0</td><td> 0</td><td>-2</td><td> 0</td><td>0</td><td>-2</td></tr>\n",
              "\t<tr><td>Female</td><td>120k - 150k</td><td>170 - 175</td><td>Yes</td><td>They are separate         </td><td>Never    </td><td>Yes, I have both</td><td>At least once a week        </td><td>Always   </td><td>Yes</td><td>⋯</td><td> 2</td><td>0</td><td>0</td><td> 0</td><td> 1</td><td> 0</td><td> 0</td><td> 0</td><td>1</td><td>-2</td></tr>\n",
              "\t<tr><td>Female</td><td>0 - 10k    </td><td>160 - 165</td><td>Yes</td><td>They complement each other</td><td>Sometimes</td><td>Yes, I have both</td><td>At least once a week        </td><td>Rarely   </td><td>Yes</td><td>⋯</td><td> 1</td><td>1</td><td>0</td><td>-2</td><td> 0</td><td>-2</td><td> 0</td><td> 0</td><td>0</td><td> 1</td></tr>\n",
              "</tbody>\n",
              "</table>\n"
            ],
            "text/markdown": "\nA data.table: 6 × 43\n\n| gender &lt;chr&gt; | income &lt;chr&gt; | whatIsYourHeightExpressItAsANumberInMetresM &lt;chr&gt; | doYouFeelASenseOfPurposeAndMeaningInYourLife104 &lt;chr&gt; | howDoYouReconcileSpiritualBeliefsWithScientificOrRationalThinki &lt;chr&gt; | howOftenDoYouFeelSociallyConnectedWithYourPeersAndFriends &lt;chr&gt; | doYouHaveASupportSystemOfFriendsAndFamilyToTurnToWhenNeeded &lt;chr&gt; | howOftenDoYouParticipateInSocialActivitiesIncludingClubsSportsV &lt;chr&gt; | doYouFeelComfortableEngagingInConversationsWithPeopleFromDiffer &lt;chr&gt; | doYouFeelASenseOfPurposeAndMeaningInYourLife105 &lt;chr&gt; | ⋯ ⋯ | alwaysEngageInPreparingAndUsingYourSkillsAndTalentsInOrderToGai &lt;int&gt; | alwaysMakingProgress &lt;int&gt; | extremelyGoodCommunicator &lt;int&gt; | iDontFeelParticularlyPleasedWithTheWayIAm &lt;int&gt; | iFeelThatLifeIsVeryRewarding &lt;int&gt; | iHaveVeryWarmFeelingsTowardsAlmostEveryone &lt;int&gt; | iAmNotParticularlyOptimisticAboutTheFuture &lt;int&gt; | lifeIsGood &lt;int&gt; | iLaughALot &lt;int&gt; | iDontThinkILookAttractive &lt;int&gt; |\n|---|---|---|---|---|---|---|---|---|---|---|---|---|---|---|---|---|---|---|---|---|\n| Female | 10k - 15k   | 155 - 160 | Yes | They complement each other | Rarely    | Yes, I have both | More than three times a week | Sometimes | Yes | ⋯ |  2 | 2 | 1 |  2 |  2 |  2 | -2 |  1 | 0 | -2 |\n| Female | 120k - 150k | 165 - 170 | Yes | They conflict              | Sometimes | Yes, I have both | More than three times a week | Sometimes | Yes | ⋯ |  1 | 1 | 0 | -2 |  1 |  0 | -2 |  2 | 0 | -1 |\n| Male   | 0 - 10k     | 160 - 165 | Yes | They complement each other | Rarely    | Yes, I have both | More than three times a week | Never     | Yes | ⋯ | -2 | 0 | 1 |  2 | -2 |  0 | -2 | -2 | 1 |  0 |\n| Male   | 80k - 120k  | 160 - 165 | Yes | They complement each other | Never     | No               | At least once a month        | Never     | No  | ⋯ |  1 | 2 | 2 |  2 |  0 |  0 | -2 |  0 | 0 | -2 |\n| Female | 120k - 150k | 170 - 175 | Yes | They are separate          | Never     | Yes, I have both | At least once a week         | Always    | Yes | ⋯ |  2 | 0 | 0 |  0 |  1 |  0 |  0 |  0 | 1 | -2 |\n| Female | 0 - 10k     | 160 - 165 | Yes | They complement each other | Sometimes | Yes, I have both | At least once a week         | Rarely    | Yes | ⋯ |  1 | 1 | 0 | -2 |  0 | -2 |  0 |  0 | 0 |  1 |\n\n",
            "text/latex": "A data.table: 6 × 43\n\\begin{tabular}{lllllllllllllllllllll}\n gender & income & whatIsYourHeightExpressItAsANumberInMetresM & doYouFeelASenseOfPurposeAndMeaningInYourLife104 & howDoYouReconcileSpiritualBeliefsWithScientificOrRationalThinki & howOftenDoYouFeelSociallyConnectedWithYourPeersAndFriends & doYouHaveASupportSystemOfFriendsAndFamilyToTurnToWhenNeeded & howOftenDoYouParticipateInSocialActivitiesIncludingClubsSportsV & doYouFeelComfortableEngagingInConversationsWithPeopleFromDiffer & doYouFeelASenseOfPurposeAndMeaningInYourLife105 & ⋯ & alwaysEngageInPreparingAndUsingYourSkillsAndTalentsInOrderToGai & alwaysMakingProgress & extremelyGoodCommunicator & iDontFeelParticularlyPleasedWithTheWayIAm & iFeelThatLifeIsVeryRewarding & iHaveVeryWarmFeelingsTowardsAlmostEveryone & iAmNotParticularlyOptimisticAboutTheFuture & lifeIsGood & iLaughALot & iDontThinkILookAttractive\\\\\n <chr> & <chr> & <chr> & <chr> & <chr> & <chr> & <chr> & <chr> & <chr> & <chr> & ⋯ & <int> & <int> & <int> & <int> & <int> & <int> & <int> & <int> & <int> & <int>\\\\\n\\hline\n\t Female & 10k - 15k   & 155 - 160 & Yes & They complement each other & Rarely    & Yes, I have both & More than three times a week & Sometimes & Yes & ⋯ &  2 & 2 & 1 &  2 &  2 &  2 & -2 &  1 & 0 & -2\\\\\n\t Female & 120k - 150k & 165 - 170 & Yes & They conflict              & Sometimes & Yes, I have both & More than three times a week & Sometimes & Yes & ⋯ &  1 & 1 & 0 & -2 &  1 &  0 & -2 &  2 & 0 & -1\\\\\n\t Male   & 0 - 10k     & 160 - 165 & Yes & They complement each other & Rarely    & Yes, I have both & More than three times a week & Never     & Yes & ⋯ & -2 & 0 & 1 &  2 & -2 &  0 & -2 & -2 & 1 &  0\\\\\n\t Male   & 80k - 120k  & 160 - 165 & Yes & They complement each other & Never     & No               & At least once a month        & Never     & No  & ⋯ &  1 & 2 & 2 &  2 &  0 &  0 & -2 &  0 & 0 & -2\\\\\n\t Female & 120k - 150k & 170 - 175 & Yes & They are separate          & Never     & Yes, I have both & At least once a week         & Always    & Yes & ⋯ &  2 & 0 & 0 &  0 &  1 &  0 &  0 &  0 & 1 & -2\\\\\n\t Female & 0 - 10k     & 160 - 165 & Yes & They complement each other & Sometimes & Yes, I have both & At least once a week         & Rarely    & Yes & ⋯ &  1 & 1 & 0 & -2 &  0 & -2 &  0 &  0 & 0 &  1\\\\\n\\end{tabular}\n",
            "text/plain": [
              "  gender income      whatIsYourHeightExpressItAsANumberInMetresM\n",
              "1 Female 10k - 15k   155 - 160                                  \n",
              "2 Female 120k - 150k 165 - 170                                  \n",
              "3 Male   0 - 10k     160 - 165                                  \n",
              "4 Male   80k - 120k  160 - 165                                  \n",
              "5 Female 120k - 150k 170 - 175                                  \n",
              "6 Female 0 - 10k     160 - 165                                  \n",
              "  doYouFeelASenseOfPurposeAndMeaningInYourLife104\n",
              "1 Yes                                            \n",
              "2 Yes                                            \n",
              "3 Yes                                            \n",
              "4 Yes                                            \n",
              "5 Yes                                            \n",
              "6 Yes                                            \n",
              "  howDoYouReconcileSpiritualBeliefsWithScientificOrRationalThinki\n",
              "1 They complement each other                                     \n",
              "2 They conflict                                                  \n",
              "3 They complement each other                                     \n",
              "4 They complement each other                                     \n",
              "5 They are separate                                              \n",
              "6 They complement each other                                     \n",
              "  howOftenDoYouFeelSociallyConnectedWithYourPeersAndFriends\n",
              "1 Rarely                                                   \n",
              "2 Sometimes                                                \n",
              "3 Rarely                                                   \n",
              "4 Never                                                    \n",
              "5 Never                                                    \n",
              "6 Sometimes                                                \n",
              "  doYouHaveASupportSystemOfFriendsAndFamilyToTurnToWhenNeeded\n",
              "1 Yes, I have both                                           \n",
              "2 Yes, I have both                                           \n",
              "3 Yes, I have both                                           \n",
              "4 No                                                         \n",
              "5 Yes, I have both                                           \n",
              "6 Yes, I have both                                           \n",
              "  howOftenDoYouParticipateInSocialActivitiesIncludingClubsSportsV\n",
              "1 More than three times a week                                   \n",
              "2 More than three times a week                                   \n",
              "3 More than three times a week                                   \n",
              "4 At least once a month                                          \n",
              "5 At least once a week                                           \n",
              "6 At least once a week                                           \n",
              "  doYouFeelComfortableEngagingInConversationsWithPeopleFromDiffer\n",
              "1 Sometimes                                                      \n",
              "2 Sometimes                                                      \n",
              "3 Never                                                          \n",
              "4 Never                                                          \n",
              "5 Always                                                         \n",
              "6 Rarely                                                         \n",
              "  doYouFeelASenseOfPurposeAndMeaningInYourLife105 ⋯\n",
              "1 Yes                                             ⋯\n",
              "2 Yes                                             ⋯\n",
              "3 Yes                                             ⋯\n",
              "4 No                                              ⋯\n",
              "5 Yes                                             ⋯\n",
              "6 Yes                                             ⋯\n",
              "  alwaysEngageInPreparingAndUsingYourSkillsAndTalentsInOrderToGai\n",
              "1  2                                                             \n",
              "2  1                                                             \n",
              "3 -2                                                             \n",
              "4  1                                                             \n",
              "5  2                                                             \n",
              "6  1                                                             \n",
              "  alwaysMakingProgress extremelyGoodCommunicator\n",
              "1 2                    1                        \n",
              "2 1                    0                        \n",
              "3 0                    1                        \n",
              "4 2                    2                        \n",
              "5 0                    0                        \n",
              "6 1                    0                        \n",
              "  iDontFeelParticularlyPleasedWithTheWayIAm iFeelThatLifeIsVeryRewarding\n",
              "1  2                                         2                          \n",
              "2 -2                                         1                          \n",
              "3  2                                        -2                          \n",
              "4  2                                         0                          \n",
              "5  0                                         1                          \n",
              "6 -2                                         0                          \n",
              "  iHaveVeryWarmFeelingsTowardsAlmostEveryone\n",
              "1  2                                        \n",
              "2  0                                        \n",
              "3  0                                        \n",
              "4  0                                        \n",
              "5  0                                        \n",
              "6 -2                                        \n",
              "  iAmNotParticularlyOptimisticAboutTheFuture lifeIsGood iLaughALot\n",
              "1 -2                                          1         0         \n",
              "2 -2                                          2         0         \n",
              "3 -2                                         -2         1         \n",
              "4 -2                                          0         0         \n",
              "5  0                                          0         1         \n",
              "6  0                                          0         0         \n",
              "  iDontThinkILookAttractive\n",
              "1 -2                       \n",
              "2 -1                       \n",
              "3  0                       \n",
              "4 -2                       \n",
              "5 -2                       \n",
              "6  1                       "
            ]
          },
          "metadata": {}
        }
      ]
    },
    {
      "cell_type": "markdown",
      "source": [
        "##### One-hot encoding character ('chr') columns in training data"
      ],
      "metadata": {
        "id": "8qv7lA4KErmB"
      }
    },
    {
      "cell_type": "code",
      "source": [
        "# Specify the columns to one-hot encode\n",
        "columns_to_encode <- c('gender', 'income', 'whatIsYourHeightExpressItAsANumberInMetresM',\n",
        "                       'doYouFeelASenseOfPurposeAndMeaningInYourLife104',\n",
        "                       'howDoYouReconcileSpiritualBeliefsWithScientificOrRationalThinki',\n",
        "                       'howOftenDoYouFeelSociallyConnectedWithYourPeersAndFriends',\n",
        "                       'doYouHaveASupportSystemOfFriendsAndFamilyToTurnToWhenNeeded',\n",
        "                       'howOftenDoYouParticipateInSocialActivitiesIncludingClubsSportsV',\n",
        "                       'doYouFeelComfortableEngagingInConversationsWithPeopleFromDiffer',\n",
        "                       'doYouFeelASenseOfPurposeAndMeaningInYourLife105')\n",
        "\n",
        "# Create dummy variables\n",
        "dummy_model <- dummyVars(~ gender + income + whatIsYourHeightExpressItAsANumberInMetresM +\n",
        "                         doYouFeelASenseOfPurposeAndMeaningInYourLife104 +\n",
        "                         howDoYouReconcileSpiritualBeliefsWithScientificOrRationalThinki +\n",
        "                         howOftenDoYouFeelSociallyConnectedWithYourPeersAndFriends +\n",
        "                         doYouHaveASupportSystemOfFriendsAndFamilyToTurnToWhenNeeded +\n",
        "                         howOftenDoYouParticipateInSocialActivitiesIncludingClubsSportsV +\n",
        "                         doYouFeelComfortableEngagingInConversationsWithPeopleFromDiffer +\n",
        "                         doYouFeelASenseOfPurposeAndMeaningInYourLife105, data = xgb_train_data)\n",
        "\n",
        "# Transform the data\n",
        "data_transformed <- predict(dummy_model, newdata = xgb_train_data) %>%\n",
        "  as.data.frame()\n",
        "\n",
        "# Bind the transformed data with the rest of the dataset\n",
        "ohe_clas_train_data <- xgb_train_data %>%\n",
        "  select(-one_of(columns_to_encode)) %>%\n",
        "  bind_cols(data_transformed)\n",
        "\n",
        "# Verify the transformation\n",
        "head(ohe_clas_train_data)"
      ],
      "metadata": {
        "colab": {
          "base_uri": "https://localhost:8080/",
          "height": 323
        },
        "id": "XELNvq5FAHXj",
        "outputId": "6c3d9e39-9a15-43a2-9752-9a4ba8a0b9b8"
      },
      "execution_count": 205,
      "outputs": [
        {
          "output_type": "display_data",
          "data": {
            "text/html": [
              "<table class=\"dataframe\">\n",
              "<caption>A data.table: 6 × 79</caption>\n",
              "<thead>\n",
              "\t<tr><th scope=col>perfectMentalHealth</th><th scope=col>alwaysAnxious</th><th scope=col>alwaysStressed</th><th scope=col>alwaysAccountableAndResponsibleForYourActions</th><th scope=col>alwaysCalm</th><th scope=col>myBodyIsHypermobileAndLovesToMove</th><th scope=col>alwaysHaveFun</th><th scope=col>alwaysSerious</th><th scope=col>alwaysDepressed</th><th scope=col>alwaysLoveAndCareForYourself</th><th scope=col>⋯</th><th scope=col>howOftenDoYouParticipateInSocialActivitiesIncludingClubsSportsVAt least once a week</th><th scope=col>howOftenDoYouParticipateInSocialActivitiesIncludingClubsSportsVMore than three times a week</th><th scope=col>howOftenDoYouParticipateInSocialActivitiesIncludingClubsSportsVNo</th><th scope=col>howOftenDoYouParticipateInSocialActivitiesIncludingClubsSportsVRarely</th><th scope=col>doYouFeelComfortableEngagingInConversationsWithPeopleFromDifferAlways</th><th scope=col>doYouFeelComfortableEngagingInConversationsWithPeopleFromDifferNever</th><th scope=col>doYouFeelComfortableEngagingInConversationsWithPeopleFromDifferRarely</th><th scope=col>doYouFeelComfortableEngagingInConversationsWithPeopleFromDifferSometimes</th><th scope=col>doYouFeelASenseOfPurposeAndMeaningInYourLife105No</th><th scope=col>doYouFeelASenseOfPurposeAndMeaningInYourLife105Yes</th></tr>\n",
              "\t<tr><th scope=col>&lt;int&gt;</th><th scope=col>&lt;int&gt;</th><th scope=col>&lt;int&gt;</th><th scope=col>&lt;int&gt;</th><th scope=col>&lt;int&gt;</th><th scope=col>&lt;int&gt;</th><th scope=col>&lt;int&gt;</th><th scope=col>&lt;int&gt;</th><th scope=col>&lt;int&gt;</th><th scope=col>&lt;int&gt;</th><th scope=col>⋯</th><th scope=col>&lt;dbl&gt;</th><th scope=col>&lt;dbl&gt;</th><th scope=col>&lt;dbl&gt;</th><th scope=col>&lt;dbl&gt;</th><th scope=col>&lt;dbl&gt;</th><th scope=col>&lt;dbl&gt;</th><th scope=col>&lt;dbl&gt;</th><th scope=col>&lt;dbl&gt;</th><th scope=col>&lt;dbl&gt;</th><th scope=col>&lt;dbl&gt;</th></tr>\n",
              "</thead>\n",
              "<tbody>\n",
              "\t<tr><td> 2</td><td>-1</td><td>-2</td><td>1</td><td> 0</td><td>-2</td><td> 2</td><td>-2</td><td>-1</td><td> 2</td><td>⋯</td><td>0</td><td>1</td><td>0</td><td>0</td><td>0</td><td>0</td><td>0</td><td>1</td><td>0</td><td>1</td></tr>\n",
              "\t<tr><td> 1</td><td> 0</td><td> 1</td><td>1</td><td>-2</td><td> 0</td><td> 1</td><td> 0</td><td>-2</td><td> 2</td><td>⋯</td><td>0</td><td>1</td><td>0</td><td>0</td><td>0</td><td>0</td><td>0</td><td>1</td><td>0</td><td>1</td></tr>\n",
              "\t<tr><td> 0</td><td> 2</td><td> 1</td><td>0</td><td>-2</td><td>-2</td><td>-2</td><td> 0</td><td> 0</td><td>-1</td><td>⋯</td><td>0</td><td>1</td><td>0</td><td>0</td><td>0</td><td>1</td><td>0</td><td>0</td><td>0</td><td>1</td></tr>\n",
              "\t<tr><td>-2</td><td> 0</td><td> 0</td><td>2</td><td> 2</td><td>-2</td><td> 0</td><td> 1</td><td> 0</td><td> 2</td><td>⋯</td><td>0</td><td>0</td><td>0</td><td>0</td><td>0</td><td>1</td><td>0</td><td>0</td><td>1</td><td>0</td></tr>\n",
              "\t<tr><td> 1</td><td>-2</td><td> 1</td><td>2</td><td>-2</td><td> 1</td><td> 1</td><td>-2</td><td>-2</td><td> 1</td><td>⋯</td><td>1</td><td>0</td><td>0</td><td>0</td><td>1</td><td>0</td><td>0</td><td>0</td><td>0</td><td>1</td></tr>\n",
              "\t<tr><td>-2</td><td>-1</td><td>-1</td><td>1</td><td>-2</td><td>-2</td><td> 0</td><td>-2</td><td>-1</td><td> 2</td><td>⋯</td><td>1</td><td>0</td><td>0</td><td>0</td><td>0</td><td>0</td><td>1</td><td>0</td><td>0</td><td>1</td></tr>\n",
              "</tbody>\n",
              "</table>\n"
            ],
            "text/markdown": "\nA data.table: 6 × 79\n\n| perfectMentalHealth &lt;int&gt; | alwaysAnxious &lt;int&gt; | alwaysStressed &lt;int&gt; | alwaysAccountableAndResponsibleForYourActions &lt;int&gt; | alwaysCalm &lt;int&gt; | myBodyIsHypermobileAndLovesToMove &lt;int&gt; | alwaysHaveFun &lt;int&gt; | alwaysSerious &lt;int&gt; | alwaysDepressed &lt;int&gt; | alwaysLoveAndCareForYourself &lt;int&gt; | ⋯ ⋯ | howOftenDoYouParticipateInSocialActivitiesIncludingClubsSportsVAt least once a week &lt;dbl&gt; | howOftenDoYouParticipateInSocialActivitiesIncludingClubsSportsVMore than three times a week &lt;dbl&gt; | howOftenDoYouParticipateInSocialActivitiesIncludingClubsSportsVNo &lt;dbl&gt; | howOftenDoYouParticipateInSocialActivitiesIncludingClubsSportsVRarely &lt;dbl&gt; | doYouFeelComfortableEngagingInConversationsWithPeopleFromDifferAlways &lt;dbl&gt; | doYouFeelComfortableEngagingInConversationsWithPeopleFromDifferNever &lt;dbl&gt; | doYouFeelComfortableEngagingInConversationsWithPeopleFromDifferRarely &lt;dbl&gt; | doYouFeelComfortableEngagingInConversationsWithPeopleFromDifferSometimes &lt;dbl&gt; | doYouFeelASenseOfPurposeAndMeaningInYourLife105No &lt;dbl&gt; | doYouFeelASenseOfPurposeAndMeaningInYourLife105Yes &lt;dbl&gt; |\n|---|---|---|---|---|---|---|---|---|---|---|---|---|---|---|---|---|---|---|---|---|\n|  2 | -1 | -2 | 1 |  0 | -2 |  2 | -2 | -1 |  2 | ⋯ | 0 | 1 | 0 | 0 | 0 | 0 | 0 | 1 | 0 | 1 |\n|  1 |  0 |  1 | 1 | -2 |  0 |  1 |  0 | -2 |  2 | ⋯ | 0 | 1 | 0 | 0 | 0 | 0 | 0 | 1 | 0 | 1 |\n|  0 |  2 |  1 | 0 | -2 | -2 | -2 |  0 |  0 | -1 | ⋯ | 0 | 1 | 0 | 0 | 0 | 1 | 0 | 0 | 0 | 1 |\n| -2 |  0 |  0 | 2 |  2 | -2 |  0 |  1 |  0 |  2 | ⋯ | 0 | 0 | 0 | 0 | 0 | 1 | 0 | 0 | 1 | 0 |\n|  1 | -2 |  1 | 2 | -2 |  1 |  1 | -2 | -2 |  1 | ⋯ | 1 | 0 | 0 | 0 | 1 | 0 | 0 | 0 | 0 | 1 |\n| -2 | -1 | -1 | 1 | -2 | -2 |  0 | -2 | -1 |  2 | ⋯ | 1 | 0 | 0 | 0 | 0 | 0 | 1 | 0 | 0 | 1 |\n\n",
            "text/latex": "A data.table: 6 × 79\n\\begin{tabular}{lllllllllllllllllllll}\n perfectMentalHealth & alwaysAnxious & alwaysStressed & alwaysAccountableAndResponsibleForYourActions & alwaysCalm & myBodyIsHypermobileAndLovesToMove & alwaysHaveFun & alwaysSerious & alwaysDepressed & alwaysLoveAndCareForYourself & ⋯ & howOftenDoYouParticipateInSocialActivitiesIncludingClubsSportsVAt least once a week & howOftenDoYouParticipateInSocialActivitiesIncludingClubsSportsVMore than three times a week & howOftenDoYouParticipateInSocialActivitiesIncludingClubsSportsVNo & howOftenDoYouParticipateInSocialActivitiesIncludingClubsSportsVRarely & doYouFeelComfortableEngagingInConversationsWithPeopleFromDifferAlways & doYouFeelComfortableEngagingInConversationsWithPeopleFromDifferNever & doYouFeelComfortableEngagingInConversationsWithPeopleFromDifferRarely & doYouFeelComfortableEngagingInConversationsWithPeopleFromDifferSometimes & doYouFeelASenseOfPurposeAndMeaningInYourLife105No & doYouFeelASenseOfPurposeAndMeaningInYourLife105Yes\\\\\n <int> & <int> & <int> & <int> & <int> & <int> & <int> & <int> & <int> & <int> & ⋯ & <dbl> & <dbl> & <dbl> & <dbl> & <dbl> & <dbl> & <dbl> & <dbl> & <dbl> & <dbl>\\\\\n\\hline\n\t  2 & -1 & -2 & 1 &  0 & -2 &  2 & -2 & -1 &  2 & ⋯ & 0 & 1 & 0 & 0 & 0 & 0 & 0 & 1 & 0 & 1\\\\\n\t  1 &  0 &  1 & 1 & -2 &  0 &  1 &  0 & -2 &  2 & ⋯ & 0 & 1 & 0 & 0 & 0 & 0 & 0 & 1 & 0 & 1\\\\\n\t  0 &  2 &  1 & 0 & -2 & -2 & -2 &  0 &  0 & -1 & ⋯ & 0 & 1 & 0 & 0 & 0 & 1 & 0 & 0 & 0 & 1\\\\\n\t -2 &  0 &  0 & 2 &  2 & -2 &  0 &  1 &  0 &  2 & ⋯ & 0 & 0 & 0 & 0 & 0 & 1 & 0 & 0 & 1 & 0\\\\\n\t  1 & -2 &  1 & 2 & -2 &  1 &  1 & -2 & -2 &  1 & ⋯ & 1 & 0 & 0 & 0 & 1 & 0 & 0 & 0 & 0 & 1\\\\\n\t -2 & -1 & -1 & 1 & -2 & -2 &  0 & -2 & -1 &  2 & ⋯ & 1 & 0 & 0 & 0 & 0 & 0 & 1 & 0 & 0 & 1\\\\\n\\end{tabular}\n",
            "text/plain": [
              "  perfectMentalHealth alwaysAnxious alwaysStressed\n",
              "1  2                  -1            -2            \n",
              "2  1                   0             1            \n",
              "3  0                   2             1            \n",
              "4 -2                   0             0            \n",
              "5  1                  -2             1            \n",
              "6 -2                  -1            -1            \n",
              "  alwaysAccountableAndResponsibleForYourActions alwaysCalm\n",
              "1 1                                              0        \n",
              "2 1                                             -2        \n",
              "3 0                                             -2        \n",
              "4 2                                              2        \n",
              "5 2                                             -2        \n",
              "6 1                                             -2        \n",
              "  myBodyIsHypermobileAndLovesToMove alwaysHaveFun alwaysSerious alwaysDepressed\n",
              "1 -2                                 2            -2            -1             \n",
              "2  0                                 1             0            -2             \n",
              "3 -2                                -2             0             0             \n",
              "4 -2                                 0             1             0             \n",
              "5  1                                 1            -2            -2             \n",
              "6 -2                                 0            -2            -1             \n",
              "  alwaysLoveAndCareForYourself ⋯\n",
              "1  2                           ⋯\n",
              "2  2                           ⋯\n",
              "3 -1                           ⋯\n",
              "4  2                           ⋯\n",
              "5  1                           ⋯\n",
              "6  2                           ⋯\n",
              "  howOftenDoYouParticipateInSocialActivitiesIncludingClubsSportsVAt least once a week\n",
              "1 0                                                                                  \n",
              "2 0                                                                                  \n",
              "3 0                                                                                  \n",
              "4 0                                                                                  \n",
              "5 1                                                                                  \n",
              "6 1                                                                                  \n",
              "  howOftenDoYouParticipateInSocialActivitiesIncludingClubsSportsVMore than three times a week\n",
              "1 1                                                                                          \n",
              "2 1                                                                                          \n",
              "3 1                                                                                          \n",
              "4 0                                                                                          \n",
              "5 0                                                                                          \n",
              "6 0                                                                                          \n",
              "  howOftenDoYouParticipateInSocialActivitiesIncludingClubsSportsVNo\n",
              "1 0                                                                \n",
              "2 0                                                                \n",
              "3 0                                                                \n",
              "4 0                                                                \n",
              "5 0                                                                \n",
              "6 0                                                                \n",
              "  howOftenDoYouParticipateInSocialActivitiesIncludingClubsSportsVRarely\n",
              "1 0                                                                    \n",
              "2 0                                                                    \n",
              "3 0                                                                    \n",
              "4 0                                                                    \n",
              "5 0                                                                    \n",
              "6 0                                                                    \n",
              "  doYouFeelComfortableEngagingInConversationsWithPeopleFromDifferAlways\n",
              "1 0                                                                    \n",
              "2 0                                                                    \n",
              "3 0                                                                    \n",
              "4 0                                                                    \n",
              "5 1                                                                    \n",
              "6 0                                                                    \n",
              "  doYouFeelComfortableEngagingInConversationsWithPeopleFromDifferNever\n",
              "1 0                                                                   \n",
              "2 0                                                                   \n",
              "3 1                                                                   \n",
              "4 1                                                                   \n",
              "5 0                                                                   \n",
              "6 0                                                                   \n",
              "  doYouFeelComfortableEngagingInConversationsWithPeopleFromDifferRarely\n",
              "1 0                                                                    \n",
              "2 0                                                                    \n",
              "3 0                                                                    \n",
              "4 0                                                                    \n",
              "5 0                                                                    \n",
              "6 1                                                                    \n",
              "  doYouFeelComfortableEngagingInConversationsWithPeopleFromDifferSometimes\n",
              "1 1                                                                       \n",
              "2 1                                                                       \n",
              "3 0                                                                       \n",
              "4 0                                                                       \n",
              "5 0                                                                       \n",
              "6 0                                                                       \n",
              "  doYouFeelASenseOfPurposeAndMeaningInYourLife105No\n",
              "1 0                                                \n",
              "2 0                                                \n",
              "3 0                                                \n",
              "4 1                                                \n",
              "5 0                                                \n",
              "6 0                                                \n",
              "  doYouFeelASenseOfPurposeAndMeaningInYourLife105Yes\n",
              "1 1                                                 \n",
              "2 1                                                 \n",
              "3 1                                                 \n",
              "4 0                                                 \n",
              "5 1                                                 \n",
              "6 1                                                 "
            ]
          },
          "metadata": {}
        }
      ]
    },
    {
      "cell_type": "markdown",
      "source": [
        "##### Defining the 'x' and 'y' inputs for XGBoost Model"
      ],
      "metadata": {
        "id": "Ml6ONPsDE40R"
      }
    },
    {
      "cell_type": "code",
      "source": [
        "# Exclude column 'perfectMentalHealth' from data_matrix\n",
        "data_matrix <- ohe_clas_train_data[, -\"perfectMentalHealth\"]\n",
        "\n",
        "# Check class and structure of data_matrix\n",
        "typeof(data_matrix)\n",
        "\n",
        "class(as.matrix(data_matrix))\n",
        "typeof(as.matrix(data_matrix))"
      ],
      "metadata": {
        "colab": {
          "base_uri": "https://localhost:8080/",
          "height": 69
        },
        "id": "4xfueKrFARCY",
        "outputId": "676c4f4c-ca00-4b1f-e758-2bb43b1a941c"
      },
      "execution_count": 206,
      "outputs": [
        {
          "output_type": "display_data",
          "data": {
            "text/html": [
              "'list'"
            ],
            "text/markdown": "'list'",
            "text/latex": "'list'",
            "text/plain": [
              "[1] \"list\""
            ]
          },
          "metadata": {}
        },
        {
          "output_type": "display_data",
          "data": {
            "text/html": [
              "<style>\n",
              ".list-inline {list-style: none; margin:0; padding: 0}\n",
              ".list-inline>li {display: inline-block}\n",
              ".list-inline>li:not(:last-child)::after {content: \"\\00b7\"; padding: 0 .5ex}\n",
              "</style>\n",
              "<ol class=list-inline><li>'matrix'</li><li>'array'</li></ol>\n"
            ],
            "text/markdown": "1. 'matrix'\n2. 'array'\n\n\n",
            "text/latex": "\\begin{enumerate*}\n\\item 'matrix'\n\\item 'array'\n\\end{enumerate*}\n",
            "text/plain": [
              "[1] \"matrix\" \"array\" "
            ]
          },
          "metadata": {}
        },
        {
          "output_type": "display_data",
          "data": {
            "text/html": [
              "'double'"
            ],
            "text/markdown": "'double'",
            "text/latex": "'double'",
            "text/plain": [
              "[1] \"double\""
            ]
          },
          "metadata": {}
        }
      ]
    },
    {
      "cell_type": "code",
      "source": [
        "# Seprate out the outcome variable to be used as labels in XG Boost model\n",
        "labels <- xgb_train_data$perfectMentalHealth + 2\n",
        "typeof(labels)\n",
        "\n",
        "# Create xgboost matrix\n",
        "clas_dtrain <- xgb.DMatrix(data = as.matrix(data_matrix), label = labels)\n",
        "clas_dtrain"
      ],
      "metadata": {
        "colab": {
          "base_uri": "https://localhost:8080/",
          "height": 52
        },
        "id": "yOgxQ1rrAdbC",
        "outputId": "a5d57324-6887-4a54-ff7c-dbbb2d890636"
      },
      "execution_count": 207,
      "outputs": [
        {
          "output_type": "display_data",
          "data": {
            "text/html": [
              "'double'"
            ],
            "text/markdown": "'double'",
            "text/latex": "'double'",
            "text/plain": [
              "[1] \"double\""
            ]
          },
          "metadata": {}
        },
        {
          "output_type": "display_data",
          "data": {
            "text/plain": [
              "xgb.DMatrix  dim: 500 x 78  info: label  colnames: yes"
            ]
          },
          "metadata": {}
        }
      ]
    },
    {
      "cell_type": "markdown",
      "source": [
        "Here, I've defined the labels as 'perfectMentalHealth' + 2 because XG Boost requires its outcome classes to start from '0' and since this outcome has the following classes: -2, -1, 0, 1, 2."
      ],
      "metadata": {
        "id": "-1xxSt9CGmN8"
      }
    },
    {
      "cell_type": "markdown",
      "source": [
        "##### XG Boost Model Training"
      ],
      "metadata": {
        "id": "KmsnWI2GFBIt"
      }
    },
    {
      "cell_type": "markdown",
      "source": [
        "Model Hyperparameters:\n",
        "- Booster model - 'gbtree' (same as for my regression final model)\n",
        "- objective function of learning task: \"multi:softmax\" - perform multi-class classification based on softmax function's prob. distribution over classes for each instance.\n",
        "- num_classes: outcome no. of classes to predict.\n",
        "- evaluation metric: 'mlogloss' - help model learn how the predicted outcome class differes from actual outcome class during training.\n",
        "- max_depth: max depth of decision trees built.\n",
        "- min_child_weight: no. of classifications needed in each valid child (weight).\n",
        "- eta - learning rate of the model during training.\n",
        "- gamma - min. lass reduction needed to make further partition on a leaf node during building of decision trees.\n",
        "- colsample_bytree - subsample ratio of columns when constructing each decision tree.\n",
        "- subsample - subsample ratio of the training instance"
      ],
      "metadata": {
        "id": "P62WTRWqKYxZ"
      }
    },
    {
      "cell_type": "code",
      "source": [
        "# help reproduce the result\n",
        "set.seed(333)\n",
        "\n",
        "# Set parameters for XGBoost\n",
        "params <- list(\n",
        "  objective = \"multi:softmax\",  # for multi-class classification\n",
        "  num_class = 5,                # number of classes in outcome variable\n",
        "  eval_metric = \"mlogloss\",     # metric for evaluation\n",
        "  max_depth = 8,                # maximum depth of trees\n",
        "  min_child_weight = 3,         # min sum of instance weight in a child node\n",
        "  eta = 0.1,                    # learning rate\n",
        "  gamma = 0.3,                  # minimum loss reduction required to make a further partition\n",
        "  colsample_bytree = 0.75,      # subsample ratio of columns when constructing each tree\n",
        "  subsample = 0.75              # subsample ratio of the training instance\n",
        ")\n",
        "\n",
        "\n",
        "# Train the XGBoost model\n",
        "clas_xgb_model <- xgboost(params = params, data = clas_dtrain, nrounds = 100, verbose = FALSE)"
      ],
      "metadata": {
        "id": "Q2J1H7ODAo7P"
      },
      "execution_count": 208,
      "outputs": []
    },
    {
      "cell_type": "code",
      "source": [
        "# Make predictions on the test set\n",
        "predictions <- predict(clas_xgb_model, clas_dtrain) - 2\n",
        "\n",
        "# Evaluate model performance\n",
        "accuracy <- mean(predictions == ohe_clas_train_data$perfectMentalHealth)\n",
        "cat(\"Accuracy:\", accuracy, \"\\n\")"
      ],
      "metadata": {
        "colab": {
          "base_uri": "https://localhost:8080/",
          "height": 0
        },
        "id": "0eg7K3SiAxih",
        "outputId": "d22e49a6-ac63-47dc-b69a-36a7c7482f66"
      },
      "execution_count": 209,
      "outputs": [
        {
          "output_type": "stream",
          "name": "stdout",
          "text": [
            "Accuracy: 1 \n"
          ]
        }
      ]
    },
    {
      "cell_type": "markdown",
      "source": [
        "Here, while making predictions I'm subracting two as the classes are to be reset to start from -2 instead of 0.\n",
        "\n",
        "- please note that I've calculated the accuracy on the training dataset outcomes itself to help check when the hyperparamter settings cause the model to overfit or underfit"
      ],
      "metadata": {
        "id": "-HgFfdjuGbL6"
      }
    },
    {
      "cell_type": "markdown",
      "source": [
        "##### Preparing the test data for predictions"
      ],
      "metadata": {
        "id": "nJ7SfeJ7FIC-"
      }
    },
    {
      "cell_type": "code",
      "source": [
        "# Specify the columns to one-hot encode\n",
        "columns_to_encode <- c('gender', 'income', 'whatIsYourHeightExpressItAsANumberInMetresM',\n",
        "                       'doYouFeelASenseOfPurposeAndMeaningInYourLife104',\n",
        "                       'howDoYouReconcileSpiritualBeliefsWithScientificOrRationalThinki',\n",
        "                       'howOftenDoYouFeelSociallyConnectedWithYourPeersAndFriends',\n",
        "                       'doYouHaveASupportSystemOfFriendsAndFamilyToTurnToWhenNeeded',\n",
        "                       'howOftenDoYouParticipateInSocialActivitiesIncludingClubsSportsV',\n",
        "                       'doYouFeelComfortableEngagingInConversationsWithPeopleFromDiffer',\n",
        "                       'doYouFeelASenseOfPurposeAndMeaningInYourLife105')\n",
        "\n",
        "# Create dummy variables\n",
        "dummy_model_test <- dummyVars(~ gender + income + whatIsYourHeightExpressItAsANumberInMetresM +\n",
        "                         doYouFeelASenseOfPurposeAndMeaningInYourLife104 +\n",
        "                         howDoYouReconcileSpiritualBeliefsWithScientificOrRationalThinki +\n",
        "                         howOftenDoYouFeelSociallyConnectedWithYourPeersAndFriends +\n",
        "                         doYouHaveASupportSystemOfFriendsAndFamilyToTurnToWhenNeeded +\n",
        "                         howOftenDoYouParticipateInSocialActivitiesIncludingClubsSportsV +\n",
        "                         doYouFeelComfortableEngagingInConversationsWithPeopleFromDiffer +\n",
        "                         doYouFeelASenseOfPurposeAndMeaningInYourLife105, data = clas_test_data)\n",
        "\n",
        "# Transform the data\n",
        "data_transformed <- predict(dummy_model_test, newdata = clas_test_data) %>%\n",
        "  as.data.frame()\n",
        "\n",
        "# Bind the transformed data with the rest of the dataset\n",
        "ohe_clas_test_data <- clas_test_data %>%\n",
        "  select(-one_of(columns_to_encode)) %>%\n",
        "  bind_cols(data_transformed)\n",
        "\n",
        "# Verify the transformation\n",
        "head(ohe_clas_test_data)"
      ],
      "metadata": {
        "colab": {
          "base_uri": "https://localhost:8080/",
          "height": 323
        },
        "id": "u9N0Unc0A4eM",
        "outputId": "6bb1d963-741b-49ae-f3f5-be5927613b6a"
      },
      "execution_count": 210,
      "outputs": [
        {
          "output_type": "display_data",
          "data": {
            "text/html": [
              "<table class=\"dataframe\">\n",
              "<caption>A data.table: 6 × 78</caption>\n",
              "<thead>\n",
              "\t<tr><th scope=col>alwaysAnxious</th><th scope=col>alwaysStressed</th><th scope=col>alwaysAccountableAndResponsibleForYourActions</th><th scope=col>alwaysCalm</th><th scope=col>myBodyIsHypermobileAndLovesToMove</th><th scope=col>alwaysHaveFun</th><th scope=col>alwaysSerious</th><th scope=col>alwaysDepressed</th><th scope=col>alwaysLoveAndCareForYourself</th><th scope=col>extremelyGoodAbilityToSense</th><th scope=col>⋯</th><th scope=col>howOftenDoYouParticipateInSocialActivitiesIncludingClubsSportsVAt least once a week</th><th scope=col>howOftenDoYouParticipateInSocialActivitiesIncludingClubsSportsVMore than three times a week</th><th scope=col>howOftenDoYouParticipateInSocialActivitiesIncludingClubsSportsVNo</th><th scope=col>howOftenDoYouParticipateInSocialActivitiesIncludingClubsSportsVRarely</th><th scope=col>doYouFeelComfortableEngagingInConversationsWithPeopleFromDifferAlways</th><th scope=col>doYouFeelComfortableEngagingInConversationsWithPeopleFromDifferNever</th><th scope=col>doYouFeelComfortableEngagingInConversationsWithPeopleFromDifferRarely</th><th scope=col>doYouFeelComfortableEngagingInConversationsWithPeopleFromDifferSometimes</th><th scope=col>doYouFeelASenseOfPurposeAndMeaningInYourLife105No</th><th scope=col>doYouFeelASenseOfPurposeAndMeaningInYourLife105Yes</th></tr>\n",
              "\t<tr><th scope=col>&lt;int&gt;</th><th scope=col>&lt;int&gt;</th><th scope=col>&lt;int&gt;</th><th scope=col>&lt;int&gt;</th><th scope=col>&lt;int&gt;</th><th scope=col>&lt;int&gt;</th><th scope=col>&lt;int&gt;</th><th scope=col>&lt;int&gt;</th><th scope=col>&lt;int&gt;</th><th scope=col>&lt;int&gt;</th><th scope=col>⋯</th><th scope=col>&lt;dbl&gt;</th><th scope=col>&lt;dbl&gt;</th><th scope=col>&lt;dbl&gt;</th><th scope=col>&lt;dbl&gt;</th><th scope=col>&lt;dbl&gt;</th><th scope=col>&lt;dbl&gt;</th><th scope=col>&lt;dbl&gt;</th><th scope=col>&lt;dbl&gt;</th><th scope=col>&lt;dbl&gt;</th><th scope=col>&lt;dbl&gt;</th></tr>\n",
              "</thead>\n",
              "<tbody>\n",
              "\t<tr><td>-1</td><td>-1</td><td>1</td><td>1</td><td>0</td><td>0</td><td> 0</td><td>-1</td><td>1</td><td>1</td><td>⋯</td><td>1</td><td>0</td><td>0</td><td>0</td><td>1</td><td>0</td><td>0</td><td>0</td><td>0</td><td>1</td></tr>\n",
              "\t<tr><td>-1</td><td>-1</td><td>1</td><td>1</td><td>0</td><td>0</td><td> 0</td><td>-1</td><td>1</td><td>1</td><td>⋯</td><td>1</td><td>0</td><td>0</td><td>0</td><td>1</td><td>0</td><td>0</td><td>0</td><td>0</td><td>1</td></tr>\n",
              "\t<tr><td>-1</td><td>-1</td><td>1</td><td>1</td><td>0</td><td>0</td><td> 0</td><td>-1</td><td>1</td><td>1</td><td>⋯</td><td>1</td><td>0</td><td>0</td><td>0</td><td>1</td><td>0</td><td>0</td><td>0</td><td>0</td><td>1</td></tr>\n",
              "\t<tr><td>-1</td><td>-1</td><td>1</td><td>1</td><td>0</td><td>0</td><td> 0</td><td>-1</td><td>1</td><td>1</td><td>⋯</td><td>1</td><td>0</td><td>0</td><td>0</td><td>1</td><td>0</td><td>0</td><td>0</td><td>0</td><td>1</td></tr>\n",
              "\t<tr><td>-2</td><td>-2</td><td>1</td><td>1</td><td>0</td><td>1</td><td>-1</td><td>-1</td><td>2</td><td>1</td><td>⋯</td><td>1</td><td>0</td><td>0</td><td>0</td><td>0</td><td>0</td><td>0</td><td>1</td><td>0</td><td>1</td></tr>\n",
              "\t<tr><td>-1</td><td> 0</td><td>1</td><td>1</td><td>1</td><td>1</td><td>-1</td><td>-1</td><td>1</td><td>1</td><td>⋯</td><td>1</td><td>0</td><td>0</td><td>0</td><td>1</td><td>0</td><td>0</td><td>0</td><td>0</td><td>1</td></tr>\n",
              "</tbody>\n",
              "</table>\n"
            ],
            "text/markdown": "\nA data.table: 6 × 78\n\n| alwaysAnxious &lt;int&gt; | alwaysStressed &lt;int&gt; | alwaysAccountableAndResponsibleForYourActions &lt;int&gt; | alwaysCalm &lt;int&gt; | myBodyIsHypermobileAndLovesToMove &lt;int&gt; | alwaysHaveFun &lt;int&gt; | alwaysSerious &lt;int&gt; | alwaysDepressed &lt;int&gt; | alwaysLoveAndCareForYourself &lt;int&gt; | extremelyGoodAbilityToSense &lt;int&gt; | ⋯ ⋯ | howOftenDoYouParticipateInSocialActivitiesIncludingClubsSportsVAt least once a week &lt;dbl&gt; | howOftenDoYouParticipateInSocialActivitiesIncludingClubsSportsVMore than three times a week &lt;dbl&gt; | howOftenDoYouParticipateInSocialActivitiesIncludingClubsSportsVNo &lt;dbl&gt; | howOftenDoYouParticipateInSocialActivitiesIncludingClubsSportsVRarely &lt;dbl&gt; | doYouFeelComfortableEngagingInConversationsWithPeopleFromDifferAlways &lt;dbl&gt; | doYouFeelComfortableEngagingInConversationsWithPeopleFromDifferNever &lt;dbl&gt; | doYouFeelComfortableEngagingInConversationsWithPeopleFromDifferRarely &lt;dbl&gt; | doYouFeelComfortableEngagingInConversationsWithPeopleFromDifferSometimes &lt;dbl&gt; | doYouFeelASenseOfPurposeAndMeaningInYourLife105No &lt;dbl&gt; | doYouFeelASenseOfPurposeAndMeaningInYourLife105Yes &lt;dbl&gt; |\n|---|---|---|---|---|---|---|---|---|---|---|---|---|---|---|---|---|---|---|---|---|\n| -1 | -1 | 1 | 1 | 0 | 0 |  0 | -1 | 1 | 1 | ⋯ | 1 | 0 | 0 | 0 | 1 | 0 | 0 | 0 | 0 | 1 |\n| -1 | -1 | 1 | 1 | 0 | 0 |  0 | -1 | 1 | 1 | ⋯ | 1 | 0 | 0 | 0 | 1 | 0 | 0 | 0 | 0 | 1 |\n| -1 | -1 | 1 | 1 | 0 | 0 |  0 | -1 | 1 | 1 | ⋯ | 1 | 0 | 0 | 0 | 1 | 0 | 0 | 0 | 0 | 1 |\n| -1 | -1 | 1 | 1 | 0 | 0 |  0 | -1 | 1 | 1 | ⋯ | 1 | 0 | 0 | 0 | 1 | 0 | 0 | 0 | 0 | 1 |\n| -2 | -2 | 1 | 1 | 0 | 1 | -1 | -1 | 2 | 1 | ⋯ | 1 | 0 | 0 | 0 | 0 | 0 | 0 | 1 | 0 | 1 |\n| -1 |  0 | 1 | 1 | 1 | 1 | -1 | -1 | 1 | 1 | ⋯ | 1 | 0 | 0 | 0 | 1 | 0 | 0 | 0 | 0 | 1 |\n\n",
            "text/latex": "A data.table: 6 × 78\n\\begin{tabular}{lllllllllllllllllllll}\n alwaysAnxious & alwaysStressed & alwaysAccountableAndResponsibleForYourActions & alwaysCalm & myBodyIsHypermobileAndLovesToMove & alwaysHaveFun & alwaysSerious & alwaysDepressed & alwaysLoveAndCareForYourself & extremelyGoodAbilityToSense & ⋯ & howOftenDoYouParticipateInSocialActivitiesIncludingClubsSportsVAt least once a week & howOftenDoYouParticipateInSocialActivitiesIncludingClubsSportsVMore than three times a week & howOftenDoYouParticipateInSocialActivitiesIncludingClubsSportsVNo & howOftenDoYouParticipateInSocialActivitiesIncludingClubsSportsVRarely & doYouFeelComfortableEngagingInConversationsWithPeopleFromDifferAlways & doYouFeelComfortableEngagingInConversationsWithPeopleFromDifferNever & doYouFeelComfortableEngagingInConversationsWithPeopleFromDifferRarely & doYouFeelComfortableEngagingInConversationsWithPeopleFromDifferSometimes & doYouFeelASenseOfPurposeAndMeaningInYourLife105No & doYouFeelASenseOfPurposeAndMeaningInYourLife105Yes\\\\\n <int> & <int> & <int> & <int> & <int> & <int> & <int> & <int> & <int> & <int> & ⋯ & <dbl> & <dbl> & <dbl> & <dbl> & <dbl> & <dbl> & <dbl> & <dbl> & <dbl> & <dbl>\\\\\n\\hline\n\t -1 & -1 & 1 & 1 & 0 & 0 &  0 & -1 & 1 & 1 & ⋯ & 1 & 0 & 0 & 0 & 1 & 0 & 0 & 0 & 0 & 1\\\\\n\t -1 & -1 & 1 & 1 & 0 & 0 &  0 & -1 & 1 & 1 & ⋯ & 1 & 0 & 0 & 0 & 1 & 0 & 0 & 0 & 0 & 1\\\\\n\t -1 & -1 & 1 & 1 & 0 & 0 &  0 & -1 & 1 & 1 & ⋯ & 1 & 0 & 0 & 0 & 1 & 0 & 0 & 0 & 0 & 1\\\\\n\t -1 & -1 & 1 & 1 & 0 & 0 &  0 & -1 & 1 & 1 & ⋯ & 1 & 0 & 0 & 0 & 1 & 0 & 0 & 0 & 0 & 1\\\\\n\t -2 & -2 & 1 & 1 & 0 & 1 & -1 & -1 & 2 & 1 & ⋯ & 1 & 0 & 0 & 0 & 0 & 0 & 0 & 1 & 0 & 1\\\\\n\t -1 &  0 & 1 & 1 & 1 & 1 & -1 & -1 & 1 & 1 & ⋯ & 1 & 0 & 0 & 0 & 1 & 0 & 0 & 0 & 0 & 1\\\\\n\\end{tabular}\n",
            "text/plain": [
              "  alwaysAnxious alwaysStressed alwaysAccountableAndResponsibleForYourActions\n",
              "1 -1            -1             1                                            \n",
              "2 -1            -1             1                                            \n",
              "3 -1            -1             1                                            \n",
              "4 -1            -1             1                                            \n",
              "5 -2            -2             1                                            \n",
              "6 -1             0             1                                            \n",
              "  alwaysCalm myBodyIsHypermobileAndLovesToMove alwaysHaveFun alwaysSerious\n",
              "1 1          0                                 0              0           \n",
              "2 1          0                                 0              0           \n",
              "3 1          0                                 0              0           \n",
              "4 1          0                                 0              0           \n",
              "5 1          0                                 1             -1           \n",
              "6 1          1                                 1             -1           \n",
              "  alwaysDepressed alwaysLoveAndCareForYourself extremelyGoodAbilityToSense ⋯\n",
              "1 -1              1                            1                           ⋯\n",
              "2 -1              1                            1                           ⋯\n",
              "3 -1              1                            1                           ⋯\n",
              "4 -1              1                            1                           ⋯\n",
              "5 -1              2                            1                           ⋯\n",
              "6 -1              1                            1                           ⋯\n",
              "  howOftenDoYouParticipateInSocialActivitiesIncludingClubsSportsVAt least once a week\n",
              "1 1                                                                                  \n",
              "2 1                                                                                  \n",
              "3 1                                                                                  \n",
              "4 1                                                                                  \n",
              "5 1                                                                                  \n",
              "6 1                                                                                  \n",
              "  howOftenDoYouParticipateInSocialActivitiesIncludingClubsSportsVMore than three times a week\n",
              "1 0                                                                                          \n",
              "2 0                                                                                          \n",
              "3 0                                                                                          \n",
              "4 0                                                                                          \n",
              "5 0                                                                                          \n",
              "6 0                                                                                          \n",
              "  howOftenDoYouParticipateInSocialActivitiesIncludingClubsSportsVNo\n",
              "1 0                                                                \n",
              "2 0                                                                \n",
              "3 0                                                                \n",
              "4 0                                                                \n",
              "5 0                                                                \n",
              "6 0                                                                \n",
              "  howOftenDoYouParticipateInSocialActivitiesIncludingClubsSportsVRarely\n",
              "1 0                                                                    \n",
              "2 0                                                                    \n",
              "3 0                                                                    \n",
              "4 0                                                                    \n",
              "5 0                                                                    \n",
              "6 0                                                                    \n",
              "  doYouFeelComfortableEngagingInConversationsWithPeopleFromDifferAlways\n",
              "1 1                                                                    \n",
              "2 1                                                                    \n",
              "3 1                                                                    \n",
              "4 1                                                                    \n",
              "5 0                                                                    \n",
              "6 1                                                                    \n",
              "  doYouFeelComfortableEngagingInConversationsWithPeopleFromDifferNever\n",
              "1 0                                                                   \n",
              "2 0                                                                   \n",
              "3 0                                                                   \n",
              "4 0                                                                   \n",
              "5 0                                                                   \n",
              "6 0                                                                   \n",
              "  doYouFeelComfortableEngagingInConversationsWithPeopleFromDifferRarely\n",
              "1 0                                                                    \n",
              "2 0                                                                    \n",
              "3 0                                                                    \n",
              "4 0                                                                    \n",
              "5 0                                                                    \n",
              "6 0                                                                    \n",
              "  doYouFeelComfortableEngagingInConversationsWithPeopleFromDifferSometimes\n",
              "1 0                                                                       \n",
              "2 0                                                                       \n",
              "3 0                                                                       \n",
              "4 0                                                                       \n",
              "5 1                                                                       \n",
              "6 0                                                                       \n",
              "  doYouFeelASenseOfPurposeAndMeaningInYourLife105No\n",
              "1 0                                                \n",
              "2 0                                                \n",
              "3 0                                                \n",
              "4 0                                                \n",
              "5 0                                                \n",
              "6 0                                                \n",
              "  doYouFeelASenseOfPurposeAndMeaningInYourLife105Yes\n",
              "1 1                                                 \n",
              "2 1                                                 \n",
              "3 1                                                 \n",
              "4 1                                                 \n",
              "5 1                                                 \n",
              "6 1                                                 "
            ]
          },
          "metadata": {}
        }
      ]
    },
    {
      "cell_type": "markdown",
      "source": [
        "##### Test Predictions Generation"
      ],
      "metadata": {
        "id": "EfXVfEGhFM5E"
      }
    },
    {
      "cell_type": "code",
      "source": [
        "# Build the actual test set for the model\n",
        "clas_dtest <- xgb.DMatrix(data = as.matrix(ohe_clas_test_data))\n",
        "clas_dtest\n",
        "\n",
        "# Make predictions on the test set\n",
        "test_predictions <- predict(clas_xgb_model, clas_dtest) - 2\n",
        "test_predictions"
      ],
      "metadata": {
        "colab": {
          "base_uri": "https://localhost:8080/",
          "height": 69
        },
        "id": "tMn25S0YBChX",
        "outputId": "15494151-c812-4b96-9c9e-f067015dc518"
      },
      "execution_count": 211,
      "outputs": [
        {
          "output_type": "display_data",
          "data": {
            "text/plain": [
              "xgb.DMatrix  dim: 95 x 78  info: NA  colnames: yes"
            ]
          },
          "metadata": {}
        },
        {
          "output_type": "display_data",
          "data": {
            "text/html": [
              "<style>\n",
              ".list-inline {list-style: none; margin:0; padding: 0}\n",
              ".list-inline>li {display: inline-block}\n",
              ".list-inline>li:not(:last-child)::after {content: \"\\00b7\"; padding: 0 .5ex}\n",
              "</style>\n",
              "<ol class=list-inline><li>1</li><li>1</li><li>1</li><li>1</li><li>1</li><li>1</li><li>-2</li><li>-1</li><li>0</li><li>-2</li><li>-1</li><li>1</li><li>0</li><li>0</li><li>0</li><li>0</li><li>0</li><li>1</li><li>0</li><li>2</li><li>-1</li><li>2</li><li>2</li><li>0</li><li>0</li><li>1</li><li>0</li><li>-1</li><li>0</li><li>0</li><li>2</li><li>0</li><li>1</li><li>-1</li><li>0</li><li>0</li><li>0</li><li>1</li><li>1</li><li>0</li><li>1</li><li>1</li><li>-1</li><li>1</li><li>2</li><li>0</li><li>-1</li><li>0</li><li>0</li><li>0</li><li>0</li><li>0</li><li>0</li><li>0</li><li>-1</li><li>0</li><li>0</li><li>-2</li><li>-1</li><li>1</li><li>0</li><li>-1</li><li>-1</li><li>0</li><li>0</li><li>1</li><li>0</li><li>0</li><li>1</li><li>-1</li><li>0</li><li>0</li><li>-1</li><li>1</li><li>0</li><li>0</li><li>0</li><li>1</li><li>1</li><li>1</li><li>0</li><li>0</li><li>0</li><li>0</li><li>0</li><li>1</li><li>1</li><li>2</li><li>0</li><li>0</li><li>0</li><li>0</li><li>-2</li><li>1</li><li>1</li></ol>\n"
            ],
            "text/markdown": "1. 1\n2. 1\n3. 1\n4. 1\n5. 1\n6. 1\n7. -2\n8. -1\n9. 0\n10. -2\n11. -1\n12. 1\n13. 0\n14. 0\n15. 0\n16. 0\n17. 0\n18. 1\n19. 0\n20. 2\n21. -1\n22. 2\n23. 2\n24. 0\n25. 0\n26. 1\n27. 0\n28. -1\n29. 0\n30. 0\n31. 2\n32. 0\n33. 1\n34. -1\n35. 0\n36. 0\n37. 0\n38. 1\n39. 1\n40. 0\n41. 1\n42. 1\n43. -1\n44. 1\n45. 2\n46. 0\n47. -1\n48. 0\n49. 0\n50. 0\n51. 0\n52. 0\n53. 0\n54. 0\n55. -1\n56. 0\n57. 0\n58. -2\n59. -1\n60. 1\n61. 0\n62. -1\n63. -1\n64. 0\n65. 0\n66. 1\n67. 0\n68. 0\n69. 1\n70. -1\n71. 0\n72. 0\n73. -1\n74. 1\n75. 0\n76. 0\n77. 0\n78. 1\n79. 1\n80. 1\n81. 0\n82. 0\n83. 0\n84. 0\n85. 0\n86. 1\n87. 1\n88. 2\n89. 0\n90. 0\n91. 0\n92. 0\n93. -2\n94. 1\n95. 1\n\n\n",
            "text/latex": "\\begin{enumerate*}\n\\item 1\n\\item 1\n\\item 1\n\\item 1\n\\item 1\n\\item 1\n\\item -2\n\\item -1\n\\item 0\n\\item -2\n\\item -1\n\\item 1\n\\item 0\n\\item 0\n\\item 0\n\\item 0\n\\item 0\n\\item 1\n\\item 0\n\\item 2\n\\item -1\n\\item 2\n\\item 2\n\\item 0\n\\item 0\n\\item 1\n\\item 0\n\\item -1\n\\item 0\n\\item 0\n\\item 2\n\\item 0\n\\item 1\n\\item -1\n\\item 0\n\\item 0\n\\item 0\n\\item 1\n\\item 1\n\\item 0\n\\item 1\n\\item 1\n\\item -1\n\\item 1\n\\item 2\n\\item 0\n\\item -1\n\\item 0\n\\item 0\n\\item 0\n\\item 0\n\\item 0\n\\item 0\n\\item 0\n\\item -1\n\\item 0\n\\item 0\n\\item -2\n\\item -1\n\\item 1\n\\item 0\n\\item -1\n\\item -1\n\\item 0\n\\item 0\n\\item 1\n\\item 0\n\\item 0\n\\item 1\n\\item -1\n\\item 0\n\\item 0\n\\item -1\n\\item 1\n\\item 0\n\\item 0\n\\item 0\n\\item 1\n\\item 1\n\\item 1\n\\item 0\n\\item 0\n\\item 0\n\\item 0\n\\item 0\n\\item 1\n\\item 1\n\\item 2\n\\item 0\n\\item 0\n\\item 0\n\\item 0\n\\item -2\n\\item 1\n\\item 1\n\\end{enumerate*}\n",
            "text/plain": [
              " [1]  1  1  1  1  1  1 -2 -1  0 -2 -1  1  0  0  0  0  0  1  0  2 -1  2  2  0  0\n",
              "[26]  1  0 -1  0  0  2  0  1 -1  0  0  0  1  1  0  1  1 -1  1  2  0 -1  0  0  0\n",
              "[51]  0  0  0  0 -1  0  0 -2 -1  1  0 -1 -1  0  0  1  0  0  1 -1  0  0 -1  1  0\n",
              "[76]  0  0  1  1  1  0  0  0  0  0  1  1  2  0  0  0  0 -2  1  1"
            ]
          },
          "metadata": {}
        }
      ]
    },
    {
      "cell_type": "markdown",
      "source": [
        "**NOTE**:\n",
        "- My public leaderboard score for the model built above is **0.59583**."
      ],
      "metadata": {
        "id": "z2sO9FVGIU59"
      }
    },
    {
      "cell_type": "code",
      "source": [
        "# Load in the train and test classification data.\n",
        "test <- clas_dtest\n",
        "\n",
        "# Build your final model here, use additional coding blocks if you need to\n",
        "fin.mod <- clas_xgb_model\n",
        "\n",
        "# If you are using any packages that perform the prediction differently, please change this line of code accordingly.\n",
        "pred.label <- predict(fin.mod, test) - 2\n",
        "# put these predicted labels in a csv file that you can use to commit to the Kaggle Leaderboard\n",
        "write.csv(\n",
        "    data.frame(\"RowIndex\" = seq(1, length(pred.label)), \"Prediction\" = pred.label),\n",
        "    \"ClassificationPredictLabel_XGBoost_tunedFinal.csv\",\n",
        "    row.names = F\n",
        ")"
      ],
      "metadata": {
        "id": "ASnxzLJuBNng"
      },
      "execution_count": 212,
      "outputs": []
    },
    {
      "cell_type": "code",
      "execution_count": null,
      "metadata": {
        "vscode": {
          "languageId": "r"
        },
        "id": "hzuF7ia2i3NB"
      },
      "outputs": [],
      "source": [
        "## PLEASE DO NOT ALTER THIS CODE BLOCK, YOU ARE REQUIRED TO HAVE THIS CODE BLOCK IN YOUR JUPYTER NOTEBOOK SUBMISSION\n",
        "## Please skip (don't run) this if you are a student\n",
        "## For teaching team use only\n",
        "\n",
        "truths <- tryCatch(\n",
        "    {\n",
        "        read.csv(\"../classification_test_label.csv\")\n",
        "    },\n",
        "    error = function(e){\n",
        "        read.csv(\"classification_test_label.csv\")\n",
        "    }\n",
        ")\n",
        "\n",
        "f1_score <- F1_Score(truths$x, pred.label)\n",
        "cat(paste(\"f1_score is\", f1_score))"
      ]
    }
  ],
  "metadata": {
    "colab": {
      "provenance": []
    },
    "kernelspec": {
      "display_name": "R",
      "language": "R",
      "name": "ir"
    },
    "language_info": {
      "codemirror_mode": "r",
      "file_extension": ".r",
      "mimetype": "text/x-r-source",
      "name": "R",
      "pygments_lexer": "r",
      "version": "3.6.1"
    }
  },
  "nbformat": 4,
  "nbformat_minor": 0
}